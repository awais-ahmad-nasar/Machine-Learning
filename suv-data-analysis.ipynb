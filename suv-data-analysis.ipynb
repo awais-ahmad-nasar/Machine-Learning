{
 "cells": [
  {
   "cell_type": "markdown",
   "id": "b435227a",
   "metadata": {
    "papermill": {
     "duration": 0.016611,
     "end_time": "2023-07-19T06:13:15.240374",
     "exception": false,
     "start_time": "2023-07-19T06:13:15.223763",
     "status": "completed"
    },
    "tags": []
   },
   "source": [
    "# SUV dataset"
   ]
  },
  {
   "cell_type": "markdown",
   "id": "a0d347ae",
   "metadata": {
    "papermill": {
     "duration": 0.014044,
     "end_time": "2023-07-19T06:13:15.268890",
     "exception": false,
     "start_time": "2023-07-19T06:13:15.254846",
     "status": "completed"
    },
    "tags": []
   },
   "source": [
    "## Importing Libraries"
   ]
  },
  {
   "cell_type": "code",
   "execution_count": 1,
   "id": "f5285f11",
   "metadata": {
    "ExecuteTime": {
     "end_time": "2023-02-15T13:54:57.895289Z",
     "start_time": "2023-02-15T13:54:41.221925Z"
    },
    "execution": {
     "iopub.execute_input": "2023-07-19T06:13:15.299821Z",
     "iopub.status.busy": "2023-07-19T06:13:15.299275Z",
     "iopub.status.idle": "2023-07-19T06:13:16.689533Z",
     "shell.execute_reply": "2023-07-19T06:13:16.688238Z"
    },
    "papermill": {
     "duration": 1.409131,
     "end_time": "2023-07-19T06:13:16.692381",
     "exception": false,
     "start_time": "2023-07-19T06:13:15.283250",
     "status": "completed"
    },
    "tags": []
   },
   "outputs": [],
   "source": [
    "import numpy as np\n",
    "import pandas as pd\n",
    "import matplotlib.pyplot as plt\n",
    "import seaborn as sns\n",
    "\n"
   ]
  },
  {
   "cell_type": "markdown",
   "id": "5c0b8a58",
   "metadata": {
    "papermill": {
     "duration": 0.014225,
     "end_time": "2023-07-19T06:13:16.721149",
     "exception": false,
     "start_time": "2023-07-19T06:13:16.706924",
     "status": "completed"
    },
    "tags": []
   },
   "source": [
    "## Loading  dataset"
   ]
  },
  {
   "cell_type": "code",
   "execution_count": 2,
   "id": "8dda0e13",
   "metadata": {
    "ExecuteTime": {
     "end_time": "2023-02-15T13:54:58.051071Z",
     "start_time": "2023-02-15T13:54:57.895289Z"
    },
    "execution": {
     "iopub.execute_input": "2023-07-19T06:13:16.752247Z",
     "iopub.status.busy": "2023-07-19T06:13:16.751611Z",
     "iopub.status.idle": "2023-07-19T06:13:16.778598Z",
     "shell.execute_reply": "2023-07-19T06:13:16.777670Z"
    },
    "papermill": {
     "duration": 0.045718,
     "end_time": "2023-07-19T06:13:16.781367",
     "exception": false,
     "start_time": "2023-07-19T06:13:16.735649",
     "status": "completed"
    },
    "tags": []
   },
   "outputs": [],
   "source": [
    "suv_df = pd.read_csv('B:\\MY Documents\\suv-data\\suv_data.csv')"
   ]
  },
  {
   "cell_type": "code",
   "execution_count": 3,
   "id": "0c40b43b",
   "metadata": {
    "ExecuteTime": {
     "end_time": "2023-02-15T13:54:58.301003Z",
     "start_time": "2023-02-15T13:54:58.051071Z"
    },
    "execution": {
     "iopub.execute_input": "2023-07-19T06:13:16.812895Z",
     "iopub.status.busy": "2023-07-19T06:13:16.812212Z",
     "iopub.status.idle": "2023-07-19T06:13:16.843877Z",
     "shell.execute_reply": "2023-07-19T06:13:16.842399Z"
    },
    "papermill": {
     "duration": 0.050518,
     "end_time": "2023-07-19T06:13:16.846451",
     "exception": false,
     "start_time": "2023-07-19T06:13:16.795933",
     "status": "completed"
    },
    "tags": []
   },
   "outputs": [
    {
     "name": "stdout",
     "output_type": "stream",
     "text": [
      "<class 'pandas.core.frame.DataFrame'>\n",
      "RangeIndex: 400 entries, 0 to 399\n",
      "Data columns (total 5 columns):\n",
      " #   Column           Non-Null Count  Dtype \n",
      "---  ------           --------------  ----- \n",
      " 0   User ID          400 non-null    int64 \n",
      " 1   Gender           400 non-null    object\n",
      " 2   Age              400 non-null    int64 \n",
      " 3   EstimatedSalary  400 non-null    int64 \n",
      " 4   Purchased        400 non-null    int64 \n",
      "dtypes: int64(4), object(1)\n",
      "memory usage: 15.8+ KB\n"
     ]
    }
   ],
   "source": [
    "suv_df.info()"
   ]
  },
  {
   "cell_type": "markdown",
   "id": "8f3da5de",
   "metadata": {
    "papermill": {
     "duration": 0.014198,
     "end_time": "2023-07-19T06:13:16.875160",
     "exception": false,
     "start_time": "2023-07-19T06:13:16.860962",
     "status": "completed"
    },
    "tags": []
   },
   "source": [
    "## Exploratory Data Analysis (EDA)"
   ]
  },
  {
   "cell_type": "code",
   "execution_count": 4,
   "id": "bd747f76",
   "metadata": {
    "ExecuteTime": {
     "end_time": "2023-02-15T13:54:58.394687Z",
     "start_time": "2023-02-15T13:54:58.301003Z"
    },
    "execution": {
     "iopub.execute_input": "2023-07-19T06:13:16.906089Z",
     "iopub.status.busy": "2023-07-19T06:13:16.905650Z",
     "iopub.status.idle": "2023-07-19T06:13:16.930695Z",
     "shell.execute_reply": "2023-07-19T06:13:16.929492Z"
    },
    "papermill": {
     "duration": 0.043524,
     "end_time": "2023-07-19T06:13:16.933197",
     "exception": false,
     "start_time": "2023-07-19T06:13:16.889673",
     "status": "completed"
    },
    "tags": []
   },
   "outputs": [
    {
     "data": {
      "text/html": [
       "<div>\n",
       "<style scoped>\n",
       "    .dataframe tbody tr th:only-of-type {\n",
       "        vertical-align: middle;\n",
       "    }\n",
       "\n",
       "    .dataframe tbody tr th {\n",
       "        vertical-align: top;\n",
       "    }\n",
       "\n",
       "    .dataframe thead th {\n",
       "        text-align: right;\n",
       "    }\n",
       "</style>\n",
       "<table border=\"1\" class=\"dataframe\">\n",
       "  <thead>\n",
       "    <tr style=\"text-align: right;\">\n",
       "      <th></th>\n",
       "      <th>User ID</th>\n",
       "      <th>Gender</th>\n",
       "      <th>Age</th>\n",
       "      <th>EstimatedSalary</th>\n",
       "      <th>Purchased</th>\n",
       "    </tr>\n",
       "  </thead>\n",
       "  <tbody>\n",
       "    <tr>\n",
       "      <th>0</th>\n",
       "      <td>15624510</td>\n",
       "      <td>Male</td>\n",
       "      <td>19</td>\n",
       "      <td>19000</td>\n",
       "      <td>0</td>\n",
       "    </tr>\n",
       "    <tr>\n",
       "      <th>1</th>\n",
       "      <td>15810944</td>\n",
       "      <td>Male</td>\n",
       "      <td>35</td>\n",
       "      <td>20000</td>\n",
       "      <td>0</td>\n",
       "    </tr>\n",
       "    <tr>\n",
       "      <th>2</th>\n",
       "      <td>15668575</td>\n",
       "      <td>Female</td>\n",
       "      <td>26</td>\n",
       "      <td>43000</td>\n",
       "      <td>0</td>\n",
       "    </tr>\n",
       "    <tr>\n",
       "      <th>3</th>\n",
       "      <td>15603246</td>\n",
       "      <td>Female</td>\n",
       "      <td>27</td>\n",
       "      <td>57000</td>\n",
       "      <td>0</td>\n",
       "    </tr>\n",
       "    <tr>\n",
       "      <th>4</th>\n",
       "      <td>15804002</td>\n",
       "      <td>Male</td>\n",
       "      <td>19</td>\n",
       "      <td>76000</td>\n",
       "      <td>0</td>\n",
       "    </tr>\n",
       "  </tbody>\n",
       "</table>\n",
       "</div>"
      ],
      "text/plain": [
       "    User ID  Gender  Age  EstimatedSalary  Purchased\n",
       "0  15624510    Male   19            19000          0\n",
       "1  15810944    Male   35            20000          0\n",
       "2  15668575  Female   26            43000          0\n",
       "3  15603246  Female   27            57000          0\n",
       "4  15804002    Male   19            76000          0"
      ]
     },
     "execution_count": 4,
     "metadata": {},
     "output_type": "execute_result"
    }
   ],
   "source": [
    "suv_df.head()"
   ]
  },
  {
   "cell_type": "code",
   "execution_count": 5,
   "id": "d1ee9739",
   "metadata": {
    "ExecuteTime": {
     "end_time": "2023-02-15T13:54:59.89437Z",
     "start_time": "2023-02-15T13:54:58.394687Z"
    },
    "execution": {
     "iopub.execute_input": "2023-07-19T06:13:16.965514Z",
     "iopub.status.busy": "2023-07-19T06:13:16.964891Z",
     "iopub.status.idle": "2023-07-19T06:13:17.170081Z",
     "shell.execute_reply": "2023-07-19T06:13:17.168887Z"
    },
    "papermill": {
     "duration": 0.224646,
     "end_time": "2023-07-19T06:13:17.172956",
     "exception": false,
     "start_time": "2023-07-19T06:13:16.948310",
     "status": "completed"
    },
    "tags": []
   },
   "outputs": [
    {
     "data": {
      "image/png": "[encoded data removed]",
      "text/plain": [
       "<Figure size 640x480 with 1 Axes>"
      ]
     },
     "metadata": {},
     "output_type": "display_data"
    }
   ],
   "source": [
    "sns.countplot(x='Purchased', data=suv_df)\n",
    "plt.show()"
   ]
  },
  {
   "cell_type": "code",
   "execution_count": 6,
   "id": "54e5684e",
   "metadata": {
    "ExecuteTime": {
     "end_time": "2023-02-15T13:55:00.42549Z",
     "start_time": "2023-02-15T13:54:59.89437Z"
    },
    "execution": {
     "iopub.execute_input": "2023-07-19T06:13:17.206412Z",
     "iopub.status.busy": "2023-07-19T06:13:17.205177Z",
     "iopub.status.idle": "2023-07-19T06:13:17.403287Z",
     "shell.execute_reply": "2023-07-19T06:13:17.401750Z"
    },
    "papermill": {
     "duration": 0.218903,
     "end_time": "2023-07-19T06:13:17.407374",
     "exception": false,
     "start_time": "2023-07-19T06:13:17.188471",
     "status": "completed"
    },
    "tags": []
   },
   "outputs": [
    {
     "data": {
      "image/png": "[encoded data removed]",
      "text/plain": [
       "<Figure size 640x480 with 1 Axes>"
      ]
     },
     "metadata": {},
     "output_type": "display_data"
    }
   ],
   "source": [
    "suv_df['Gender'].value_counts().plot.pie(explode=[0.02, 0], autopct='%.1f%%')\n",
    "plt.show()"
   ]
  },
  {
   "cell_type": "code",
   "execution_count": 7,
   "id": "38ab9096",
   "metadata": {
    "ExecuteTime": {
     "end_time": "2023-02-15T13:55:00.644467Z",
     "start_time": "2023-02-15T13:55:00.42549Z"
    },
    "execution": {
     "iopub.execute_input": "2023-07-19T06:13:17.474449Z",
     "iopub.status.busy": "2023-07-19T06:13:17.473277Z",
     "iopub.status.idle": "2023-07-19T06:13:17.702218Z",
     "shell.execute_reply": "2023-07-19T06:13:17.700961Z"
    },
    "papermill": {
     "duration": 0.26355,
     "end_time": "2023-07-19T06:13:17.705019",
     "exception": false,
     "start_time": "2023-07-19T06:13:17.441469",
     "status": "completed"
    },
    "tags": []
   },
   "outputs": [
    {
     "data": {
      "image/png": "[encoded data removed]",
      "text/plain": [
       "<Figure size 640x480 with 1 Axes>"
      ]
     },
     "metadata": {},
     "output_type": "display_data"
    }
   ],
   "source": [
    "sns.countplot(x='Purchased', hue='Gender', data=suv_df)\n",
    "plt.show()"
   ]
  },
  {
   "cell_type": "code",
   "execution_count": 8,
   "id": "43c16da6",
   "metadata": {
    "ExecuteTime": {
     "end_time": "2023-02-15T13:55:00.847231Z",
     "start_time": "2023-02-15T13:55:00.644467Z"
    },
    "execution": {
     "iopub.execute_input": "2023-07-19T06:13:17.738953Z",
     "iopub.status.busy": "2023-07-19T06:13:17.738530Z",
     "iopub.status.idle": "2023-07-19T06:13:17.955593Z",
     "shell.execute_reply": "2023-07-19T06:13:17.954516Z"
    },
    "papermill": {
     "duration": 0.237056,
     "end_time": "2023-07-19T06:13:17.958218",
     "exception": false,
     "start_time": "2023-07-19T06:13:17.721162",
     "status": "completed"
    },
    "tags": []
   },
   "outputs": [
    {
     "data": {
      "image/png": "[encoded data removed]",
      "text/plain": [
       "<Figure size 640x480 with 1 Axes>"
      ]
     },
     "metadata": {},
     "output_type": "display_data"
    }
   ],
   "source": [
    "sns.boxplot(x='Purchased', y='EstimatedSalary', data=suv_df)\n",
    "plt.show()"
   ]
  },
  {
   "cell_type": "code",
   "execution_count": 9,
   "id": "0466fa92",
   "metadata": {
    "ExecuteTime": {
     "end_time": "2023-02-15T13:55:01.065964Z",
     "start_time": "2023-02-15T13:55:00.847231Z"
    },
    "execution": {
     "iopub.execute_input": "2023-07-19T06:13:17.992097Z",
     "iopub.status.busy": "2023-07-19T06:13:17.991708Z",
     "iopub.status.idle": "2023-07-19T06:13:18.241488Z",
     "shell.execute_reply": "2023-07-19T06:13:18.240431Z"
    },
    "papermill": {
     "duration": 0.269706,
     "end_time": "2023-07-19T06:13:18.244025",
     "exception": false,
     "start_time": "2023-07-19T06:13:17.974319",
     "status": "completed"
    },
    "tags": []
   },
   "outputs": [
    {
     "data": {
      "image/png": "[encoded data removed]",
      "text/plain": [
       "<Figure size 640x480 with 1 Axes>"
      ]
     },
     "metadata": {},
     "output_type": "display_data"
    }
   ],
   "source": [
    "suv_df['Age'].plot.hist(bins=20)\n",
    "plt.show()"
   ]
  },
  {
   "cell_type": "code",
   "execution_count": 10,
   "id": "2e3c11c0",
   "metadata": {
    "ExecuteTime": {
     "end_time": "2023-02-15T13:55:01.081585Z",
     "start_time": "2023-02-15T13:55:01.065964Z"
    },
    "execution": {
     "iopub.execute_input": "2023-07-19T06:13:18.279369Z",
     "iopub.status.busy": "2023-07-19T06:13:18.278893Z",
     "iopub.status.idle": "2023-07-19T06:13:18.289950Z",
     "shell.execute_reply": "2023-07-19T06:13:18.288447Z"
    },
    "papermill": {
     "duration": 0.032566,
     "end_time": "2023-07-19T06:13:18.293066",
     "exception": false,
     "start_time": "2023-07-19T06:13:18.260500",
     "status": "completed"
    },
    "tags": []
   },
   "outputs": [],
   "source": [
    "age = suv_df['Age'].apply(lambda x: 'Adult' if x < 35 else 'Youth')"
   ]
  },
  {
   "cell_type": "code",
   "execution_count": 11,
   "id": "e1ef20eb",
   "metadata": {
    "ExecuteTime": {
     "end_time": "2023-02-15T13:55:01.243384Z",
     "start_time": "2023-02-15T13:55:01.081585Z"
    },
    "execution": {
     "iopub.execute_input": "2023-07-19T06:13:18.328779Z",
     "iopub.status.busy": "2023-07-19T06:13:18.328339Z",
     "iopub.status.idle": "2023-07-19T06:13:18.572838Z",
     "shell.execute_reply": "2023-07-19T06:13:18.571673Z"
    },
    "papermill": {
     "duration": 0.265602,
     "end_time": "2023-07-19T06:13:18.575403",
     "exception": false,
     "start_time": "2023-07-19T06:13:18.309801",
     "status": "completed"
    },
    "tags": []
   },
   "outputs": [
    {
     "data": {
      "image/png": "[encoded data removed]",
      "text/plain": [
       "<Figure size 640x480 with 1 Axes>"
      ]
     },
     "metadata": {},
     "output_type": "display_data"
    }
   ],
   "source": [
    "sns.countplot(x=suv_df['Purchased'], hue=age)\n",
    "plt.show()"
   ]
  },
  {
   "cell_type": "markdown",
   "id": "508e3331",
   "metadata": {
    "papermill": {
     "duration": 0.016181,
     "end_time": "2023-07-19T06:13:18.608082",
     "exception": false,
     "start_time": "2023-07-19T06:13:18.591901",
     "status": "completed"
    },
    "tags": []
   },
   "source": [
    "## Data Wrangling"
   ]
  },
  {
   "cell_type": "code",
   "execution_count": 12,
   "id": "f8ff3675",
   "metadata": {
    "ExecuteTime": {
     "end_time": "2023-02-15T13:55:01.274551Z",
     "start_time": "2023-02-15T13:55:01.243384Z"
    },
    "execution": {
     "iopub.execute_input": "2023-07-19T06:13:18.643647Z",
     "iopub.status.busy": "2023-07-19T06:13:18.642569Z",
     "iopub.status.idle": "2023-07-19T06:13:18.654563Z",
     "shell.execute_reply": "2023-07-19T06:13:18.653771Z"
    },
    "papermill": {
     "duration": 0.032179,
     "end_time": "2023-07-19T06:13:18.656843",
     "exception": false,
     "start_time": "2023-07-19T06:13:18.624664",
     "status": "completed"
    },
    "tags": []
   },
   "outputs": [
    {
     "data": {
      "text/html": [
       "<div>\n",
       "<style scoped>\n",
       "    .dataframe tbody tr th:only-of-type {\n",
       "        vertical-align: middle;\n",
       "    }\n",
       "\n",
       "    .dataframe tbody tr th {\n",
       "        vertical-align: top;\n",
       "    }\n",
       "\n",
       "    .dataframe thead th {\n",
       "        text-align: right;\n",
       "    }\n",
       "</style>\n",
       "<table border=\"1\" class=\"dataframe\">\n",
       "  <thead>\n",
       "    <tr style=\"text-align: right;\">\n",
       "      <th></th>\n",
       "      <th>User ID</th>\n",
       "      <th>Gender</th>\n",
       "      <th>Age</th>\n",
       "      <th>EstimatedSalary</th>\n",
       "      <th>Purchased</th>\n",
       "    </tr>\n",
       "  </thead>\n",
       "  <tbody>\n",
       "    <tr>\n",
       "      <th>0</th>\n",
       "      <td>15624510</td>\n",
       "      <td>Male</td>\n",
       "      <td>19</td>\n",
       "      <td>19000</td>\n",
       "      <td>0</td>\n",
       "    </tr>\n",
       "    <tr>\n",
       "      <th>1</th>\n",
       "      <td>15810944</td>\n",
       "      <td>Male</td>\n",
       "      <td>35</td>\n",
       "      <td>20000</td>\n",
       "      <td>0</td>\n",
       "    </tr>\n",
       "    <tr>\n",
       "      <th>2</th>\n",
       "      <td>15668575</td>\n",
       "      <td>Female</td>\n",
       "      <td>26</td>\n",
       "      <td>43000</td>\n",
       "      <td>0</td>\n",
       "    </tr>\n",
       "    <tr>\n",
       "      <th>3</th>\n",
       "      <td>15603246</td>\n",
       "      <td>Female</td>\n",
       "      <td>27</td>\n",
       "      <td>57000</td>\n",
       "      <td>0</td>\n",
       "    </tr>\n",
       "    <tr>\n",
       "      <th>4</th>\n",
       "      <td>15804002</td>\n",
       "      <td>Male</td>\n",
       "      <td>19</td>\n",
       "      <td>76000</td>\n",
       "      <td>0</td>\n",
       "    </tr>\n",
       "  </tbody>\n",
       "</table>\n",
       "</div>"
      ],
      "text/plain": [
       "    User ID  Gender  Age  EstimatedSalary  Purchased\n",
       "0  15624510    Male   19            19000          0\n",
       "1  15810944    Male   35            20000          0\n",
       "2  15668575  Female   26            43000          0\n",
       "3  15603246  Female   27            57000          0\n",
       "4  15804002    Male   19            76000          0"
      ]
     },
     "execution_count": 12,
     "metadata": {},
     "output_type": "execute_result"
    }
   ],
   "source": [
    "suv_df.head()"
   ]
  },
  {
   "cell_type": "code",
   "execution_count": 13,
   "id": "156508a8",
   "metadata": {
    "ExecuteTime": {
     "end_time": "2023-02-15T13:55:01.30528Z",
     "start_time": "2023-02-15T13:55:01.274551Z"
    },
    "execution": {
     "iopub.execute_input": "2023-07-19T06:13:18.695524Z",
     "iopub.status.busy": "2023-07-19T06:13:18.694393Z",
     "iopub.status.idle": "2023-07-19T06:13:18.700168Z",
     "shell.execute_reply": "2023-07-19T06:13:18.699403Z"
    },
    "papermill": {
     "duration": 0.026099,
     "end_time": "2023-07-19T06:13:18.702333",
     "exception": false,
     "start_time": "2023-07-19T06:13:18.676234",
     "status": "completed"
    },
    "tags": []
   },
   "outputs": [],
   "source": [
    "# dropping column irrelevant to the analysis\n",
    "suv_df.drop('User ID', axis=1, inplace=True)"
   ]
  },
  {
   "cell_type": "code",
   "execution_count": 14,
   "id": "e6d3c8f0",
   "metadata": {
    "ExecuteTime": {
     "end_time": "2023-02-15T13:55:01.320909Z",
     "start_time": "2023-02-15T13:55:01.30528Z"
    },
    "execution": {
     "iopub.execute_input": "2023-07-19T06:13:18.738228Z",
     "iopub.status.busy": "2023-07-19T06:13:18.737527Z",
     "iopub.status.idle": "2023-07-19T06:13:18.748827Z",
     "shell.execute_reply": "2023-07-19T06:13:18.747665Z"
    },
    "papermill": {
     "duration": 0.031977,
     "end_time": "2023-07-19T06:13:18.751316",
     "exception": false,
     "start_time": "2023-07-19T06:13:18.719339",
     "status": "completed"
    },
    "tags": []
   },
   "outputs": [
    {
     "data": {
      "text/html": [
       "<div>\n",
       "<style scoped>\n",
       "    .dataframe tbody tr th:only-of-type {\n",
       "        vertical-align: middle;\n",
       "    }\n",
       "\n",
       "    .dataframe tbody tr th {\n",
       "        vertical-align: top;\n",
       "    }\n",
       "\n",
       "    .dataframe thead th {\n",
       "        text-align: right;\n",
       "    }\n",
       "</style>\n",
       "<table border=\"1\" class=\"dataframe\">\n",
       "  <thead>\n",
       "    <tr style=\"text-align: right;\">\n",
       "      <th></th>\n",
       "      <th>Gender</th>\n",
       "      <th>Age</th>\n",
       "      <th>EstimatedSalary</th>\n",
       "      <th>Purchased</th>\n",
       "    </tr>\n",
       "  </thead>\n",
       "  <tbody>\n",
       "    <tr>\n",
       "      <th>0</th>\n",
       "      <td>Male</td>\n",
       "      <td>19</td>\n",
       "      <td>19000</td>\n",
       "      <td>0</td>\n",
       "    </tr>\n",
       "    <tr>\n",
       "      <th>1</th>\n",
       "      <td>Male</td>\n",
       "      <td>35</td>\n",
       "      <td>20000</td>\n",
       "      <td>0</td>\n",
       "    </tr>\n",
       "    <tr>\n",
       "      <th>2</th>\n",
       "      <td>Female</td>\n",
       "      <td>26</td>\n",
       "      <td>43000</td>\n",
       "      <td>0</td>\n",
       "    </tr>\n",
       "    <tr>\n",
       "      <th>3</th>\n",
       "      <td>Female</td>\n",
       "      <td>27</td>\n",
       "      <td>57000</td>\n",
       "      <td>0</td>\n",
       "    </tr>\n",
       "    <tr>\n",
       "      <th>4</th>\n",
       "      <td>Male</td>\n",
       "      <td>19</td>\n",
       "      <td>76000</td>\n",
       "      <td>0</td>\n",
       "    </tr>\n",
       "  </tbody>\n",
       "</table>\n",
       "</div>"
      ],
      "text/plain": [
       "   Gender  Age  EstimatedSalary  Purchased\n",
       "0    Male   19            19000          0\n",
       "1    Male   35            20000          0\n",
       "2  Female   26            43000          0\n",
       "3  Female   27            57000          0\n",
       "4    Male   19            76000          0"
      ]
     },
     "execution_count": 14,
     "metadata": {},
     "output_type": "execute_result"
    }
   ],
   "source": [
    "suv_df.head()"
   ]
  },
  {
   "cell_type": "code",
   "execution_count": 15,
   "id": "b44511e0",
   "metadata": {
    "ExecuteTime": {
     "end_time": "2023-02-15T13:55:01.34557Z",
     "start_time": "2023-02-15T13:55:01.320909Z"
    },
    "execution": {
     "iopub.execute_input": "2023-07-19T06:13:18.788970Z",
     "iopub.status.busy": "2023-07-19T06:13:18.788575Z",
     "iopub.status.idle": "2023-07-19T06:13:18.795172Z",
     "shell.execute_reply": "2023-07-19T06:13:18.794064Z"
    },
    "papermill": {
     "duration": 0.028384,
     "end_time": "2023-07-19T06:13:18.797731",
     "exception": false,
     "start_time": "2023-07-19T06:13:18.769347",
     "status": "completed"
    },
    "tags": []
   },
   "outputs": [],
   "source": [
    "# converting categorical variables into numerical encoding\n",
    "male = pd.get_dummies(suv_df['Gender'], drop_first=True)"
   ]
  },
  {
   "cell_type": "code",
   "execution_count": 16,
   "id": "99b7bba6",
   "metadata": {
    "ExecuteTime": {
     "end_time": "2023-02-15T13:55:01.377335Z",
     "start_time": "2023-02-15T13:55:01.34557Z"
    },
    "execution": {
     "iopub.execute_input": "2023-07-19T06:13:18.835352Z",
     "iopub.status.busy": "2023-07-19T06:13:18.834457Z",
     "iopub.status.idle": "2023-07-19T06:13:18.844015Z",
     "shell.execute_reply": "2023-07-19T06:13:18.843197Z"
    },
    "papermill": {
     "duration": 0.031332,
     "end_time": "2023-07-19T06:13:18.846399",
     "exception": false,
     "start_time": "2023-07-19T06:13:18.815067",
     "status": "completed"
    },
    "tags": []
   },
   "outputs": [],
   "source": [
    "# joining numerical encoding and dropping categorical columns\n",
    "suv_df = suv_df.join(male, how='left')\n",
    "suv_df.drop('Gender', axis=1, inplace=True)"
   ]
  },
  {
   "cell_type": "code",
   "execution_count": 17,
   "id": "533e09c1",
   "metadata": {
    "ExecuteTime": {
     "end_time": "2023-02-15T13:55:01.400171Z",
     "start_time": "2023-02-15T13:55:01.38146Z"
    },
    "execution": {
     "iopub.execute_input": "2023-07-19T06:13:18.885977Z",
     "iopub.status.busy": "2023-07-19T06:13:18.884026Z",
     "iopub.status.idle": "2023-07-19T06:13:18.896491Z",
     "shell.execute_reply": "2023-07-19T06:13:18.895237Z"
    },
    "papermill": {
     "duration": 0.033797,
     "end_time": "2023-07-19T06:13:18.899068",
     "exception": false,
     "start_time": "2023-07-19T06:13:18.865271",
     "status": "completed"
    },
    "tags": []
   },
   "outputs": [
    {
     "data": {
      "text/html": [
       "<div>\n",
       "<style scoped>\n",
       "    .dataframe tbody tr th:only-of-type {\n",
       "        vertical-align: middle;\n",
       "    }\n",
       "\n",
       "    .dataframe tbody tr th {\n",
       "        vertical-align: top;\n",
       "    }\n",
       "\n",
       "    .dataframe thead th {\n",
       "        text-align: right;\n",
       "    }\n",
       "</style>\n",
       "<table border=\"1\" class=\"dataframe\">\n",
       "  <thead>\n",
       "    <tr style=\"text-align: right;\">\n",
       "      <th></th>\n",
       "      <th>Age</th>\n",
       "      <th>EstimatedSalary</th>\n",
       "      <th>Purchased</th>\n",
       "      <th>Male</th>\n",
       "    </tr>\n",
       "  </thead>\n",
       "  <tbody>\n",
       "    <tr>\n",
       "      <th>0</th>\n",
       "      <td>19</td>\n",
       "      <td>19000</td>\n",
       "      <td>0</td>\n",
       "      <td>1</td>\n",
       "    </tr>\n",
       "    <tr>\n",
       "      <th>1</th>\n",
       "      <td>35</td>\n",
       "      <td>20000</td>\n",
       "      <td>0</td>\n",
       "      <td>1</td>\n",
       "    </tr>\n",
       "    <tr>\n",
       "      <th>2</th>\n",
       "      <td>26</td>\n",
       "      <td>43000</td>\n",
       "      <td>0</td>\n",
       "      <td>0</td>\n",
       "    </tr>\n",
       "    <tr>\n",
       "      <th>3</th>\n",
       "      <td>27</td>\n",
       "      <td>57000</td>\n",
       "      <td>0</td>\n",
       "      <td>0</td>\n",
       "    </tr>\n",
       "    <tr>\n",
       "      <th>4</th>\n",
       "      <td>19</td>\n",
       "      <td>76000</td>\n",
       "      <td>0</td>\n",
       "      <td>1</td>\n",
       "    </tr>\n",
       "  </tbody>\n",
       "</table>\n",
       "</div>"
      ],
      "text/plain": [
       "   Age  EstimatedSalary  Purchased  Male\n",
       "0   19            19000          0     1\n",
       "1   35            20000          0     1\n",
       "2   26            43000          0     0\n",
       "3   27            57000          0     0\n",
       "4   19            76000          0     1"
      ]
     },
     "execution_count": 17,
     "metadata": {},
     "output_type": "execute_result"
    }
   ],
   "source": [
    "suv_df.head()"
   ]
  },
  {
   "cell_type": "markdown",
   "id": "38611255",
   "metadata": {
    "papermill": {
     "duration": 0.01714,
     "end_time": "2023-07-19T06:13:18.934061",
     "exception": false,
     "start_time": "2023-07-19T06:13:18.916921",
     "status": "completed"
    },
    "tags": []
   },
   "source": [
    "## Model Building"
   ]
  },
  {
   "cell_type": "markdown",
   "id": "f33f8b52",
   "metadata": {
    "papermill": {
     "duration": 0.016963,
     "end_time": "2023-07-19T06:13:18.968508",
     "exception": false,
     "start_time": "2023-07-19T06:13:18.951545",
     "status": "completed"
    },
    "tags": []
   },
   "source": [
    "### Preprocessing step"
   ]
  },
  {
   "cell_type": "code",
   "execution_count": 18,
   "id": "afdf8e19",
   "metadata": {
    "ExecuteTime": {
     "end_time": "2023-02-15T13:55:03.025167Z",
     "start_time": "2023-02-15T13:55:01.400171Z"
    },
    "execution": {
     "iopub.execute_input": "2023-07-19T06:13:19.005267Z",
     "iopub.status.busy": "2023-07-19T06:13:19.004851Z",
     "iopub.status.idle": "2023-07-19T06:13:19.182630Z",
     "shell.execute_reply": "2023-07-19T06:13:19.181571Z"
    },
    "papermill": {
     "duration": 0.199144,
     "end_time": "2023-07-19T06:13:19.185265",
     "exception": false,
     "start_time": "2023-07-19T06:13:18.986121",
     "status": "completed"
    },
    "tags": []
   },
   "outputs": [],
   "source": [
    "from sklearn.preprocessing import StandardScaler"
   ]
  },
  {
   "cell_type": "code",
   "execution_count": 19,
   "id": "9ccd2219",
   "metadata": {
    "ExecuteTime": {
     "end_time": "2023-02-15T13:55:03.040375Z",
     "start_time": "2023-02-15T13:55:03.025167Z"
    },
    "execution": {
     "iopub.execute_input": "2023-07-19T06:13:19.223693Z",
     "iopub.status.busy": "2023-07-19T06:13:19.222937Z",
     "iopub.status.idle": "2023-07-19T06:13:19.227731Z",
     "shell.execute_reply": "2023-07-19T06:13:19.226694Z"
    },
    "papermill": {
     "duration": 0.026018,
     "end_time": "2023-07-19T06:13:19.229948",
     "exception": false,
     "start_time": "2023-07-19T06:13:19.203930",
     "status": "completed"
    },
    "tags": []
   },
   "outputs": [],
   "source": [
    "scaler = StandardScaler()"
   ]
  },
  {
   "cell_type": "code",
   "execution_count": 20,
   "id": "8f798819",
   "metadata": {
    "ExecuteTime": {
     "end_time": "2023-02-15T13:55:03.071622Z",
     "start_time": "2023-02-15T13:55:03.040375Z"
    },
    "execution": {
     "iopub.execute_input": "2023-07-19T06:13:19.266570Z",
     "iopub.status.busy": "2023-07-19T06:13:19.266129Z",
     "iopub.status.idle": "2023-07-19T06:13:19.271920Z",
     "shell.execute_reply": "2023-07-19T06:13:19.271086Z"
    },
    "papermill": {
     "duration": 0.026877,
     "end_time": "2023-07-19T06:13:19.274162",
     "exception": false,
     "start_time": "2023-07-19T06:13:19.247285",
     "status": "completed"
    },
    "tags": []
   },
   "outputs": [],
   "source": [
    "X = suv_df.drop('Purchased', axis=1)\n",
    "y = suv_df['Purchased']"
   ]
  },
  {
   "cell_type": "markdown",
   "id": "2a14ee4b",
   "metadata": {
    "papermill": {
     "duration": 0.01718,
     "end_time": "2023-07-19T06:13:19.308969",
     "exception": false,
     "start_time": "2023-07-19T06:13:19.291789",
     "status": "completed"
    },
    "tags": []
   },
   "source": [
    "**NB**: **Male** was not added beacuse of its contribution to the model prediction is minimal in contrast to `Age` and `EstimatedSalary`"
   ]
  },
  {
   "cell_type": "code",
   "execution_count": 21,
   "id": "531dd43a",
   "metadata": {
    "ExecuteTime": {
     "end_time": "2023-02-15T13:55:03.118481Z",
     "start_time": "2023-02-15T13:55:03.071622Z"
    },
    "execution": {
     "iopub.execute_input": "2023-07-19T06:13:19.345701Z",
     "iopub.status.busy": "2023-07-19T06:13:19.344957Z",
     "iopub.status.idle": "2023-07-19T06:13:19.353896Z",
     "shell.execute_reply": "2023-07-19T06:13:19.353086Z"
    },
    "papermill": {
     "duration": 0.030969,
     "end_time": "2023-07-19T06:13:19.357164",
     "exception": false,
     "start_time": "2023-07-19T06:13:19.326195",
     "status": "completed"
    },
    "tags": []
   },
   "outputs": [],
   "source": [
    "# SCaling to reduced the margin of values in the dataset\n",
    "\n",
    "X = scaler.fit_transform(suv_df[['Age', 'EstimatedSalary']])"
   ]
  },
  {
   "cell_type": "markdown",
   "id": "e383c184",
   "metadata": {
    "papermill": {
     "duration": 0.018312,
     "end_time": "2023-07-19T06:13:19.393192",
     "exception": false,
     "start_time": "2023-07-19T06:13:19.374880",
     "status": "completed"
    },
    "tags": []
   },
   "source": [
    "### Splitting into Training and Testing Data"
   ]
  },
  {
   "cell_type": "code",
   "execution_count": 22,
   "id": "297bb12e",
   "metadata": {
    "ExecuteTime": {
     "end_time": "2023-02-15T13:55:03.540596Z",
     "start_time": "2023-02-15T13:55:03.118481Z"
    },
    "execution": {
     "iopub.execute_input": "2023-07-19T06:13:19.429572Z",
     "iopub.status.busy": "2023-07-19T06:13:19.429141Z",
     "iopub.status.idle": "2023-07-19T06:13:19.549579Z",
     "shell.execute_reply": "2023-07-19T06:13:19.548682Z"
    },
    "papermill": {
     "duration": 0.141685,
     "end_time": "2023-07-19T06:13:19.552251",
     "exception": false,
     "start_time": "2023-07-19T06:13:19.410566",
     "status": "completed"
    },
    "tags": []
   },
   "outputs": [],
   "source": [
    "from sklearn.model_selection import train_test_split"
   ]
  },
  {
   "cell_type": "code",
   "execution_count": 23,
   "id": "6316afa7",
   "metadata": {
    "ExecuteTime": {
     "end_time": "2023-02-15T13:55:03.665365Z",
     "start_time": "2023-02-15T13:55:03.540596Z"
    },
    "execution": {
     "iopub.execute_input": "2023-07-19T06:13:19.589887Z",
     "iopub.status.busy": "2023-07-19T06:13:19.588788Z",
     "iopub.status.idle": "2023-07-19T06:13:19.595896Z",
     "shell.execute_reply": "2023-07-19T06:13:19.594953Z"
    },
    "papermill": {
     "duration": 0.028504,
     "end_time": "2023-07-19T06:13:19.598203",
     "exception": false,
     "start_time": "2023-07-19T06:13:19.569699",
     "status": "completed"
    },
    "tags": []
   },
   "outputs": [],
   "source": [
    "X_train, X_test, y_train, y_test = train_test_split(X, y, test_size=0.2, random_state=101)"
   ]
  },
  {
   "cell_type": "code",
   "execution_count": 24,
   "id": "24aa1169",
   "metadata": {
    "ExecuteTime": {
     "end_time": "2023-02-15T13:55:03.696517Z",
     "start_time": "2023-02-15T13:55:03.665365Z"
    },
    "execution": {
     "iopub.execute_input": "2023-07-19T06:13:19.635036Z",
     "iopub.status.busy": "2023-07-19T06:13:19.634291Z",
     "iopub.status.idle": "2023-07-19T06:13:19.640961Z",
     "shell.execute_reply": "2023-07-19T06:13:19.639508Z"
    },
    "papermill": {
     "duration": 0.027593,
     "end_time": "2023-07-19T06:13:19.643194",
     "exception": false,
     "start_time": "2023-07-19T06:13:19.615601",
     "status": "completed"
    },
    "tags": []
   },
   "outputs": [
    {
     "name": "stdout",
     "output_type": "stream",
     "text": [
      "Training dataset contains 2 columns and 320 rows.\n",
      "Testing dataset contains 2 columns and 80 rows.\n"
     ]
    }
   ],
   "source": [
    "print(f\"Training dataset contains {X_train.shape[1]} columns and {X_train.shape[0]} rows.\")\n",
    "print(f\"Testing dataset contains {X_test.shape[1]} columns and {X_test.shape[0]} rows.\")"
   ]
  },
  {
   "cell_type": "markdown",
   "id": "22fd44bc",
   "metadata": {
    "papermill": {
     "duration": 0.017417,
     "end_time": "2023-07-19T06:13:19.678244",
     "exception": false,
     "start_time": "2023-07-19T06:13:19.660827",
     "status": "completed"
    },
    "tags": []
   },
   "source": [
    "### Training the Model"
   ]
  },
  {
   "cell_type": "code",
   "execution_count": 25,
   "id": "71353a71",
   "metadata": {
    "ExecuteTime": {
     "end_time": "2023-02-15T13:55:04.540134Z",
     "start_time": "2023-02-15T13:55:03.696517Z"
    },
    "execution": {
     "iopub.execute_input": "2023-07-19T06:13:19.715612Z",
     "iopub.status.busy": "2023-07-19T06:13:19.714734Z",
     "iopub.status.idle": "2023-07-19T06:13:19.830301Z",
     "shell.execute_reply": "2023-07-19T06:13:19.829140Z"
    },
    "papermill": {
     "duration": 0.137492,
     "end_time": "2023-07-19T06:13:19.833249",
     "exception": false,
     "start_time": "2023-07-19T06:13:19.695757",
     "status": "completed"
    },
    "tags": []
   },
   "outputs": [],
   "source": [
    "from sklearn.linear_model import LogisticRegression"
   ]
  },
  {
   "cell_type": "code",
   "execution_count": 26,
   "id": "bc003c48",
   "metadata": {
    "ExecuteTime": {
     "end_time": "2023-02-15T13:55:04.555647Z",
     "start_time": "2023-02-15T13:55:04.540134Z"
    },
    "execution": {
     "iopub.execute_input": "2023-07-19T06:13:19.870377Z",
     "iopub.status.busy": "2023-07-19T06:13:19.869997Z",
     "iopub.status.idle": "2023-07-19T06:13:19.874939Z",
     "shell.execute_reply": "2023-07-19T06:13:19.873830Z"
    },
    "papermill": {
     "duration": 0.026405,
     "end_time": "2023-07-19T06:13:19.877398",
     "exception": false,
     "start_time": "2023-07-19T06:13:19.850993",
     "status": "completed"
    },
    "tags": []
   },
   "outputs": [],
   "source": [
    "logreg_model = LogisticRegression()"
   ]
  },
  {
   "cell_type": "code",
   "execution_count": 27,
   "id": "230ae85b",
   "metadata": {
    "ExecuteTime": {
     "end_time": "2023-02-15T13:55:04.805582Z",
     "start_time": "2023-02-15T13:55:04.555647Z"
    },
    "execution": {
     "iopub.execute_input": "2023-07-19T06:13:19.914690Z",
     "iopub.status.busy": "2023-07-19T06:13:19.914288Z",
     "iopub.status.idle": "2023-07-19T06:13:19.935859Z",
     "shell.execute_reply": "2023-07-19T06:13:19.935030Z"
    },
    "papermill": {
     "duration": 0.042903,
     "end_time": "2023-07-19T06:13:19.938096",
     "exception": false,
     "start_time": "2023-07-19T06:13:19.895193",
     "status": "completed"
    },
    "tags": []
   },
   "outputs": [
    {
     "data": {
      "text/html": [
       "<style>#sk-container-id-1 {color: black;background-color: white;}#sk-container-id-1 pre{padding: 0;}#sk-container-id-1 div.sk-toggleable {background-color: white;}#sk-container-id-1 label.sk-toggleable__label {cursor: pointer;display: block;width: 100%;margin-bottom: 0;padding: 0.3em;box-sizing: border-box;text-align: center;}#sk-container-id-1 label.sk-toggleable__label-arrow:before {content: \"▸\";float: left;margin-right: 0.25em;color: #696969;}#sk-container-id-1 label.sk-toggleable__label-arrow:hover:before {color: black;}#sk-container-id-1 div.sk-estimator:hover label.sk-toggleable__label-arrow:before {color: black;}#sk-container-id-1 div.sk-toggleable__content {max-height: 0;max-width: 0;overflow: hidden;text-align: left;background-color: #f0f8ff;}#sk-container-id-1 div.sk-toggleable__content pre {margin: 0.2em;color: black;border-radius: 0.25em;background-color: #f0f8ff;}#sk-container-id-1 input.sk-toggleable__control:checked~div.sk-toggleable__content {max-height: 200px;max-width: 100%;overflow: auto;}#sk-container-id-1 input.sk-toggleable__control:checked~label.sk-toggleable__label-arrow:before {content: \"▾\";}#sk-container-id-1 div.sk-estimator input.sk-toggleable__control:checked~label.sk-toggleable__label {background-color: #d4ebff;}#sk-container-id-1 div.sk-label input.sk-toggleable__control:checked~label.sk-toggleable__label {background-color: #d4ebff;}#sk-container-id-1 input.sk-hidden--visually {border: 0;clip: rect(1px 1px 1px 1px);clip: rect(1px, 1px, 1px, 1px);height: 1px;margin: -1px;overflow: hidden;padding: 0;position: absolute;width: 1px;}#sk-container-id-1 div.sk-estimator {font-family: monospace;background-color: #f0f8ff;border: 1px dotted black;border-radius: 0.25em;box-sizing: border-box;margin-bottom: 0.5em;}#sk-container-id-1 div.sk-estimator:hover {background-color: #d4ebff;}#sk-container-id-1 div.sk-parallel-item::after {content: \"\";width: 100%;border-bottom: 1px solid gray;flex-grow: 1;}#sk-container-id-1 div.sk-label:hover label.sk-toggleable__label {background-color: #d4ebff;}#sk-container-id-1 div.sk-serial::before {content: \"\";position: absolute;border-left: 1px solid gray;box-sizing: border-box;top: 0;bottom: 0;left: 50%;z-index: 0;}#sk-container-id-1 div.sk-serial {display: flex;flex-direction: column;align-items: center;background-color: white;padding-right: 0.2em;padding-left: 0.2em;position: relative;}#sk-container-id-1 div.sk-item {position: relative;z-index: 1;}#sk-container-id-1 div.sk-parallel {display: flex;align-items: stretch;justify-content: center;background-color: white;position: relative;}#sk-container-id-1 div.sk-item::before, #sk-container-id-1 div.sk-parallel-item::before {content: \"\";position: absolute;border-left: 1px solid gray;box-sizing: border-box;top: 0;bottom: 0;left: 50%;z-index: -1;}#sk-container-id-1 div.sk-parallel-item {display: flex;flex-direction: column;z-index: 1;position: relative;background-color: white;}#sk-container-id-1 div.sk-parallel-item:first-child::after {align-self: flex-end;width: 50%;}#sk-container-id-1 div.sk-parallel-item:last-child::after {align-self: flex-start;width: 50%;}#sk-container-id-1 div.sk-parallel-item:only-child::after {width: 0;}#sk-container-id-1 div.sk-dashed-wrapped {border: 1px dashed gray;margin: 0 0.4em 0.5em 0.4em;box-sizing: border-box;padding-bottom: 0.4em;background-color: white;}#sk-container-id-1 div.sk-label label {font-family: monospace;font-weight: bold;display: inline-block;line-height: 1.2em;}#sk-container-id-1 div.sk-label-container {text-align: center;}#sk-container-id-1 div.sk-container {/* jupyter's `normalize.less` sets `[hidden] { display: none; }` but bootstrap.min.css set `[hidden] { display: none !important; }` so we also need the `!important` here to be able to override the default hidden behavior on the sphinx rendered scikit-learn.org. See: https://github.com/scikit-learn/scikit-learn/issues/21755 */display: inline-block !important;position: relative;}#sk-container-id-1 div.sk-text-repr-fallback {display: none;}</style><div id=\"sk-container-id-1\" class=\"sk-top-container\"><div class=\"sk-text-repr-fallback\"><pre>LogisticRegression()</pre><b>In a Jupyter environment, please rerun this cell to show the HTML representation or trust the notebook. <br />On GitHub, the HTML representation is unable to render, please try loading this page with nbviewer.org.</b></div><div class=\"sk-container\" hidden><div class=\"sk-item\"><div class=\"sk-estimator sk-toggleable\"><input class=\"sk-toggleable__control sk-hidden--visually\" id=\"sk-estimator-id-1\" type=\"checkbox\" checked><label for=\"sk-estimator-id-1\" class=\"sk-toggleable__label sk-toggleable__label-arrow\">LogisticRegression</label><div class=\"sk-toggleable__content\"><pre>LogisticRegression()</pre></div></div></div></div></div>"
      ],
      "text/plain": [
       "LogisticRegression()"
      ]
     },
     "execution_count": 27,
     "metadata": {},
     "output_type": "execute_result"
    }
   ],
   "source": [
    "logreg_model.fit(X_train, y_train)"
   ]
  },
  {
   "cell_type": "code",
   "execution_count": 28,
   "id": "5fccfde4",
   "metadata": {
    "ExecuteTime": {
     "end_time": "2023-02-15T13:55:04.821204Z",
     "start_time": "2023-02-15T13:55:04.805582Z"
    },
    "execution": {
     "iopub.execute_input": "2023-07-19T06:13:19.976363Z",
     "iopub.status.busy": "2023-07-19T06:13:19.975677Z",
     "iopub.status.idle": "2023-07-19T06:13:19.980160Z",
     "shell.execute_reply": "2023-07-19T06:13:19.979400Z"
    },
    "papermill": {
     "duration": 0.025901,
     "end_time": "2023-07-19T06:13:19.982224",
     "exception": false,
     "start_time": "2023-07-19T06:13:19.956323",
     "status": "completed"
    },
    "tags": []
   },
   "outputs": [],
   "source": [
    "predictions = logreg_model.predict(X_test)"
   ]
  },
  {
   "cell_type": "markdown",
   "id": "23162d63",
   "metadata": {
    "papermill": {
     "duration": 0.018039,
     "end_time": "2023-07-19T06:13:20.018200",
     "exception": false,
     "start_time": "2023-07-19T06:13:20.000161",
     "status": "completed"
    },
    "tags": []
   },
   "source": [
    "### Testing Models Performance"
   ]
  },
  {
   "cell_type": "code",
   "execution_count": 29,
   "id": "280cd67a",
   "metadata": {
    "ExecuteTime": {
     "end_time": "2023-02-15T13:55:04.836854Z",
     "start_time": "2023-02-15T13:55:04.821204Z"
    },
    "execution": {
     "iopub.execute_input": "2023-07-19T06:13:20.056690Z",
     "iopub.status.busy": "2023-07-19T06:13:20.056267Z",
     "iopub.status.idle": "2023-07-19T06:13:20.060742Z",
     "shell.execute_reply": "2023-07-19T06:13:20.059702Z"
    },
    "papermill": {
     "duration": 0.026324,
     "end_time": "2023-07-19T06:13:20.063165",
     "exception": false,
     "start_time": "2023-07-19T06:13:20.036841",
     "status": "completed"
    },
    "tags": []
   },
   "outputs": [],
   "source": [
    "from sklearn.metrics import roc_curve"
   ]
  },
  {
   "cell_type": "code",
   "execution_count": 30,
   "id": "111513e7",
   "metadata": {
    "ExecuteTime": {
     "end_time": "2023-02-15T13:55:04.852447Z",
     "start_time": "2023-02-15T13:55:04.836854Z"
    },
    "execution": {
     "iopub.execute_input": "2023-07-19T06:13:20.101283Z",
     "iopub.status.busy": "2023-07-19T06:13:20.100893Z",
     "iopub.status.idle": "2023-07-19T06:13:20.105355Z",
     "shell.execute_reply": "2023-07-19T06:13:20.104309Z"
    },
    "papermill": {
     "duration": 0.026569,
     "end_time": "2023-07-19T06:13:20.107736",
     "exception": false,
     "start_time": "2023-07-19T06:13:20.081167",
     "status": "completed"
    },
    "tags": []
   },
   "outputs": [],
   "source": [
    "from sklearn.metrics import classification_report, confusion_matrix"
   ]
  },
  {
   "cell_type": "code",
   "execution_count": 31,
   "id": "3f8bd781",
   "metadata": {
    "ExecuteTime": {
     "end_time": "2023-02-15T13:55:04.868097Z",
     "start_time": "2023-02-15T13:55:04.852447Z"
    },
    "execution": {
     "iopub.execute_input": "2023-07-19T06:13:20.145750Z",
     "iopub.status.busy": "2023-07-19T06:13:20.145334Z",
     "iopub.status.idle": "2023-07-19T06:13:20.159933Z",
     "shell.execute_reply": "2023-07-19T06:13:20.158416Z"
    },
    "papermill": {
     "duration": 0.036593,
     "end_time": "2023-07-19T06:13:20.162230",
     "exception": false,
     "start_time": "2023-07-19T06:13:20.125637",
     "status": "completed"
    },
    "tags": []
   },
   "outputs": [
    {
     "name": "stdout",
     "output_type": "stream",
     "text": [
      "              precision    recall  f1-score   support\n",
      "\n",
      "           0       0.88      0.91      0.89        54\n",
      "           1       0.79      0.73      0.76        26\n",
      "\n",
      "    accuracy                           0.85        80\n",
      "   macro avg       0.83      0.82      0.83        80\n",
      "weighted avg       0.85      0.85      0.85        80\n",
      "\n"
     ]
    }
   ],
   "source": [
    "print(classification_report(y_test, predictions))"
   ]
  },
  {
   "cell_type": "code",
   "execution_count": 32,
   "id": "58cf8d69",
   "metadata": {
    "ExecuteTime": {
     "end_time": "2023-02-15T13:55:04.89931Z",
     "start_time": "2023-02-15T13:55:04.883689Z"
    },
    "execution": {
     "iopub.execute_input": "2023-07-19T06:13:20.200604Z",
     "iopub.status.busy": "2023-07-19T06:13:20.199837Z",
     "iopub.status.idle": "2023-07-19T06:13:20.209125Z",
     "shell.execute_reply": "2023-07-19T06:13:20.207962Z"
    },
    "papermill": {
     "duration": 0.031162,
     "end_time": "2023-07-19T06:13:20.211515",
     "exception": false,
     "start_time": "2023-07-19T06:13:20.180353",
     "status": "completed"
    },
    "scrolled": true,
    "tags": []
   },
   "outputs": [
    {
     "name": "stdout",
     "output_type": "stream",
     "text": [
      "Confusion Matrix:\n",
      "[[49  5]\n",
      " [ 7 19]]\n"
     ]
    }
   ],
   "source": [
    "print('Confusion Matrix:')\n",
    "print(confusion_matrix(y_test, predictions))"
   ]
  },
  {
   "cell_type": "markdown",
   "id": "bc68c778",
   "metadata": {
    "papermill": {
     "duration": 0.018759,
     "end_time": "2023-07-19T06:13:20.248507",
     "exception": false,
     "start_time": "2023-07-19T06:13:20.229748",
     "status": "completed"
    },
    "tags": []
   },
   "source": [
    "Below is the coefficient of `Age` and `EstimatedSalary` for the model."
   ]
  },
  {
   "cell_type": "code",
   "execution_count": 33,
   "id": "ed5cb2f5",
   "metadata": {
    "ExecuteTime": {
     "end_time": "2023-02-15T13:55:04.914932Z",
     "start_time": "2023-02-15T13:55:04.89931Z"
    },
    "execution": {
     "iopub.execute_input": "2023-07-19T06:13:20.290131Z",
     "iopub.status.busy": "2023-07-19T06:13:20.289217Z",
     "iopub.status.idle": "2023-07-19T06:13:20.294845Z",
     "shell.execute_reply": "2023-07-19T06:13:20.293755Z"
    },
    "papermill": {
     "duration": 0.027221,
     "end_time": "2023-07-19T06:13:20.296850",
     "exception": false,
     "start_time": "2023-07-19T06:13:20.269629",
     "status": "completed"
    },
    "tags": []
   },
   "outputs": [
    {
     "name": "stdout",
     "output_type": "stream",
     "text": [
      "Coefficients:\n",
      "\tAge: 2.158040744242266\n",
      "\tEstimatedSalary: 1.1412622077989236\n"
     ]
    }
   ],
   "source": [
    "coefficients = logreg_model.coef_\n",
    "print(f\"Coefficients:\\n\\tAge: {coefficients[0][0]}\\n\\tEstimatedSalary: {coefficients[0][1]}\")"
   ]
  },
  {
   "cell_type": "code",
   "execution_count": null,
   "id": "9cf9e37c",
   "metadata": {
    "papermill": {
     "duration": 0.018121,
     "end_time": "2023-07-19T06:13:20.333182",
     "exception": false,
     "start_time": "2023-07-19T06:13:20.315061",
     "status": "completed"
    },
    "tags": []
   },
   "outputs": [],
   "source": []
  }
 ],
 "metadata": {
  "kernelspec": {
   "display_name": "Python 3 (ipykernel)",
   "language": "python",
   "name": "python3"
  },
  "language_info": {
   "codemirror_mode": {
    "name": "ipython",
    "version": 3
   },
   "file_extension": ".py",
   "mimetype": "text/x-python",
   "name": "python",
   "nbconvert_exporter": "python",
   "pygments_lexer": "ipython3",
   "version": "3.11.5"
  },
  "papermill": {
   "default_parameters": {},
   "duration": 19.852039,
   "end_time": "2023-07-19T06:13:21.373201",
   "environment_variables": {},
   "exception": null,
   "input_path": "__notebook__.ipynb",
   "output_path": "__notebook__.ipynb",
   "parameters": {},
   "start_time": "2023-07-19T06:13:01.521162",
   "version": "2.4.0"
  }
 },
 "nbformat": 4,
 "nbformat_minor": 5
}
