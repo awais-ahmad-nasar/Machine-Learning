{
 "cells": [
  {
   "cell_type": "code",
   "execution_count": 1,
   "id": "3cd1b280",
   "metadata": {
    "_cell_guid": "b1076dfc-b9ad-4769-8c92-a6c4dae69d19",
    "_uuid": "8f2839f25d086af736a60e9eeb907d3b93b6e0e5",
    "execution": {
     "iopub.execute_input": "2023-07-19T07:23:20.702999Z",
     "iopub.status.busy": "2023-07-19T07:23:20.701370Z",
     "iopub.status.idle": "2023-07-19T07:23:20.722130Z",
     "shell.execute_reply": "2023-07-19T07:23:20.722744Z",
     "shell.execute_reply.started": "2023-07-19T07:22:08.797292Z"
    },
    "papermill": {
     "duration": 0.077653,
     "end_time": "2023-07-19T07:23:20.723113",
     "exception": false,
     "start_time": "2023-07-19T07:23:20.645460",
     "status": "completed"
    },
    "tags": []
   },
   "outputs": [],
   "source": [
    "import numpy as np \n",
    "import pandas as pd\n",
    "import os\n"
   ]
  },
  {
   "cell_type": "code",
   "execution_count": 2,
   "id": "06280d14",
   "metadata": {
    "execution": {
     "iopub.execute_input": "2023-07-19T07:23:20.824525Z",
     "iopub.status.busy": "2023-07-19T07:23:20.823859Z",
     "iopub.status.idle": "2023-07-19T07:23:22.176357Z",
     "shell.execute_reply": "2023-07-19T07:23:22.175768Z",
     "shell.execute_reply.started": "2023-07-19T07:22:08.830538Z"
    },
    "papermill": {
     "duration": 1.404233,
     "end_time": "2023-07-19T07:23:22.176528",
     "exception": false,
     "start_time": "2023-07-19T07:23:20.772295",
     "status": "completed"
    },
    "tags": []
   },
   "outputs": [],
   "source": [
    "import numpy as np\n",
    "import pandas as pd\n",
    "import matplotlib.pyplot as plt\n",
    "import seaborn as sns\n",
    "from sklearn.preprocessing import LabelEncoder\n",
    "from sklearn.model_selection import train_test_split\n",
    "from sklearn.linear_model import LinearRegression\n",
    "from sklearn import metrics"
   ]
  },
  {
   "cell_type": "code",
   "execution_count": 3,
   "id": "95bc2fa8",
   "metadata": {
    "execution": {
     "iopub.execute_input": "2023-07-19T07:23:22.276419Z",
     "iopub.status.busy": "2023-07-19T07:23:22.275395Z",
     "iopub.status.idle": "2023-07-19T07:23:22.349238Z",
     "shell.execute_reply": "2023-07-19T07:23:22.348674Z",
     "shell.execute_reply.started": "2023-07-19T07:22:10.551405Z"
    },
    "papermill": {
     "duration": 0.124134,
     "end_time": "2023-07-19T07:23:22.349399",
     "exception": false,
     "start_time": "2023-07-19T07:23:22.225265",
     "status": "completed"
    },
    "tags": []
   },
   "outputs": [],
   "source": [
    "test = pd.read_csv('B:\\MY Documents\\bigmart-sales-data\\Test.csv')\n",
    "train = pd.read_csv('B:\\MY Documents\\bigmart-sales-data\\Train.csv')"
   ]
  },
  {
   "cell_type": "code",
   "execution_count": 4,
   "id": "0cb044b3",
   "metadata": {
    "execution": {
     "iopub.execute_input": "2023-07-19T07:23:22.458955Z",
     "iopub.status.busy": "2023-07-19T07:23:22.457812Z",
     "iopub.status.idle": "2023-07-19T07:23:22.473383Z",
     "shell.execute_reply": "2023-07-19T07:23:22.473924Z",
     "shell.execute_reply.started": "2023-07-19T07:22:10.654847Z"
    },
    "papermill": {
     "duration": 0.076768,
     "end_time": "2023-07-19T07:23:22.474128",
     "exception": false,
     "start_time": "2023-07-19T07:23:22.397360",
     "status": "completed"
    },
    "tags": []
   },
   "outputs": [],
   "source": [
    "train['source']='train'\n",
    "test['source']='test'\n",
    "data = pd.concat([train,test],ignore_index=True)"
   ]
  },
  {
   "cell_type": "code",
   "execution_count": 5,
   "id": "ca060b2d",
   "metadata": {
    "execution": {
     "iopub.execute_input": "2023-07-19T07:23:22.573102Z",
     "iopub.status.busy": "2023-07-19T07:23:22.572119Z",
     "iopub.status.idle": "2023-07-19T07:23:22.600017Z",
     "shell.execute_reply": "2023-07-19T07:23:22.600518Z",
     "shell.execute_reply.started": "2023-07-19T07:22:10.693638Z"
    },
    "papermill": {
     "duration": 0.078288,
     "end_time": "2023-07-19T07:23:22.600734",
     "exception": false,
     "start_time": "2023-07-19T07:23:22.522446",
     "status": "completed"
    },
    "tags": []
   },
   "outputs": [
    {
     "name": "stdout",
     "output_type": "stream",
     "text": [
      "<class 'pandas.core.frame.DataFrame'>\n",
      "RangeIndex: 14204 entries, 0 to 14203\n",
      "Data columns (total 13 columns):\n",
      " #   Column                     Non-Null Count  Dtype  \n",
      "---  ------                     --------------  -----  \n",
      " 0   Item_Identifier            14204 non-null  object \n",
      " 1   Item_Weight                11765 non-null  float64\n",
      " 2   Item_Fat_Content           14204 non-null  object \n",
      " 3   Item_Visibility            14204 non-null  float64\n",
      " 4   Item_Type                  14204 non-null  object \n",
      " 5   Item_MRP                   14204 non-null  float64\n",
      " 6   Outlet_Identifier          14204 non-null  object \n",
      " 7   Outlet_Establishment_Year  14204 non-null  int64  \n",
      " 8   Outlet_Size                10188 non-null  object \n",
      " 9   Outlet_Location_Type       14204 non-null  object \n",
      " 10  Outlet_Type                14204 non-null  object \n",
      " 11  Item_Outlet_Sales          8523 non-null   float64\n",
      " 12  source                     14204 non-null  object \n",
      "dtypes: float64(4), int64(1), object(8)\n",
      "memory usage: 1.4+ MB\n"
     ]
    }
   ],
   "source": [
    "data.info()"
   ]
  },
  {
   "cell_type": "code",
   "execution_count": 6,
   "id": "e63ae289",
   "metadata": {
    "execution": {
     "iopub.execute_input": "2023-07-19T07:23:22.700845Z",
     "iopub.status.busy": "2023-07-19T07:23:22.700055Z",
     "iopub.status.idle": "2023-07-19T07:23:22.718956Z",
     "shell.execute_reply": "2023-07-19T07:23:22.719563Z",
     "shell.execute_reply.started": "2023-07-19T07:22:10.746526Z"
    },
    "papermill": {
     "duration": 0.070294,
     "end_time": "2023-07-19T07:23:22.719777",
     "exception": false,
     "start_time": "2023-07-19T07:23:22.649483",
     "status": "completed"
    },
    "tags": []
   },
   "outputs": [
    {
     "data": {
      "text/plain": [
       "Item_Identifier                 0\n",
       "Item_Weight                  2439\n",
       "Item_Fat_Content                0\n",
       "Item_Visibility                 0\n",
       "Item_Type                       0\n",
       "Item_MRP                        0\n",
       "Outlet_Identifier               0\n",
       "Outlet_Establishment_Year       0\n",
       "Outlet_Size                  4016\n",
       "Outlet_Location_Type            0\n",
       "Outlet_Type                     0\n",
       "Item_Outlet_Sales            5681\n",
       "source                          0\n",
       "dtype: int64"
      ]
     },
     "execution_count": 6,
     "metadata": {},
     "output_type": "execute_result"
    }
   ],
   "source": [
    "data.isnull().sum()"
   ]
  },
  {
   "cell_type": "code",
   "execution_count": 7,
   "id": "0f072255",
   "metadata": {
    "execution": {
     "iopub.execute_input": "2023-07-19T07:23:22.824992Z",
     "iopub.status.busy": "2023-07-19T07:23:22.824259Z",
     "iopub.status.idle": "2023-07-19T07:23:22.835350Z",
     "shell.execute_reply": "2023-07-19T07:23:22.834727Z",
     "shell.execute_reply.started": "2023-07-19T07:22:10.779025Z"
    },
    "papermill": {
     "duration": 0.066505,
     "end_time": "2023-07-19T07:23:22.835521",
     "exception": false,
     "start_time": "2023-07-19T07:23:22.769016",
     "status": "completed"
    },
    "tags": []
   },
   "outputs": [
    {
     "data": {
      "text/plain": [
       "Item_Identifier\n",
       "DRA12    11.600\n",
       "DRA24    19.350\n",
       "DRA59     8.270\n",
       "DRB01     7.390\n",
       "DRB13     6.115\n",
       "          ...  \n",
       "NCZ30     6.590\n",
       "NCZ41    19.850\n",
       "NCZ42    10.500\n",
       "NCZ53     9.600\n",
       "NCZ54    14.650\n",
       "Name: Item_Weight, Length: 1559, dtype: float64"
      ]
     },
     "execution_count": 7,
     "metadata": {},
     "output_type": "execute_result"
    }
   ],
   "source": [
    "data.groupby('Item_Identifier')['Item_Weight'].mean()"
   ]
  },
  {
   "cell_type": "code",
   "execution_count": 8,
   "id": "6f2d044a",
   "metadata": {
    "execution": {
     "iopub.execute_input": "2023-07-19T07:23:22.936842Z",
     "iopub.status.busy": "2023-07-19T07:23:22.936085Z",
     "iopub.status.idle": "2023-07-19T07:23:22.942449Z",
     "shell.execute_reply": "2023-07-19T07:23:22.941837Z",
     "shell.execute_reply.started": "2023-07-19T07:22:10.804769Z"
    },
    "papermill": {
     "duration": 0.058056,
     "end_time": "2023-07-19T07:23:22.942644",
     "exception": false,
     "start_time": "2023-07-19T07:23:22.884588",
     "status": "completed"
    },
    "tags": []
   },
   "outputs": [],
   "source": [
    "mean = data.Item_Weight.mean()\n",
    "data.Item_Weight=data.Item_Weight.fillna(mean)"
   ]
  },
  {
   "cell_type": "code",
   "execution_count": 9,
   "id": "a7af21ee",
   "metadata": {
    "execution": {
     "iopub.execute_input": "2023-07-19T07:23:23.047934Z",
     "iopub.status.busy": "2023-07-19T07:23:23.047131Z",
     "iopub.status.idle": "2023-07-19T07:23:23.082583Z",
     "shell.execute_reply": "2023-07-19T07:23:23.083137Z",
     "shell.execute_reply.started": "2023-07-19T07:22:10.816488Z"
    },
    "papermill": {
     "duration": 0.091853,
     "end_time": "2023-07-19T07:23:23.083342",
     "exception": false,
     "start_time": "2023-07-19T07:23:22.991489",
     "status": "completed"
    },
    "tags": []
   },
   "outputs": [
    {
     "data": {
      "text/html": [
       "<div>\n",
       "<style scoped>\n",
       "    .dataframe tbody tr th:only-of-type {\n",
       "        vertical-align: middle;\n",
       "    }\n",
       "\n",
       "    .dataframe tbody tr th {\n",
       "        vertical-align: top;\n",
       "    }\n",
       "\n",
       "    .dataframe thead th {\n",
       "        text-align: right;\n",
       "    }\n",
       "</style>\n",
       "<table border=\"1\" class=\"dataframe\">\n",
       "  <thead>\n",
       "    <tr style=\"text-align: right;\">\n",
       "      <th></th>\n",
       "      <th>Item_Identifier</th>\n",
       "      <th>Item_Weight</th>\n",
       "      <th>Item_Fat_Content</th>\n",
       "      <th>Item_Visibility</th>\n",
       "      <th>Item_Type</th>\n",
       "      <th>Item_MRP</th>\n",
       "      <th>Outlet_Identifier</th>\n",
       "      <th>Outlet_Establishment_Year</th>\n",
       "      <th>Outlet_Size</th>\n",
       "      <th>Outlet_Location_Type</th>\n",
       "      <th>Outlet_Type</th>\n",
       "      <th>Item_Outlet_Sales</th>\n",
       "      <th>source</th>\n",
       "    </tr>\n",
       "  </thead>\n",
       "  <tbody>\n",
       "    <tr>\n",
       "      <th>7</th>\n",
       "      <td>FDP10</td>\n",
       "      <td>12.792854</td>\n",
       "      <td>Low Fat</td>\n",
       "      <td>0.127470</td>\n",
       "      <td>Snack Foods</td>\n",
       "      <td>107.7622</td>\n",
       "      <td>OUT027</td>\n",
       "      <td>1985</td>\n",
       "      <td>Medium</td>\n",
       "      <td>Tier 3</td>\n",
       "      <td>Supermarket Type3</td>\n",
       "      <td>4022.7636</td>\n",
       "      <td>train</td>\n",
       "    </tr>\n",
       "    <tr>\n",
       "      <th>585</th>\n",
       "      <td>FDP10</td>\n",
       "      <td>19.000000</td>\n",
       "      <td>Low Fat</td>\n",
       "      <td>0.128066</td>\n",
       "      <td>Snack Foods</td>\n",
       "      <td>104.3622</td>\n",
       "      <td>OUT035</td>\n",
       "      <td>2004</td>\n",
       "      <td>Small</td>\n",
       "      <td>Tier 2</td>\n",
       "      <td>Supermarket Type1</td>\n",
       "      <td>1905.5196</td>\n",
       "      <td>train</td>\n",
       "    </tr>\n",
       "    <tr>\n",
       "      <th>2623</th>\n",
       "      <td>FDP10</td>\n",
       "      <td>19.000000</td>\n",
       "      <td>Low Fat</td>\n",
       "      <td>0.128815</td>\n",
       "      <td>Snack Foods</td>\n",
       "      <td>107.6622</td>\n",
       "      <td>OUT017</td>\n",
       "      <td>2007</td>\n",
       "      <td>NaN</td>\n",
       "      <td>Tier 2</td>\n",
       "      <td>Supermarket Type1</td>\n",
       "      <td>1164.4842</td>\n",
       "      <td>train</td>\n",
       "    </tr>\n",
       "    <tr>\n",
       "      <th>3382</th>\n",
       "      <td>FDP10</td>\n",
       "      <td>19.000000</td>\n",
       "      <td>Low Fat</td>\n",
       "      <td>0.128289</td>\n",
       "      <td>Snack Foods</td>\n",
       "      <td>104.9622</td>\n",
       "      <td>OUT049</td>\n",
       "      <td>1999</td>\n",
       "      <td>Medium</td>\n",
       "      <td>Tier 1</td>\n",
       "      <td>Supermarket Type1</td>\n",
       "      <td>1164.4842</td>\n",
       "      <td>train</td>\n",
       "    </tr>\n",
       "    <tr>\n",
       "      <th>4585</th>\n",
       "      <td>FDP10</td>\n",
       "      <td>19.000000</td>\n",
       "      <td>Low Fat</td>\n",
       "      <td>0.128090</td>\n",
       "      <td>Snack Foods</td>\n",
       "      <td>107.0622</td>\n",
       "      <td>OUT046</td>\n",
       "      <td>1997</td>\n",
       "      <td>Small</td>\n",
       "      <td>Tier 1</td>\n",
       "      <td>Supermarket Type1</td>\n",
       "      <td>1376.2086</td>\n",
       "      <td>train</td>\n",
       "    </tr>\n",
       "    <tr>\n",
       "      <th>6087</th>\n",
       "      <td>FDP10</td>\n",
       "      <td>19.000000</td>\n",
       "      <td>Low Fat</td>\n",
       "      <td>0.128350</td>\n",
       "      <td>Snack Foods</td>\n",
       "      <td>106.5622</td>\n",
       "      <td>OUT045</td>\n",
       "      <td>2002</td>\n",
       "      <td>NaN</td>\n",
       "      <td>Tier 2</td>\n",
       "      <td>Supermarket Type1</td>\n",
       "      <td>1482.0708</td>\n",
       "      <td>train</td>\n",
       "    </tr>\n",
       "    <tr>\n",
       "      <th>7883</th>\n",
       "      <td>FDP10</td>\n",
       "      <td>19.000000</td>\n",
       "      <td>Low Fat</td>\n",
       "      <td>0.127984</td>\n",
       "      <td>Snack Foods</td>\n",
       "      <td>107.6622</td>\n",
       "      <td>OUT013</td>\n",
       "      <td>1987</td>\n",
       "      <td>High</td>\n",
       "      <td>Tier 3</td>\n",
       "      <td>Supermarket Type1</td>\n",
       "      <td>1270.3464</td>\n",
       "      <td>train</td>\n",
       "    </tr>\n",
       "    <tr>\n",
       "      <th>11896</th>\n",
       "      <td>FDP10</td>\n",
       "      <td>19.000000</td>\n",
       "      <td>Low Fat</td>\n",
       "      <td>0.128612</td>\n",
       "      <td>Snack Foods</td>\n",
       "      <td>104.1622</td>\n",
       "      <td>OUT018</td>\n",
       "      <td>2009</td>\n",
       "      <td>Medium</td>\n",
       "      <td>Tier 3</td>\n",
       "      <td>Supermarket Type2</td>\n",
       "      <td>NaN</td>\n",
       "      <td>test</td>\n",
       "    </tr>\n",
       "    <tr>\n",
       "      <th>12371</th>\n",
       "      <td>FDP10</td>\n",
       "      <td>19.000000</td>\n",
       "      <td>Low Fat</td>\n",
       "      <td>0.214397</td>\n",
       "      <td>Snack Foods</td>\n",
       "      <td>105.8622</td>\n",
       "      <td>OUT010</td>\n",
       "      <td>1998</td>\n",
       "      <td>NaN</td>\n",
       "      <td>Tier 3</td>\n",
       "      <td>Grocery Store</td>\n",
       "      <td>NaN</td>\n",
       "      <td>test</td>\n",
       "    </tr>\n",
       "    <tr>\n",
       "      <th>13327</th>\n",
       "      <td>FDP10</td>\n",
       "      <td>12.792854</td>\n",
       "      <td>Low Fat</td>\n",
       "      <td>0.224269</td>\n",
       "      <td>Snack Foods</td>\n",
       "      <td>104.4622</td>\n",
       "      <td>OUT019</td>\n",
       "      <td>1985</td>\n",
       "      <td>Small</td>\n",
       "      <td>Tier 1</td>\n",
       "      <td>Grocery Store</td>\n",
       "      <td>NaN</td>\n",
       "      <td>test</td>\n",
       "    </tr>\n",
       "  </tbody>\n",
       "</table>\n",
       "</div>"
      ],
      "text/plain": [
       "      Item_Identifier  Item_Weight Item_Fat_Content  Item_Visibility  \\\n",
       "7               FDP10    12.792854          Low Fat         0.127470   \n",
       "585             FDP10    19.000000          Low Fat         0.128066   \n",
       "2623            FDP10    19.000000          Low Fat         0.128815   \n",
       "3382            FDP10    19.000000          Low Fat         0.128289   \n",
       "4585            FDP10    19.000000          Low Fat         0.128090   \n",
       "6087            FDP10    19.000000          Low Fat         0.128350   \n",
       "7883            FDP10    19.000000          Low Fat         0.127984   \n",
       "11896           FDP10    19.000000          Low Fat         0.128612   \n",
       "12371           FDP10    19.000000          Low Fat         0.214397   \n",
       "13327           FDP10    12.792854          Low Fat         0.224269   \n",
       "\n",
       "         Item_Type  Item_MRP Outlet_Identifier  Outlet_Establishment_Year  \\\n",
       "7      Snack Foods  107.7622            OUT027                       1985   \n",
       "585    Snack Foods  104.3622            OUT035                       2004   \n",
       "2623   Snack Foods  107.6622            OUT017                       2007   \n",
       "3382   Snack Foods  104.9622            OUT049                       1999   \n",
       "4585   Snack Foods  107.0622            OUT046                       1997   \n",
       "6087   Snack Foods  106.5622            OUT045                       2002   \n",
       "7883   Snack Foods  107.6622            OUT013                       1987   \n",
       "11896  Snack Foods  104.1622            OUT018                       2009   \n",
       "12371  Snack Foods  105.8622            OUT010                       1998   \n",
       "13327  Snack Foods  104.4622            OUT019                       1985   \n",
       "\n",
       "      Outlet_Size Outlet_Location_Type        Outlet_Type  Item_Outlet_Sales  \\\n",
       "7          Medium               Tier 3  Supermarket Type3          4022.7636   \n",
       "585         Small               Tier 2  Supermarket Type1          1905.5196   \n",
       "2623          NaN               Tier 2  Supermarket Type1          1164.4842   \n",
       "3382       Medium               Tier 1  Supermarket Type1          1164.4842   \n",
       "4585        Small               Tier 1  Supermarket Type1          1376.2086   \n",
       "6087          NaN               Tier 2  Supermarket Type1          1482.0708   \n",
       "7883         High               Tier 3  Supermarket Type1          1270.3464   \n",
       "11896      Medium               Tier 3  Supermarket Type2                NaN   \n",
       "12371         NaN               Tier 3      Grocery Store                NaN   \n",
       "13327       Small               Tier 1      Grocery Store                NaN   \n",
       "\n",
       "      source  \n",
       "7      train  \n",
       "585    train  \n",
       "2623   train  \n",
       "3382   train  \n",
       "4585   train  \n",
       "6087   train  \n",
       "7883   train  \n",
       "11896   test  \n",
       "12371   test  \n",
       "13327   test  "
      ]
     },
     "execution_count": 9,
     "metadata": {},
     "output_type": "execute_result"
    }
   ],
   "source": [
    "data[data.Item_Identifier=='FDP10']"
   ]
  },
  {
   "cell_type": "code",
   "execution_count": 10,
   "id": "bb6a3c44",
   "metadata": {
    "execution": {
     "iopub.execute_input": "2023-07-19T07:23:23.189918Z",
     "iopub.status.busy": "2023-07-19T07:23:23.189209Z",
     "iopub.status.idle": "2023-07-19T07:23:23.201154Z",
     "shell.execute_reply": "2023-07-19T07:23:23.201739Z",
     "shell.execute_reply.started": "2023-07-19T07:22:10.877114Z"
    },
    "papermill": {
     "duration": 0.067987,
     "end_time": "2023-07-19T07:23:23.201932",
     "exception": false,
     "start_time": "2023-07-19T07:23:23.133945",
     "status": "completed"
    },
    "tags": []
   },
   "outputs": [
    {
     "data": {
      "text/plain": [
       "Item_Identifier                 0\n",
       "Item_Weight                     0\n",
       "Item_Fat_Content                0\n",
       "Item_Visibility                 0\n",
       "Item_Type                       0\n",
       "Item_MRP                        0\n",
       "Outlet_Identifier               0\n",
       "Outlet_Establishment_Year       0\n",
       "Outlet_Size                  4016\n",
       "Outlet_Location_Type            0\n",
       "Outlet_Type                     0\n",
       "Item_Outlet_Sales            5681\n",
       "source                          0\n",
       "dtype: int64"
      ]
     },
     "execution_count": 10,
     "metadata": {},
     "output_type": "execute_result"
    }
   ],
   "source": [
    "data.isnull().sum()"
   ]
  },
  {
   "cell_type": "code",
   "execution_count": 11,
   "id": "e00e4f35",
   "metadata": {
    "execution": {
     "iopub.execute_input": "2023-07-19T07:23:23.322344Z",
     "iopub.status.busy": "2023-07-19T07:23:23.321613Z",
     "iopub.status.idle": "2023-07-19T07:23:23.325730Z",
     "shell.execute_reply": "2023-07-19T07:23:23.325077Z",
     "shell.execute_reply.started": "2023-07-19T07:22:10.906231Z"
    },
    "papermill": {
     "duration": 0.073089,
     "end_time": "2023-07-19T07:23:23.325878",
     "exception": false,
     "start_time": "2023-07-19T07:23:23.252789",
     "status": "completed"
    },
    "tags": []
   },
   "outputs": [
    {
     "data": {
      "text/plain": [
       "Food              10201\n",
       "Non-Consumable     2686\n",
       "Drinks             1317\n",
       "Name: Item_Type_Combined, dtype: int64"
      ]
     },
     "execution_count": 11,
     "metadata": {},
     "output_type": "execute_result"
    }
   ],
   "source": [
    "data['Item_Type_Combined'] = data['Item_Identifier'].apply(lambda x: x[0:2])\n",
    "data['Item_Type_Combined'] = data['Item_Type_Combined'].map({'FD':'Food',\n",
    "                                                             'NC':'Non-Consumable',\n",
    "                                                             'DR':'Drinks'})\n",
    "data['Item_Type_Combined'].value_counts()"
   ]
  },
  {
   "cell_type": "code",
   "execution_count": 12,
   "id": "6dd13906",
   "metadata": {
    "execution": {
     "iopub.execute_input": "2023-07-19T07:23:23.433133Z",
     "iopub.status.busy": "2023-07-19T07:23:23.432482Z",
     "iopub.status.idle": "2023-07-19T07:23:23.435454Z",
     "shell.execute_reply": "2023-07-19T07:23:23.435968Z",
     "shell.execute_reply.started": "2023-07-19T07:22:10.941088Z"
    },
    "papermill": {
     "duration": 0.060187,
     "end_time": "2023-07-19T07:23:23.436145",
     "exception": false,
     "start_time": "2023-07-19T07:23:23.375958",
     "status": "completed"
    },
    "tags": []
   },
   "outputs": [
    {
     "data": {
      "text/plain": [
       "0    Medium\n",
       "dtype: object"
      ]
     },
     "execution_count": 12,
     "metadata": {},
     "output_type": "execute_result"
    }
   ],
   "source": [
    "data.Outlet_Size.mode()"
   ]
  },
  {
   "cell_type": "code",
   "execution_count": 13,
   "id": "9187abce",
   "metadata": {
    "execution": {
     "iopub.execute_input": "2023-07-19T07:23:23.542701Z",
     "iopub.status.busy": "2023-07-19T07:23:23.540908Z",
     "iopub.status.idle": "2023-07-19T07:23:23.585927Z",
     "shell.execute_reply": "2023-07-19T07:23:23.586639Z",
     "shell.execute_reply.started": "2023-07-19T07:22:10.955924Z"
    },
    "papermill": {
     "duration": 0.100633,
     "end_time": "2023-07-19T07:23:23.586881",
     "exception": false,
     "start_time": "2023-07-19T07:23:23.486248",
     "status": "completed"
    },
    "tags": []
   },
   "outputs": [],
   "source": [
    "mode_of_Outlet_size = data.pivot_table(values='Outlet_Size', columns='Outlet_Type', aggfunc=(lambda x: x.mode()[0]))"
   ]
  },
  {
   "cell_type": "code",
   "execution_count": 14,
   "id": "9bbe8eda",
   "metadata": {
    "execution": {
     "iopub.execute_input": "2023-07-19T07:23:23.692333Z",
     "iopub.status.busy": "2023-07-19T07:23:23.691589Z",
     "iopub.status.idle": "2023-07-19T07:23:23.704053Z",
     "shell.execute_reply": "2023-07-19T07:23:23.703313Z",
     "shell.execute_reply.started": "2023-07-19T07:22:11.034216Z"
    },
    "papermill": {
     "duration": 0.065611,
     "end_time": "2023-07-19T07:23:23.704211",
     "exception": false,
     "start_time": "2023-07-19T07:23:23.638600",
     "status": "completed"
    },
    "tags": []
   },
   "outputs": [
    {
     "data": {
      "text/html": [
       "<div>\n",
       "<style scoped>\n",
       "    .dataframe tbody tr th:only-of-type {\n",
       "        vertical-align: middle;\n",
       "    }\n",
       "\n",
       "    .dataframe tbody tr th {\n",
       "        vertical-align: top;\n",
       "    }\n",
       "\n",
       "    .dataframe thead th {\n",
       "        text-align: right;\n",
       "    }\n",
       "</style>\n",
       "<table border=\"1\" class=\"dataframe\">\n",
       "  <thead>\n",
       "    <tr style=\"text-align: right;\">\n",
       "      <th>Outlet_Type</th>\n",
       "      <th>Grocery Store</th>\n",
       "      <th>Supermarket Type1</th>\n",
       "      <th>Supermarket Type2</th>\n",
       "      <th>Supermarket Type3</th>\n",
       "    </tr>\n",
       "  </thead>\n",
       "  <tbody>\n",
       "    <tr>\n",
       "      <th>Outlet_Size</th>\n",
       "      <td>Small</td>\n",
       "      <td>Small</td>\n",
       "      <td>Medium</td>\n",
       "      <td>Medium</td>\n",
       "    </tr>\n",
       "  </tbody>\n",
       "</table>\n",
       "</div>"
      ],
      "text/plain": [
       "Outlet_Type Grocery Store Supermarket Type1 Supermarket Type2  \\\n",
       "Outlet_Size         Small             Small            Medium   \n",
       "\n",
       "Outlet_Type Supermarket Type3  \n",
       "Outlet_Size            Medium  "
      ]
     },
     "execution_count": 14,
     "metadata": {},
     "output_type": "execute_result"
    }
   ],
   "source": [
    "mode_of_Outlet_size"
   ]
  },
  {
   "cell_type": "code",
   "execution_count": 15,
   "id": "0f85c26b",
   "metadata": {
    "execution": {
     "iopub.execute_input": "2023-07-19T07:23:23.817595Z",
     "iopub.status.busy": "2023-07-19T07:23:23.816829Z",
     "iopub.status.idle": "2023-07-19T07:23:23.819678Z",
     "shell.execute_reply": "2023-07-19T07:23:23.820310Z",
     "shell.execute_reply.started": "2023-07-19T07:22:11.051402Z"
    },
    "papermill": {
     "duration": 0.064352,
     "end_time": "2023-07-19T07:23:23.820496",
     "exception": false,
     "start_time": "2023-07-19T07:23:23.756144",
     "status": "completed"
    },
    "tags": []
   },
   "outputs": [
    {
     "data": {
      "text/plain": [
       "0        False\n",
       "1        False\n",
       "2        False\n",
       "3         True\n",
       "4        False\n",
       "         ...  \n",
       "14199    False\n",
       "14200    False\n",
       "14201     True\n",
       "14202     True\n",
       "14203     True\n",
       "Name: Outlet_Size, Length: 14204, dtype: bool"
      ]
     },
     "execution_count": 15,
     "metadata": {},
     "output_type": "execute_result"
    }
   ],
   "source": [
    "miss_values = data['Outlet_Size'].isnull()   \n",
    "miss_values"
   ]
  },
  {
   "cell_type": "code",
   "execution_count": 16,
   "id": "6144c0ca",
   "metadata": {
    "execution": {
     "iopub.execute_input": "2023-07-19T07:23:23.926147Z",
     "iopub.status.busy": "2023-07-19T07:23:23.925356Z",
     "iopub.status.idle": "2023-07-19T07:23:24.088248Z",
     "shell.execute_reply": "2023-07-19T07:23:24.087469Z",
     "shell.execute_reply.started": "2023-07-19T07:22:11.075625Z"
    },
    "papermill": {
     "duration": 0.216396,
     "end_time": "2023-07-19T07:23:24.088415",
     "exception": false,
     "start_time": "2023-07-19T07:23:23.872019",
     "status": "completed"
    },
    "tags": []
   },
   "outputs": [],
   "source": [
    "data.loc[miss_values, 'Outlet_Size'] = data.loc[miss_values,'Outlet_Type'].apply(lambda x: mode_of_Outlet_size[x])"
   ]
  },
  {
   "cell_type": "code",
   "execution_count": 17,
   "id": "c792cad2",
   "metadata": {
    "execution": {
     "iopub.execute_input": "2023-07-19T07:23:24.202276Z",
     "iopub.status.busy": "2023-07-19T07:23:24.201511Z",
     "iopub.status.idle": "2023-07-19T07:23:24.209403Z",
     "shell.execute_reply": "2023-07-19T07:23:24.209935Z",
     "shell.execute_reply.started": "2023-07-19T07:22:11.331486Z"
    },
    "papermill": {
     "duration": 0.069948,
     "end_time": "2023-07-19T07:23:24.210130",
     "exception": false,
     "start_time": "2023-07-19T07:23:24.140182",
     "status": "completed"
    },
    "tags": []
   },
   "outputs": [
    {
     "data": {
      "text/plain": [
       "Item_Identifier                 0\n",
       "Item_Weight                     0\n",
       "Item_Fat_Content                0\n",
       "Item_Visibility                 0\n",
       "Item_Type                       0\n",
       "Item_MRP                        0\n",
       "Outlet_Identifier               0\n",
       "Outlet_Establishment_Year       0\n",
       "Outlet_Size                     0\n",
       "Outlet_Location_Type            0\n",
       "Outlet_Type                     0\n",
       "Item_Outlet_Sales            5681\n",
       "source                          0\n",
       "Item_Type_Combined              0\n",
       "dtype: int64"
      ]
     },
     "execution_count": 17,
     "metadata": {},
     "output_type": "execute_result"
    }
   ],
   "source": [
    "data.isnull().sum()"
   ]
  },
  {
   "cell_type": "code",
   "execution_count": 18,
   "id": "5d699557",
   "metadata": {
    "execution": {
     "iopub.execute_input": "2023-07-19T07:23:24.320869Z",
     "iopub.status.busy": "2023-07-19T07:23:24.320075Z",
     "iopub.status.idle": "2023-07-19T07:23:24.324074Z",
     "shell.execute_reply": "2023-07-19T07:23:24.323482Z",
     "shell.execute_reply.started": "2023-07-19T07:22:11.362946Z"
    },
    "papermill": {
     "duration": 0.06243,
     "end_time": "2023-07-19T07:23:24.324230",
     "exception": false,
     "start_time": "2023-07-19T07:23:24.261800",
     "status": "completed"
    },
    "tags": []
   },
   "outputs": [
    {
     "data": {
      "text/plain": [
       "0        Medium\n",
       "1        Medium\n",
       "2        Medium\n",
       "3         Small\n",
       "4          High\n",
       "          ...  \n",
       "14199     Small\n",
       "14200    Medium\n",
       "14201     Small\n",
       "14202     Small\n",
       "14203     Small\n",
       "Name: Outlet_Size, Length: 14204, dtype: object"
      ]
     },
     "execution_count": 18,
     "metadata": {},
     "output_type": "execute_result"
    }
   ],
   "source": [
    "data.Outlet_Size"
   ]
  },
  {
   "cell_type": "code",
   "execution_count": 19,
   "id": "0a1ebed0",
   "metadata": {
    "execution": {
     "iopub.execute_input": "2023-07-19T07:23:24.435989Z",
     "iopub.status.busy": "2023-07-19T07:23:24.435214Z",
     "iopub.status.idle": "2023-07-19T07:23:24.464141Z",
     "shell.execute_reply": "2023-07-19T07:23:24.464707Z",
     "shell.execute_reply.started": "2023-07-19T07:22:11.378417Z"
    },
    "papermill": {
     "duration": 0.088647,
     "end_time": "2023-07-19T07:23:24.464902",
     "exception": false,
     "start_time": "2023-07-19T07:23:24.376255",
     "status": "completed"
    },
    "tags": []
   },
   "outputs": [
    {
     "data": {
      "text/html": [
       "<div>\n",
       "<style scoped>\n",
       "    .dataframe tbody tr th:only-of-type {\n",
       "        vertical-align: middle;\n",
       "    }\n",
       "\n",
       "    .dataframe tbody tr th {\n",
       "        vertical-align: top;\n",
       "    }\n",
       "\n",
       "    .dataframe thead th {\n",
       "        text-align: right;\n",
       "    }\n",
       "</style>\n",
       "<table border=\"1\" class=\"dataframe\">\n",
       "  <thead>\n",
       "    <tr style=\"text-align: right;\">\n",
       "      <th></th>\n",
       "      <th>Item_Weight</th>\n",
       "      <th>Item_Visibility</th>\n",
       "      <th>Item_MRP</th>\n",
       "      <th>Outlet_Establishment_Year</th>\n",
       "      <th>Item_Outlet_Sales</th>\n",
       "    </tr>\n",
       "  </thead>\n",
       "  <tbody>\n",
       "    <tr>\n",
       "      <th>count</th>\n",
       "      <td>14204.000000</td>\n",
       "      <td>14204.000000</td>\n",
       "      <td>14204.000000</td>\n",
       "      <td>14204.000000</td>\n",
       "      <td>8523.000000</td>\n",
       "    </tr>\n",
       "    <tr>\n",
       "      <th>mean</th>\n",
       "      <td>12.792854</td>\n",
       "      <td>0.065953</td>\n",
       "      <td>141.004977</td>\n",
       "      <td>1997.830681</td>\n",
       "      <td>2181.288914</td>\n",
       "    </tr>\n",
       "    <tr>\n",
       "      <th>std</th>\n",
       "      <td>4.234226</td>\n",
       "      <td>0.051459</td>\n",
       "      <td>62.086938</td>\n",
       "      <td>8.371664</td>\n",
       "      <td>1706.499616</td>\n",
       "    </tr>\n",
       "    <tr>\n",
       "      <th>min</th>\n",
       "      <td>4.555000</td>\n",
       "      <td>0.000000</td>\n",
       "      <td>31.290000</td>\n",
       "      <td>1985.000000</td>\n",
       "      <td>33.290000</td>\n",
       "    </tr>\n",
       "    <tr>\n",
       "      <th>25%</th>\n",
       "      <td>9.300000</td>\n",
       "      <td>0.027036</td>\n",
       "      <td>94.012000</td>\n",
       "      <td>1987.000000</td>\n",
       "      <td>834.247400</td>\n",
       "    </tr>\n",
       "    <tr>\n",
       "      <th>50%</th>\n",
       "      <td>12.792854</td>\n",
       "      <td>0.054021</td>\n",
       "      <td>142.247000</td>\n",
       "      <td>1999.000000</td>\n",
       "      <td>1794.331000</td>\n",
       "    </tr>\n",
       "    <tr>\n",
       "      <th>75%</th>\n",
       "      <td>16.000000</td>\n",
       "      <td>0.094037</td>\n",
       "      <td>185.855600</td>\n",
       "      <td>2004.000000</td>\n",
       "      <td>3101.296400</td>\n",
       "    </tr>\n",
       "    <tr>\n",
       "      <th>max</th>\n",
       "      <td>21.350000</td>\n",
       "      <td>0.328391</td>\n",
       "      <td>266.888400</td>\n",
       "      <td>2009.000000</td>\n",
       "      <td>13086.964800</td>\n",
       "    </tr>\n",
       "  </tbody>\n",
       "</table>\n",
       "</div>"
      ],
      "text/plain": [
       "        Item_Weight  Item_Visibility      Item_MRP  Outlet_Establishment_Year  \\\n",
       "count  14204.000000     14204.000000  14204.000000               14204.000000   \n",
       "mean      12.792854         0.065953    141.004977                1997.830681   \n",
       "std        4.234226         0.051459     62.086938                   8.371664   \n",
       "min        4.555000         0.000000     31.290000                1985.000000   \n",
       "25%        9.300000         0.027036     94.012000                1987.000000   \n",
       "50%       12.792854         0.054021    142.247000                1999.000000   \n",
       "75%       16.000000         0.094037    185.855600                2004.000000   \n",
       "max       21.350000         0.328391    266.888400                2009.000000   \n",
       "\n",
       "       Item_Outlet_Sales  \n",
       "count        8523.000000  \n",
       "mean         2181.288914  \n",
       "std          1706.499616  \n",
       "min            33.290000  \n",
       "25%           834.247400  \n",
       "50%          1794.331000  \n",
       "75%          3101.296400  \n",
       "max         13086.964800  "
      ]
     },
     "execution_count": 19,
     "metadata": {},
     "output_type": "execute_result"
    }
   ],
   "source": [
    "data.describe()"
   ]
  },
  {
   "cell_type": "code",
   "execution_count": 20,
   "id": "9feed269",
   "metadata": {
    "execution": {
     "iopub.execute_input": "2023-07-19T07:23:24.575346Z",
     "iopub.status.busy": "2023-07-19T07:23:24.574616Z",
     "iopub.status.idle": "2023-07-19T07:23:24.577292Z",
     "shell.execute_reply": "2023-07-19T07:23:24.577835Z",
     "shell.execute_reply.started": "2023-07-19T07:22:11.434738Z"
    },
    "papermill": {
     "duration": 0.060744,
     "end_time": "2023-07-19T07:23:24.578020",
     "exception": false,
     "start_time": "2023-07-19T07:23:24.517276",
     "status": "completed"
    },
    "tags": []
   },
   "outputs": [],
   "source": [
    "sns.set()"
   ]
  },
  {
   "cell_type": "code",
   "execution_count": 21,
   "id": "f711843e",
   "metadata": {
    "execution": {
     "iopub.execute_input": "2023-07-19T07:23:24.687658Z",
     "iopub.status.busy": "2023-07-19T07:23:24.686937Z",
     "iopub.status.idle": "2023-07-19T07:23:25.279334Z",
     "shell.execute_reply": "2023-07-19T07:23:25.278620Z",
     "shell.execute_reply.started": "2023-07-19T07:22:11.443628Z"
    },
    "papermill": {
     "duration": 0.649506,
     "end_time": "2023-07-19T07:23:25.279490",
     "exception": false,
     "start_time": "2023-07-19T07:23:24.629984",
     "status": "completed"
    },
    "tags": []
   },
   "outputs": [
    {
     "name": "stderr",
     "output_type": "stream",
     "text": [
      "/opt/conda/lib/python3.7/site-packages/seaborn/distributions.py:2557: FutureWarning: `distplot` is a deprecated function and will be removed in a future version. Please adapt your code to use either `displot` (a figure-level function with similar flexibility) or `histplot` (an axes-level function for histograms).\n",
      "  warnings.warn(msg, FutureWarning)\n"
     ]
    },
    {
     "data": {
      "image/png": "[encoded data removed]",
      "text/plain": [
       "<Figure size 432x432 with 1 Axes>"
      ]
     },
     "metadata": {},
     "output_type": "display_data"
    }
   ],
   "source": [
    "plt.figure(figsize=(6,6))\n",
    "sns.distplot(data.Item_Weight)\n",
    "plt.show()"
   ]
  },
  {
   "cell_type": "code",
   "execution_count": 22,
   "id": "68643b6a",
   "metadata": {
    "execution": {
     "iopub.execute_input": "2023-07-19T07:23:25.420146Z",
     "iopub.status.busy": "2023-07-19T07:23:25.419409Z",
     "iopub.status.idle": "2023-07-19T07:23:25.842265Z",
     "shell.execute_reply": "2023-07-19T07:23:25.841724Z",
     "shell.execute_reply.started": "2023-07-19T07:22:12.130834Z"
    },
    "papermill": {
     "duration": 0.507525,
     "end_time": "2023-07-19T07:23:25.842427",
     "exception": false,
     "start_time": "2023-07-19T07:23:25.334902",
     "status": "completed"
    },
    "tags": []
   },
   "outputs": [
    {
     "name": "stderr",
     "output_type": "stream",
     "text": [
      "/opt/conda/lib/python3.7/site-packages/seaborn/distributions.py:2557: FutureWarning: `distplot` is a deprecated function and will be removed in a future version. Please adapt your code to use either `displot` (a figure-level function with similar flexibility) or `histplot` (an axes-level function for histograms).\n",
      "  warnings.warn(msg, FutureWarning)\n"
     ]
    },
    {
     "data": {
      "image/png": "[encoded data removed]",
      "text/plain": [
       "<Figure size 432x432 with 1 Axes>"
      ]
     },
     "metadata": {},
     "output_type": "display_data"
    }
   ],
   "source": [
    "plt.figure(figsize=(6,6))\n",
    "sns.distplot(data.Item_Visibility)\n",
    "plt.show()"
   ]
  },
  {
   "cell_type": "code",
   "execution_count": 23,
   "id": "748a8f6a",
   "metadata": {
    "execution": {
     "iopub.execute_input": "2023-07-19T07:23:26.084970Z",
     "iopub.status.busy": "2023-07-19T07:23:26.083141Z",
     "iopub.status.idle": "2023-07-19T07:23:26.484780Z",
     "shell.execute_reply": "2023-07-19T07:23:26.485250Z",
     "shell.execute_reply.started": "2023-07-19T07:22:12.674676Z"
    },
    "papermill": {
     "duration": 0.585728,
     "end_time": "2023-07-19T07:23:26.485442",
     "exception": false,
     "start_time": "2023-07-19T07:23:25.899714",
     "status": "completed"
    },
    "tags": []
   },
   "outputs": [
    {
     "name": "stderr",
     "output_type": "stream",
     "text": [
      "/opt/conda/lib/python3.7/site-packages/seaborn/distributions.py:2557: FutureWarning: `distplot` is a deprecated function and will be removed in a future version. Please adapt your code to use either `displot` (a figure-level function with similar flexibility) or `histplot` (an axes-level function for histograms).\n",
      "  warnings.warn(msg, FutureWarning)\n"
     ]
    },
    {
     "data": {
      "image/png": "[encoded data removed]",
      "text/plain": [
       "<Figure size 432x432 with 1 Axes>"
      ]
     },
     "metadata": {},
     "output_type": "display_data"
    }
   ],
   "source": [
    "plt.figure(figsize=(6,6))\n",
    "sns.distplot(data.Item_MRP)\n",
    "plt.show()"
   ]
  },
  {
   "cell_type": "code",
   "execution_count": 24,
   "id": "8a048644",
   "metadata": {
    "execution": {
     "iopub.execute_input": "2023-07-19T07:23:26.604286Z",
     "iopub.status.busy": "2023-07-19T07:23:26.603559Z",
     "iopub.status.idle": "2023-07-19T07:23:26.969277Z",
     "shell.execute_reply": "2023-07-19T07:23:26.968669Z",
     "shell.execute_reply.started": "2023-07-19T07:22:13.348392Z"
    },
    "papermill": {
     "duration": 0.428198,
     "end_time": "2023-07-19T07:23:26.969432",
     "exception": false,
     "start_time": "2023-07-19T07:23:26.541234",
     "status": "completed"
    },
    "tags": []
   },
   "outputs": [
    {
     "name": "stderr",
     "output_type": "stream",
     "text": [
      "/opt/conda/lib/python3.7/site-packages/seaborn/distributions.py:2557: FutureWarning: `distplot` is a deprecated function and will be removed in a future version. Please adapt your code to use either `displot` (a figure-level function with similar flexibility) or `histplot` (an axes-level function for histograms).\n",
      "  warnings.warn(msg, FutureWarning)\n"
     ]
    },
    {
     "data": {
      "image/png": "[encoded data removed]",
      "text/plain": [
       "<Figure size 432x432 with 1 Axes>"
      ]
     },
     "metadata": {},
     "output_type": "display_data"
    }
   ],
   "source": [
    "plt.figure(figsize=(6,6))\n",
    "sns.distplot(data.Item_Outlet_Sales)\n",
    "plt.show()"
   ]
  },
  {
   "cell_type": "code",
   "execution_count": 25,
   "id": "0f2dcb0e",
   "metadata": {
    "execution": {
     "iopub.execute_input": "2023-07-19T07:23:27.091791Z",
     "iopub.status.busy": "2023-07-19T07:23:27.090170Z",
     "iopub.status.idle": "2023-07-19T07:23:27.307827Z",
     "shell.execute_reply": "2023-07-19T07:23:27.306867Z",
     "shell.execute_reply.started": "2023-07-19T07:22:13.807991Z"
    },
    "papermill": {
     "duration": 0.279574,
     "end_time": "2023-07-19T07:23:27.308014",
     "exception": false,
     "start_time": "2023-07-19T07:23:27.028440",
     "status": "completed"
    },
    "tags": []
   },
   "outputs": [
    {
     "data": {
      "image/png": "[encoded data removed]",
      "text/plain": [
       "<Figure size 432x432 with 1 Axes>"
      ]
     },
     "metadata": {},
     "output_type": "display_data"
    }
   ],
   "source": [
    "plt.figure(figsize=(6,6))\n",
    "sns.countplot(x=data.Outlet_Establishment_Year)\n",
    "plt.show()"
   ]
  },
  {
   "cell_type": "code",
   "execution_count": 26,
   "id": "85e7ca18",
   "metadata": {
    "execution": {
     "iopub.execute_input": "2023-07-19T07:23:27.430655Z",
     "iopub.status.busy": "2023-07-19T07:23:27.430000Z",
     "iopub.status.idle": "2023-07-19T07:23:27.443815Z",
     "shell.execute_reply": "2023-07-19T07:23:27.443109Z",
     "shell.execute_reply.started": "2023-07-19T07:22:14.090057Z"
    },
    "papermill": {
     "duration": 0.07752,
     "end_time": "2023-07-19T07:23:27.443974",
     "exception": false,
     "start_time": "2023-07-19T07:23:27.366454",
     "status": "completed"
    },
    "tags": []
   },
   "outputs": [
    {
     "data": {
      "text/plain": [
       "count    14204.000000\n",
       "mean        23.169319\n",
       "std          8.371664\n",
       "min         12.000000\n",
       "25%         17.000000\n",
       "50%         22.000000\n",
       "75%         34.000000\n",
       "max         36.000000\n",
       "Name: Outlet_Years, dtype: float64"
      ]
     },
     "execution_count": 26,
     "metadata": {},
     "output_type": "execute_result"
    }
   ],
   "source": [
    "data['Outlet_Years'] = 2021 - data['Outlet_Establishment_Year']\n",
    "data['Outlet_Years'].describe()"
   ]
  },
  {
   "cell_type": "code",
   "execution_count": 27,
   "id": "b92a954e",
   "metadata": {
    "execution": {
     "iopub.execute_input": "2023-07-19T07:23:27.575159Z",
     "iopub.status.busy": "2023-07-19T07:23:27.574197Z",
     "iopub.status.idle": "2023-07-19T07:23:27.773362Z",
     "shell.execute_reply": "2023-07-19T07:23:27.773881Z",
     "shell.execute_reply.started": "2023-07-19T07:22:14.111644Z"
    },
    "papermill": {
     "duration": 0.269725,
     "end_time": "2023-07-19T07:23:27.774064",
     "exception": false,
     "start_time": "2023-07-19T07:23:27.504339",
     "status": "completed"
    },
    "tags": []
   },
   "outputs": [
    {
     "data": {
      "image/png": "[encoded data removed]",
      "text/plain": [
       "<Figure size 432x432 with 1 Axes>"
      ]
     },
     "metadata": {},
     "output_type": "display_data"
    }
   ],
   "source": [
    "plt.figure(figsize=(6,6))\n",
    "sns.countplot(x=data.Outlet_Years)\n",
    "plt.show()"
   ]
  },
  {
   "cell_type": "code",
   "execution_count": 28,
   "id": "0efbf5af",
   "metadata": {
    "execution": {
     "iopub.execute_input": "2023-07-19T07:23:27.901408Z",
     "iopub.status.busy": "2023-07-19T07:23:27.900615Z",
     "iopub.status.idle": "2023-07-19T07:23:28.086051Z",
     "shell.execute_reply": "2023-07-19T07:23:28.085339Z",
     "shell.execute_reply.started": "2023-07-19T07:22:14.375194Z"
    },
    "papermill": {
     "duration": 0.251744,
     "end_time": "2023-07-19T07:23:28.086213",
     "exception": false,
     "start_time": "2023-07-19T07:23:27.834469",
     "status": "completed"
    },
    "tags": []
   },
   "outputs": [
    {
     "data": {
      "image/png": "[encoded data removed]",
      "text/plain": [
       "<Figure size 432x432 with 1 Axes>"
      ]
     },
     "metadata": {},
     "output_type": "display_data"
    }
   ],
   "source": [
    "plt.figure(figsize=(6,6))\n",
    "sns.countplot(x=data.Item_Fat_Content)\n",
    "plt.show()"
   ]
  },
  {
   "cell_type": "code",
   "execution_count": 29,
   "id": "db8724b7",
   "metadata": {
    "execution": {
     "iopub.execute_input": "2023-07-19T07:23:28.219032Z",
     "iopub.status.busy": "2023-07-19T07:23:28.217482Z",
     "iopub.status.idle": "2023-07-19T07:23:28.222345Z",
     "shell.execute_reply": "2023-07-19T07:23:28.221664Z",
     "shell.execute_reply.started": "2023-07-19T07:22:14.649828Z"
    },
    "papermill": {
     "duration": 0.073484,
     "end_time": "2023-07-19T07:23:28.222499",
     "exception": false,
     "start_time": "2023-07-19T07:23:28.149015",
     "status": "completed"
    },
    "tags": []
   },
   "outputs": [],
   "source": [
    "data['Item_Fat_Content'] = data['Item_Fat_Content'].replace({'LF':'Low Fat',\n",
    "                                                             'reg':'Regular',\n",
    "                                                             'low fat':'Low Fat'})"
   ]
  },
  {
   "cell_type": "code",
   "execution_count": 30,
   "id": "4e32a36d",
   "metadata": {
    "execution": {
     "iopub.execute_input": "2023-07-19T07:23:28.359231Z",
     "iopub.status.busy": "2023-07-19T07:23:28.358496Z",
     "iopub.status.idle": "2023-07-19T07:23:28.484298Z",
     "shell.execute_reply": "2023-07-19T07:23:28.484906Z",
     "shell.execute_reply.started": "2023-07-19T07:22:14.669155Z"
    },
    "papermill": {
     "duration": 0.20114,
     "end_time": "2023-07-19T07:23:28.485118",
     "exception": false,
     "start_time": "2023-07-19T07:23:28.283978",
     "status": "completed"
    },
    "tags": []
   },
   "outputs": [
    {
     "data": {
      "image/png": "[encoded data removed]",
      "text/plain": [
       "<Figure size 432x432 with 1 Axes>"
      ]
     },
     "metadata": {},
     "output_type": "display_data"
    }
   ],
   "source": [
    "plt.figure(figsize=(6,6))\n",
    "sns.countplot(x=data.Item_Fat_Content)\n",
    "plt.show()"
   ]
  },
  {
   "cell_type": "code",
   "execution_count": 31,
   "id": "8cffa684",
   "metadata": {
    "execution": {
     "iopub.execute_input": "2023-07-19T07:23:28.613364Z",
     "iopub.status.busy": "2023-07-19T07:23:28.612629Z",
     "iopub.status.idle": "2023-07-19T07:23:28.955284Z",
     "shell.execute_reply": "2023-07-19T07:23:28.954525Z",
     "shell.execute_reply.started": "2023-07-19T07:22:14.862200Z"
    },
    "papermill": {
     "duration": 0.408247,
     "end_time": "2023-07-19T07:23:28.955510",
     "exception": false,
     "start_time": "2023-07-19T07:23:28.547263",
     "status": "completed"
    },
    "tags": []
   },
   "outputs": [
    {
     "data": {
      "image/png": "[encoded data removed]",
      "text/plain": [
       "<Figure size 2160x432 with 1 Axes>"
      ]
     },
     "metadata": {},
     "output_type": "display_data"
    }
   ],
   "source": [
    "plt.figure(figsize=(30,6))\n",
    "sns.countplot(x=data.Item_Type)\n",
    "plt.show()"
   ]
  },
  {
   "cell_type": "code",
   "execution_count": 32,
   "id": "9b4ec014",
   "metadata": {
    "execution": {
     "iopub.execute_input": "2023-07-19T07:23:29.088117Z",
     "iopub.status.busy": "2023-07-19T07:23:29.087418Z",
     "iopub.status.idle": "2023-07-19T07:23:29.122273Z",
     "shell.execute_reply": "2023-07-19T07:23:29.122839Z",
     "shell.execute_reply.started": "2023-07-19T07:22:15.305485Z"
    },
    "papermill": {
     "duration": 0.103618,
     "end_time": "2023-07-19T07:23:29.123028",
     "exception": false,
     "start_time": "2023-07-19T07:23:29.019410",
     "status": "completed"
    },
    "tags": []
   },
   "outputs": [
    {
     "data": {
      "text/html": [
       "<div>\n",
       "<style scoped>\n",
       "    .dataframe tbody tr th:only-of-type {\n",
       "        vertical-align: middle;\n",
       "    }\n",
       "\n",
       "    .dataframe tbody tr th {\n",
       "        vertical-align: top;\n",
       "    }\n",
       "\n",
       "    .dataframe thead th {\n",
       "        text-align: right;\n",
       "    }\n",
       "</style>\n",
       "<table border=\"1\" class=\"dataframe\">\n",
       "  <thead>\n",
       "    <tr style=\"text-align: right;\">\n",
       "      <th></th>\n",
       "      <th>Item_Identifier</th>\n",
       "      <th>Item_Weight</th>\n",
       "      <th>Item_Fat_Content</th>\n",
       "      <th>Item_Visibility</th>\n",
       "      <th>Item_Type</th>\n",
       "      <th>Item_MRP</th>\n",
       "      <th>Outlet_Identifier</th>\n",
       "      <th>Outlet_Establishment_Year</th>\n",
       "      <th>Outlet_Size</th>\n",
       "      <th>Outlet_Location_Type</th>\n",
       "      <th>Outlet_Type</th>\n",
       "      <th>Item_Outlet_Sales</th>\n",
       "      <th>source</th>\n",
       "      <th>Item_Type_Combined</th>\n",
       "      <th>Outlet_Years</th>\n",
       "    </tr>\n",
       "  </thead>\n",
       "  <tbody>\n",
       "    <tr>\n",
       "      <th>0</th>\n",
       "      <td>FDA15</td>\n",
       "      <td>9.30</td>\n",
       "      <td>Low Fat</td>\n",
       "      <td>0.016047</td>\n",
       "      <td>Dairy</td>\n",
       "      <td>249.8092</td>\n",
       "      <td>OUT049</td>\n",
       "      <td>1999</td>\n",
       "      <td>Medium</td>\n",
       "      <td>Tier 1</td>\n",
       "      <td>Supermarket Type1</td>\n",
       "      <td>3735.1380</td>\n",
       "      <td>train</td>\n",
       "      <td>Food</td>\n",
       "      <td>22</td>\n",
       "    </tr>\n",
       "    <tr>\n",
       "      <th>1</th>\n",
       "      <td>DRC01</td>\n",
       "      <td>5.92</td>\n",
       "      <td>Regular</td>\n",
       "      <td>0.019278</td>\n",
       "      <td>Soft Drinks</td>\n",
       "      <td>48.2692</td>\n",
       "      <td>OUT018</td>\n",
       "      <td>2009</td>\n",
       "      <td>Medium</td>\n",
       "      <td>Tier 3</td>\n",
       "      <td>Supermarket Type2</td>\n",
       "      <td>443.4228</td>\n",
       "      <td>train</td>\n",
       "      <td>Drinks</td>\n",
       "      <td>12</td>\n",
       "    </tr>\n",
       "    <tr>\n",
       "      <th>2</th>\n",
       "      <td>FDN15</td>\n",
       "      <td>17.50</td>\n",
       "      <td>Low Fat</td>\n",
       "      <td>0.016760</td>\n",
       "      <td>Meat</td>\n",
       "      <td>141.6180</td>\n",
       "      <td>OUT049</td>\n",
       "      <td>1999</td>\n",
       "      <td>Medium</td>\n",
       "      <td>Tier 1</td>\n",
       "      <td>Supermarket Type1</td>\n",
       "      <td>2097.2700</td>\n",
       "      <td>train</td>\n",
       "      <td>Food</td>\n",
       "      <td>22</td>\n",
       "    </tr>\n",
       "    <tr>\n",
       "      <th>3</th>\n",
       "      <td>FDX07</td>\n",
       "      <td>19.20</td>\n",
       "      <td>Regular</td>\n",
       "      <td>0.000000</td>\n",
       "      <td>Fruits and Vegetables</td>\n",
       "      <td>182.0950</td>\n",
       "      <td>OUT010</td>\n",
       "      <td>1998</td>\n",
       "      <td>Small</td>\n",
       "      <td>Tier 3</td>\n",
       "      <td>Grocery Store</td>\n",
       "      <td>732.3800</td>\n",
       "      <td>train</td>\n",
       "      <td>Food</td>\n",
       "      <td>23</td>\n",
       "    </tr>\n",
       "    <tr>\n",
       "      <th>4</th>\n",
       "      <td>NCD19</td>\n",
       "      <td>8.93</td>\n",
       "      <td>Low Fat</td>\n",
       "      <td>0.000000</td>\n",
       "      <td>Household</td>\n",
       "      <td>53.8614</td>\n",
       "      <td>OUT013</td>\n",
       "      <td>1987</td>\n",
       "      <td>High</td>\n",
       "      <td>Tier 3</td>\n",
       "      <td>Supermarket Type1</td>\n",
       "      <td>994.7052</td>\n",
       "      <td>train</td>\n",
       "      <td>Non-Consumable</td>\n",
       "      <td>34</td>\n",
       "    </tr>\n",
       "    <tr>\n",
       "      <th>...</th>\n",
       "      <td>...</td>\n",
       "      <td>...</td>\n",
       "      <td>...</td>\n",
       "      <td>...</td>\n",
       "      <td>...</td>\n",
       "      <td>...</td>\n",
       "      <td>...</td>\n",
       "      <td>...</td>\n",
       "      <td>...</td>\n",
       "      <td>...</td>\n",
       "      <td>...</td>\n",
       "      <td>...</td>\n",
       "      <td>...</td>\n",
       "      <td>...</td>\n",
       "      <td>...</td>\n",
       "    </tr>\n",
       "    <tr>\n",
       "      <th>14199</th>\n",
       "      <td>FDB58</td>\n",
       "      <td>10.50</td>\n",
       "      <td>Regular</td>\n",
       "      <td>0.013496</td>\n",
       "      <td>Snack Foods</td>\n",
       "      <td>141.3154</td>\n",
       "      <td>OUT046</td>\n",
       "      <td>1997</td>\n",
       "      <td>Small</td>\n",
       "      <td>Tier 1</td>\n",
       "      <td>Supermarket Type1</td>\n",
       "      <td>NaN</td>\n",
       "      <td>test</td>\n",
       "      <td>Food</td>\n",
       "      <td>24</td>\n",
       "    </tr>\n",
       "    <tr>\n",
       "      <th>14200</th>\n",
       "      <td>FDD47</td>\n",
       "      <td>7.60</td>\n",
       "      <td>Regular</td>\n",
       "      <td>0.142991</td>\n",
       "      <td>Starchy Foods</td>\n",
       "      <td>169.1448</td>\n",
       "      <td>OUT018</td>\n",
       "      <td>2009</td>\n",
       "      <td>Medium</td>\n",
       "      <td>Tier 3</td>\n",
       "      <td>Supermarket Type2</td>\n",
       "      <td>NaN</td>\n",
       "      <td>test</td>\n",
       "      <td>Food</td>\n",
       "      <td>12</td>\n",
       "    </tr>\n",
       "    <tr>\n",
       "      <th>14201</th>\n",
       "      <td>NCO17</td>\n",
       "      <td>10.00</td>\n",
       "      <td>Low Fat</td>\n",
       "      <td>0.073529</td>\n",
       "      <td>Health and Hygiene</td>\n",
       "      <td>118.7440</td>\n",
       "      <td>OUT045</td>\n",
       "      <td>2002</td>\n",
       "      <td>Small</td>\n",
       "      <td>Tier 2</td>\n",
       "      <td>Supermarket Type1</td>\n",
       "      <td>NaN</td>\n",
       "      <td>test</td>\n",
       "      <td>Non-Consumable</td>\n",
       "      <td>19</td>\n",
       "    </tr>\n",
       "    <tr>\n",
       "      <th>14202</th>\n",
       "      <td>FDJ26</td>\n",
       "      <td>15.30</td>\n",
       "      <td>Regular</td>\n",
       "      <td>0.000000</td>\n",
       "      <td>Canned</td>\n",
       "      <td>214.6218</td>\n",
       "      <td>OUT017</td>\n",
       "      <td>2007</td>\n",
       "      <td>Small</td>\n",
       "      <td>Tier 2</td>\n",
       "      <td>Supermarket Type1</td>\n",
       "      <td>NaN</td>\n",
       "      <td>test</td>\n",
       "      <td>Food</td>\n",
       "      <td>14</td>\n",
       "    </tr>\n",
       "    <tr>\n",
       "      <th>14203</th>\n",
       "      <td>FDU37</td>\n",
       "      <td>9.50</td>\n",
       "      <td>Regular</td>\n",
       "      <td>0.104720</td>\n",
       "      <td>Canned</td>\n",
       "      <td>79.7960</td>\n",
       "      <td>OUT045</td>\n",
       "      <td>2002</td>\n",
       "      <td>Small</td>\n",
       "      <td>Tier 2</td>\n",
       "      <td>Supermarket Type1</td>\n",
       "      <td>NaN</td>\n",
       "      <td>test</td>\n",
       "      <td>Food</td>\n",
       "      <td>19</td>\n",
       "    </tr>\n",
       "  </tbody>\n",
       "</table>\n",
       "<p>14204 rows × 15 columns</p>\n",
       "</div>"
      ],
      "text/plain": [
       "      Item_Identifier  Item_Weight Item_Fat_Content  Item_Visibility  \\\n",
       "0               FDA15         9.30          Low Fat         0.016047   \n",
       "1               DRC01         5.92          Regular         0.019278   \n",
       "2               FDN15        17.50          Low Fat         0.016760   \n",
       "3               FDX07        19.20          Regular         0.000000   \n",
       "4               NCD19         8.93          Low Fat         0.000000   \n",
       "...               ...          ...              ...              ...   \n",
       "14199           FDB58        10.50          Regular         0.013496   \n",
       "14200           FDD47         7.60          Regular         0.142991   \n",
       "14201           NCO17        10.00          Low Fat         0.073529   \n",
       "14202           FDJ26        15.30          Regular         0.000000   \n",
       "14203           FDU37         9.50          Regular         0.104720   \n",
       "\n",
       "                   Item_Type  Item_MRP Outlet_Identifier  \\\n",
       "0                      Dairy  249.8092            OUT049   \n",
       "1                Soft Drinks   48.2692            OUT018   \n",
       "2                       Meat  141.6180            OUT049   \n",
       "3      Fruits and Vegetables  182.0950            OUT010   \n",
       "4                  Household   53.8614            OUT013   \n",
       "...                      ...       ...               ...   \n",
       "14199            Snack Foods  141.3154            OUT046   \n",
       "14200          Starchy Foods  169.1448            OUT018   \n",
       "14201     Health and Hygiene  118.7440            OUT045   \n",
       "14202                 Canned  214.6218            OUT017   \n",
       "14203                 Canned   79.7960            OUT045   \n",
       "\n",
       "       Outlet_Establishment_Year Outlet_Size Outlet_Location_Type  \\\n",
       "0                           1999      Medium               Tier 1   \n",
       "1                           2009      Medium               Tier 3   \n",
       "2                           1999      Medium               Tier 1   \n",
       "3                           1998       Small               Tier 3   \n",
       "4                           1987        High               Tier 3   \n",
       "...                          ...         ...                  ...   \n",
       "14199                       1997       Small               Tier 1   \n",
       "14200                       2009      Medium               Tier 3   \n",
       "14201                       2002       Small               Tier 2   \n",
       "14202                       2007       Small               Tier 2   \n",
       "14203                       2002       Small               Tier 2   \n",
       "\n",
       "             Outlet_Type  Item_Outlet_Sales source Item_Type_Combined  \\\n",
       "0      Supermarket Type1          3735.1380  train               Food   \n",
       "1      Supermarket Type2           443.4228  train             Drinks   \n",
       "2      Supermarket Type1          2097.2700  train               Food   \n",
       "3          Grocery Store           732.3800  train               Food   \n",
       "4      Supermarket Type1           994.7052  train     Non-Consumable   \n",
       "...                  ...                ...    ...                ...   \n",
       "14199  Supermarket Type1                NaN   test               Food   \n",
       "14200  Supermarket Type2                NaN   test               Food   \n",
       "14201  Supermarket Type1                NaN   test     Non-Consumable   \n",
       "14202  Supermarket Type1                NaN   test               Food   \n",
       "14203  Supermarket Type1                NaN   test               Food   \n",
       "\n",
       "       Outlet_Years  \n",
       "0                22  \n",
       "1                12  \n",
       "2                22  \n",
       "3                23  \n",
       "4                34  \n",
       "...             ...  \n",
       "14199            24  \n",
       "14200            12  \n",
       "14201            19  \n",
       "14202            14  \n",
       "14203            19  \n",
       "\n",
       "[14204 rows x 15 columns]"
      ]
     },
     "execution_count": 32,
     "metadata": {},
     "output_type": "execute_result"
    }
   ],
   "source": [
    "data"
   ]
  },
  {
   "cell_type": "code",
   "execution_count": 33,
   "id": "656869a7",
   "metadata": {
    "execution": {
     "iopub.execute_input": "2023-07-19T07:23:29.255266Z",
     "iopub.status.busy": "2023-07-19T07:23:29.254549Z",
     "iopub.status.idle": "2023-07-19T07:23:29.263981Z",
     "shell.execute_reply": "2023-07-19T07:23:29.264733Z",
     "shell.execute_reply.started": "2023-07-19T07:22:15.360283Z"
    },
    "papermill": {
     "duration": 0.077158,
     "end_time": "2023-07-19T07:23:29.264944",
     "exception": false,
     "start_time": "2023-07-19T07:23:29.187786",
     "status": "completed"
    },
    "tags": []
   },
   "outputs": [
    {
     "data": {
      "text/plain": [
       "Low Fat    9185\n",
       "Regular    5019\n",
       "Name: Item_Fat_Content, dtype: int64"
      ]
     },
     "execution_count": 33,
     "metadata": {},
     "output_type": "execute_result"
    }
   ],
   "source": [
    "data.Item_Fat_Content.value_counts()"
   ]
  },
  {
   "cell_type": "code",
   "execution_count": 34,
   "id": "c4906cf8",
   "metadata": {
    "execution": {
     "iopub.execute_input": "2023-07-19T07:23:29.396602Z",
     "iopub.status.busy": "2023-07-19T07:23:29.395851Z",
     "iopub.status.idle": "2023-07-19T07:23:29.406906Z",
     "shell.execute_reply": "2023-07-19T07:23:29.407432Z",
     "shell.execute_reply.started": "2023-07-19T07:22:15.382566Z"
    },
    "papermill": {
     "duration": 0.078719,
     "end_time": "2023-07-19T07:23:29.407638",
     "exception": false,
     "start_time": "2023-07-19T07:23:29.328919",
     "status": "completed"
    },
    "tags": []
   },
   "outputs": [
    {
     "data": {
      "text/plain": [
       "Low Fat       6499\n",
       "Regular       5019\n",
       "Non-Edible    2686\n",
       "Name: Item_Fat_Content, dtype: int64"
      ]
     },
     "execution_count": 34,
     "metadata": {},
     "output_type": "execute_result"
    }
   ],
   "source": [
    "data.loc[data['Item_Type_Combined']==\"Non-Consumable\",'Item_Fat_Content'] = \"Non-Edible\"\n",
    "data['Item_Fat_Content'].value_counts()"
   ]
  },
  {
   "cell_type": "code",
   "execution_count": 35,
   "id": "a039bee1",
   "metadata": {
    "execution": {
     "iopub.execute_input": "2023-07-19T07:23:29.539527Z",
     "iopub.status.busy": "2023-07-19T07:23:29.538818Z",
     "iopub.status.idle": "2023-07-19T07:23:29.547984Z",
     "shell.execute_reply": "2023-07-19T07:23:29.548498Z",
     "shell.execute_reply.started": "2023-07-19T07:22:15.416088Z"
    },
    "papermill": {
     "duration": 0.076251,
     "end_time": "2023-07-19T07:23:29.548696",
     "exception": false,
     "start_time": "2023-07-19T07:23:29.472445",
     "status": "completed"
    },
    "tags": []
   },
   "outputs": [
    {
     "data": {
      "text/plain": [
       "Low Fat       6499\n",
       "Regular       5019\n",
       "Non-Edible    2686\n",
       "Name: Item_Fat_Content, dtype: int64"
      ]
     },
     "execution_count": 35,
     "metadata": {},
     "output_type": "execute_result"
    }
   ],
   "source": [
    "data.Item_Fat_Content.value_counts()"
   ]
  },
  {
   "cell_type": "code",
   "execution_count": 36,
   "id": "64252554",
   "metadata": {
    "execution": {
     "iopub.execute_input": "2023-07-19T07:23:29.685140Z",
     "iopub.status.busy": "2023-07-19T07:23:29.684370Z",
     "iopub.status.idle": "2023-07-19T07:23:29.691223Z",
     "shell.execute_reply": "2023-07-19T07:23:29.691853Z",
     "shell.execute_reply.started": "2023-07-19T07:22:15.434957Z"
    },
    "papermill": {
     "duration": 0.07823,
     "end_time": "2023-07-19T07:23:29.692056",
     "exception": false,
     "start_time": "2023-07-19T07:23:29.613826",
     "status": "completed"
    },
    "tags": []
   },
   "outputs": [],
   "source": [
    "Fat = pd.get_dummies(data.Item_Fat_Content,drop_first=True)"
   ]
  },
  {
   "cell_type": "code",
   "execution_count": 37,
   "id": "acd4e9f2",
   "metadata": {
    "execution": {
     "iopub.execute_input": "2023-07-19T07:23:29.828114Z",
     "iopub.status.busy": "2023-07-19T07:23:29.827451Z",
     "iopub.status.idle": "2023-07-19T07:23:29.834171Z",
     "shell.execute_reply": "2023-07-19T07:23:29.834797Z",
     "shell.execute_reply.started": "2023-07-19T07:22:15.456296Z"
    },
    "papermill": {
     "duration": 0.076282,
     "end_time": "2023-07-19T07:23:29.834993",
     "exception": false,
     "start_time": "2023-07-19T07:23:29.758711",
     "status": "completed"
    },
    "tags": []
   },
   "outputs": [],
   "source": [
    "Type = pd.get_dummies(data.Item_Type,drop_first=True)"
   ]
  },
  {
   "cell_type": "code",
   "execution_count": 38,
   "id": "e16095d9",
   "metadata": {
    "execution": {
     "iopub.execute_input": "2023-07-19T07:23:29.967056Z",
     "iopub.status.busy": "2023-07-19T07:23:29.966308Z",
     "iopub.status.idle": "2023-07-19T07:23:29.969959Z",
     "shell.execute_reply": "2023-07-19T07:23:29.970465Z",
     "shell.execute_reply.started": "2023-07-19T07:22:15.472436Z"
    },
    "papermill": {
     "duration": 0.071579,
     "end_time": "2023-07-19T07:23:29.970683",
     "exception": false,
     "start_time": "2023-07-19T07:23:29.899104",
     "status": "completed"
    },
    "tags": []
   },
   "outputs": [],
   "source": [
    "encoder = LabelEncoder()"
   ]
  },
  {
   "cell_type": "code",
   "execution_count": 39,
   "id": "7ef83ed9",
   "metadata": {
    "execution": {
     "iopub.execute_input": "2023-07-19T07:23:30.107428Z",
     "iopub.status.busy": "2023-07-19T07:23:30.106313Z",
     "iopub.status.idle": "2023-07-19T07:23:30.152106Z",
     "shell.execute_reply": "2023-07-19T07:23:30.153059Z",
     "shell.execute_reply.started": "2023-07-19T07:22:15.485478Z"
    },
    "papermill": {
     "duration": 0.115202,
     "end_time": "2023-07-19T07:23:30.153352",
     "exception": false,
     "start_time": "2023-07-19T07:23:30.038150",
     "status": "completed"
    },
    "tags": []
   },
   "outputs": [],
   "source": [
    "data.Item_Identifier=encoder.fit_transform(data['Item_Identifier'])\n",
    "data.Item_Fat_Content=encoder.fit_transform(data['Item_Fat_Content'])\n",
    "data.Outlet_Location_Type=encoder.fit_transform(data['Outlet_Location_Type'])\n",
    "data.Outlet_Identifier=encoder.fit_transform(data['Outlet_Identifier'])\n",
    "data.Outlet_Type=encoder.fit_transform(data['Outlet_Type'])\n",
    "data.Outlet_Size=encoder.fit_transform(data['Outlet_Size'])\n",
    "data.Item_Type_Combined=encoder.fit_transform(data['Item_Type_Combined'])"
   ]
  },
  {
   "cell_type": "code",
   "execution_count": 40,
   "id": "820d6e27",
   "metadata": {
    "execution": {
     "iopub.execute_input": "2023-07-19T07:23:30.303331Z",
     "iopub.status.busy": "2023-07-19T07:23:30.302504Z",
     "iopub.status.idle": "2023-07-19T07:23:30.321424Z",
     "shell.execute_reply": "2023-07-19T07:23:30.320871Z",
     "shell.execute_reply.started": "2023-07-19T07:22:28.683194Z"
    },
    "papermill": {
     "duration": 0.091712,
     "end_time": "2023-07-19T07:23:30.321603",
     "exception": false,
     "start_time": "2023-07-19T07:23:30.229891",
     "status": "completed"
    },
    "tags": []
   },
   "outputs": [
    {
     "name": "stderr",
     "output_type": "stream",
     "text": [
      "/opt/conda/lib/python3.7/site-packages/pandas/core/frame.py:4315: SettingWithCopyWarning: \n",
      "A value is trying to be set on a copy of a slice from a DataFrame\n",
      "\n",
      "See the caveats in the documentation: https://pandas.pydata.org/pandas-docs/stable/user_guide/indexing.html#returning-a-view-versus-a-copy\n",
      "  errors=errors,\n"
     ]
    }
   ],
   "source": [
    "data.drop(['Item_Type','Outlet_Establishment_Year'],axis=1,inplace=True)\n",
    "\n",
    "train = data.loc[data['source']==\"train\"]\n",
    "test = data.loc[data['source']==\"test\"]\n",
    "\n",
    "test.drop(['Item_Outlet_Sales','source'],axis=1,inplace=True)\n",
    "train.drop(['source'],axis=1,inplace=True)"
   ]
  },
  {
   "cell_type": "code",
   "execution_count": 41,
   "id": "5f71b2e4",
   "metadata": {
    "execution": {
     "iopub.execute_input": "2023-07-19T07:23:30.457569Z",
     "iopub.status.busy": "2023-07-19T07:23:30.456467Z",
     "iopub.status.idle": "2023-07-19T07:23:30.463189Z",
     "shell.execute_reply": "2023-07-19T07:23:30.463747Z",
     "shell.execute_reply.started": "2023-07-19T07:22:15.595107Z"
    },
    "papermill": {
     "duration": 0.075562,
     "end_time": "2023-07-19T07:23:30.463946",
     "exception": false,
     "start_time": "2023-07-19T07:23:30.388384",
     "status": "completed"
    },
    "tags": []
   },
   "outputs": [],
   "source": [
    "X=train.drop(['Item_Outlet_Sales'],axis=1)\n",
    "y=train.Item_Outlet_Sales"
   ]
  },
  {
   "cell_type": "code",
   "execution_count": 42,
   "id": "818b728b",
   "metadata": {
    "execution": {
     "iopub.execute_input": "2023-07-19T07:23:30.600729Z",
     "iopub.status.busy": "2023-07-19T07:23:30.599720Z",
     "iopub.status.idle": "2023-07-19T07:23:30.605968Z",
     "shell.execute_reply": "2023-07-19T07:23:30.605413Z",
     "shell.execute_reply.started": "2023-07-19T07:22:15.608755Z"
    },
    "papermill": {
     "duration": 0.077415,
     "end_time": "2023-07-19T07:23:30.606122",
     "exception": false,
     "start_time": "2023-07-19T07:23:30.528707",
     "status": "completed"
    },
    "tags": []
   },
   "outputs": [],
   "source": [
    "X_train,X_test,y_train,y_test = train_test_split(X,y,random_state = 0, test_size=0.2)"
   ]
  },
  {
   "cell_type": "code",
   "execution_count": 43,
   "id": "3eea1a04",
   "metadata": {
    "execution": {
     "iopub.execute_input": "2023-07-19T07:23:30.744013Z",
     "iopub.status.busy": "2023-07-19T07:23:30.742843Z",
     "iopub.status.idle": "2023-07-19T07:23:30.747269Z",
     "shell.execute_reply": "2023-07-19T07:23:30.746610Z",
     "shell.execute_reply.started": "2023-07-19T07:22:15.626979Z"
    },
    "papermill": {
     "duration": 0.076729,
     "end_time": "2023-07-19T07:23:30.747418",
     "exception": false,
     "start_time": "2023-07-19T07:23:30.670689",
     "status": "completed"
    },
    "tags": []
   },
   "outputs": [
    {
     "data": {
      "text/plain": [
       "((6818, 11), (6818,))"
      ]
     },
     "execution_count": 43,
     "metadata": {},
     "output_type": "execute_result"
    }
   ],
   "source": [
    "X_train.shape,y_train.shape"
   ]
  },
  {
   "cell_type": "code",
   "execution_count": 44,
   "id": "f4472b4e",
   "metadata": {
    "execution": {
     "iopub.execute_input": "2023-07-19T07:23:30.882955Z",
     "iopub.status.busy": "2023-07-19T07:23:30.881896Z",
     "iopub.status.idle": "2023-07-19T07:23:30.952962Z",
     "shell.execute_reply": "2023-07-19T07:23:30.953462Z",
     "shell.execute_reply.started": "2023-07-19T07:22:15.645524Z"
    },
    "papermill": {
     "duration": 0.140901,
     "end_time": "2023-07-19T07:23:30.953687",
     "exception": false,
     "start_time": "2023-07-19T07:23:30.812786",
     "status": "completed"
    },
    "tags": []
   },
   "outputs": [
    {
     "data": {
      "text/plain": [
       "LinearRegression(normalize=True)"
      ]
     },
     "execution_count": 44,
     "metadata": {},
     "output_type": "execute_result"
    }
   ],
   "source": [
    "model = LinearRegression(normalize=True)\n",
    "model.fit(X_train,y_train)"
   ]
  },
  {
   "cell_type": "code",
   "execution_count": 45,
   "id": "3a8084bc",
   "metadata": {
    "execution": {
     "iopub.execute_input": "2023-07-19T07:23:31.091854Z",
     "iopub.status.busy": "2023-07-19T07:23:31.090645Z",
     "iopub.status.idle": "2023-07-19T07:23:31.111665Z",
     "shell.execute_reply": "2023-07-19T07:23:31.112634Z",
     "shell.execute_reply.started": "2023-07-19T07:22:15.716790Z"
    },
    "papermill": {
     "duration": 0.09322,
     "end_time": "2023-07-19T07:23:31.112914",
     "exception": false,
     "start_time": "2023-07-19T07:23:31.019694",
     "status": "completed"
    },
    "tags": []
   },
   "outputs": [
    {
     "data": {
      "text/plain": [
       "0.5025936708000567"
      ]
     },
     "execution_count": 45,
     "metadata": {},
     "output_type": "execute_result"
    }
   ],
   "source": [
    "pred1 = model.predict(X_train)\n",
    "score1= metrics.r2_score(y_train,pred1)\n",
    "score1"
   ]
  },
  {
   "cell_type": "code",
   "execution_count": 46,
   "id": "ddc11ab8",
   "metadata": {
    "execution": {
     "iopub.execute_input": "2023-07-19T07:23:31.293626Z",
     "iopub.status.busy": "2023-07-19T07:23:31.292577Z",
     "iopub.status.idle": "2023-07-19T07:23:31.299995Z",
     "shell.execute_reply": "2023-07-19T07:23:31.300894Z",
     "shell.execute_reply.started": "2023-07-19T07:22:15.737674Z"
    },
    "papermill": {
     "duration": 0.081186,
     "end_time": "2023-07-19T07:23:31.301162",
     "exception": false,
     "start_time": "2023-07-19T07:23:31.219976",
     "status": "completed"
    },
    "tags": []
   },
   "outputs": [
    {
     "data": {
      "text/plain": [
       "0.507743351641341"
      ]
     },
     "execution_count": 46,
     "metadata": {},
     "output_type": "execute_result"
    }
   ],
   "source": [
    "pred2 = model.predict(X_test)\n",
    "score2=metrics.r2_score(y_test,pred2)\n",
    "score2"
   ]
  },
  {
   "cell_type": "code",
   "execution_count": 47,
   "id": "61c5f617",
   "metadata": {
    "execution": {
     "iopub.execute_input": "2023-07-19T07:23:31.484176Z",
     "iopub.status.busy": "2023-07-19T07:23:31.483219Z",
     "iopub.status.idle": "2023-07-19T07:23:31.499568Z",
     "shell.execute_reply": "2023-07-19T07:23:31.500362Z",
     "shell.execute_reply.started": "2023-07-19T07:22:15.763236Z"
    },
    "papermill": {
     "duration": 0.092717,
     "end_time": "2023-07-19T07:23:31.500648",
     "exception": false,
     "start_time": "2023-07-19T07:23:31.407931",
     "status": "completed"
    },
    "tags": []
   },
   "outputs": [
    {
     "data": {
      "text/plain": [
       "Ridge(alpha=0.05, normalize=True)"
      ]
     },
     "execution_count": 47,
     "metadata": {},
     "output_type": "execute_result"
    }
   ],
   "source": [
    "from sklearn.linear_model import Ridge\n",
    "model2 = Ridge(alpha=0.05,normalize=True)\n",
    "model2.fit(X_train,y_train)"
   ]
  },
  {
   "cell_type": "code",
   "execution_count": 48,
   "id": "33a1cff0",
   "metadata": {
    "execution": {
     "iopub.execute_input": "2023-07-19T07:23:31.679129Z",
     "iopub.status.busy": "2023-07-19T07:23:31.678385Z",
     "iopub.status.idle": "2023-07-19T07:23:31.693915Z",
     "shell.execute_reply": "2023-07-19T07:23:31.694910Z",
     "shell.execute_reply.started": "2023-07-19T07:22:15.821132Z"
    },
    "papermill": {
     "duration": 0.085832,
     "end_time": "2023-07-19T07:23:31.695209",
     "exception": false,
     "start_time": "2023-07-19T07:23:31.609377",
     "status": "completed"
    },
    "tags": []
   },
   "outputs": [
    {
     "data": {
      "text/plain": [
       "0.5013241056494007"
      ]
     },
     "execution_count": 48,
     "metadata": {},
     "output_type": "execute_result"
    }
   ],
   "source": [
    "pred1 = model2.predict(X_train)\n",
    "score1= metrics.r2_score(y_train,pred1)\n",
    "score1"
   ]
  },
  {
   "cell_type": "code",
   "execution_count": 49,
   "id": "ec2e51b2",
   "metadata": {
    "execution": {
     "iopub.execute_input": "2023-07-19T07:23:31.880932Z",
     "iopub.status.busy": "2023-07-19T07:23:31.879772Z",
     "iopub.status.idle": "2023-07-19T07:23:31.887743Z",
     "shell.execute_reply": "2023-07-19T07:23:31.888744Z",
     "shell.execute_reply.started": "2023-07-19T07:22:15.873726Z"
    },
    "papermill": {
     "duration": 0.083458,
     "end_time": "2023-07-19T07:23:31.889020",
     "exception": false,
     "start_time": "2023-07-19T07:23:31.805562",
     "status": "completed"
    },
    "tags": []
   },
   "outputs": [
    {
     "data": {
      "text/plain": [
       "0.5060276904397362"
      ]
     },
     "execution_count": 49,
     "metadata": {},
     "output_type": "execute_result"
    }
   ],
   "source": [
    "pred2 = model2.predict(X_test)\n",
    "score2=metrics.r2_score(y_test,pred2)\n",
    "score2"
   ]
  },
  {
   "cell_type": "code",
   "execution_count": 50,
   "id": "8c0b3722",
   "metadata": {
    "execution": {
     "iopub.execute_input": "2023-07-19T07:23:32.074013Z",
     "iopub.status.busy": "2023-07-19T07:23:32.073278Z",
     "iopub.status.idle": "2023-07-19T07:23:32.204240Z",
     "shell.execute_reply": "2023-07-19T07:23:32.204784Z",
     "shell.execute_reply.started": "2023-07-19T07:22:15.906943Z"
    },
    "papermill": {
     "duration": 0.203673,
     "end_time": "2023-07-19T07:23:32.204971",
     "exception": false,
     "start_time": "2023-07-19T07:23:32.001298",
     "status": "completed"
    },
    "tags": []
   },
   "outputs": [
    {
     "data": {
      "text/plain": [
       "DecisionTreeRegressor(max_depth=15, min_samples_leaf=100)"
      ]
     },
     "execution_count": 50,
     "metadata": {},
     "output_type": "execute_result"
    }
   ],
   "source": [
    "from sklearn.tree import DecisionTreeRegressor\n",
    "dt = DecisionTreeRegressor(max_depth=15, min_samples_leaf=100)\n",
    "dt.fit(X_train,y_train)"
   ]
  },
  {
   "cell_type": "code",
   "execution_count": 51,
   "id": "bea45692",
   "metadata": {
    "execution": {
     "iopub.execute_input": "2023-07-19T07:23:32.348829Z",
     "iopub.status.busy": "2023-07-19T07:23:32.348066Z",
     "iopub.status.idle": "2023-07-19T07:23:32.358234Z",
     "shell.execute_reply": "2023-07-19T07:23:32.358720Z",
     "shell.execute_reply.started": "2023-07-19T07:22:16.089470Z"
    },
    "papermill": {
     "duration": 0.083814,
     "end_time": "2023-07-19T07:23:32.358906",
     "exception": false,
     "start_time": "2023-07-19T07:23:32.275092",
     "status": "completed"
    },
    "tags": []
   },
   "outputs": [
    {
     "data": {
      "text/plain": [
       "0.6154319638089591"
      ]
     },
     "execution_count": 51,
     "metadata": {},
     "output_type": "execute_result"
    }
   ],
   "source": [
    "pred1 = dt.predict(X_train)\n",
    "score1= metrics.r2_score(y_train,pred1)\n",
    "score1"
   ]
  },
  {
   "cell_type": "code",
   "execution_count": 52,
   "id": "cb5a254e",
   "metadata": {
    "execution": {
     "iopub.execute_input": "2023-07-19T07:23:32.502389Z",
     "iopub.status.busy": "2023-07-19T07:23:32.501671Z",
     "iopub.status.idle": "2023-07-19T07:23:32.510487Z",
     "shell.execute_reply": "2023-07-19T07:23:32.510989Z",
     "shell.execute_reply.started": "2023-07-19T07:22:16.105345Z"
    },
    "papermill": {
     "duration": 0.083542,
     "end_time": "2023-07-19T07:23:32.511193",
     "exception": false,
     "start_time": "2023-07-19T07:23:32.427651",
     "status": "completed"
    },
    "tags": []
   },
   "outputs": [
    {
     "data": {
      "text/plain": [
       "0.5843972557626875"
      ]
     },
     "execution_count": 52,
     "metadata": {},
     "output_type": "execute_result"
    }
   ],
   "source": [
    "pred2 = dt.predict(X_test)\n",
    "score2=metrics.r2_score(y_test,pred2)\n",
    "score2"
   ]
  },
  {
   "cell_type": "code",
   "execution_count": 53,
   "id": "c88d4142",
   "metadata": {
    "execution": {
     "iopub.execute_input": "2023-07-19T07:23:32.652734Z",
     "iopub.status.busy": "2023-07-19T07:23:32.651933Z",
     "iopub.status.idle": "2023-07-19T07:23:32.684775Z",
     "shell.execute_reply": "2023-07-19T07:23:32.685266Z",
     "shell.execute_reply.started": "2023-07-19T07:22:16.126064Z"
    },
    "papermill": {
     "duration": 0.105307,
     "end_time": "2023-07-19T07:23:32.685461",
     "exception": false,
     "start_time": "2023-07-19T07:23:32.580154",
     "status": "completed"
    },
    "tags": []
   },
   "outputs": [
    {
     "data": {
      "text/plain": [
       "0.6050355080397927"
      ]
     },
     "execution_count": 53,
     "metadata": {},
     "output_type": "execute_result"
    }
   ],
   "source": [
    "dt2 = DecisionTreeRegressor(max_depth=8, min_samples_leaf=150)\n",
    "dt2.fit(X_train,y_train)\n",
    "\n",
    "pred1 = dt2.predict(X_train)\n",
    "score1= metrics.r2_score(y_train,pred1)\n",
    "score1"
   ]
  },
  {
   "cell_type": "code",
   "execution_count": 54,
   "id": "c284af49",
   "metadata": {
    "execution": {
     "iopub.execute_input": "2023-07-19T07:23:32.828368Z",
     "iopub.status.busy": "2023-07-19T07:23:32.827325Z",
     "iopub.status.idle": "2023-07-19T07:23:32.837067Z",
     "shell.execute_reply": "2023-07-19T07:23:32.837672Z",
     "shell.execute_reply.started": "2023-07-19T07:22:16.167634Z"
    },
    "papermill": {
     "duration": 0.084018,
     "end_time": "2023-07-19T07:23:32.837863",
     "exception": false,
     "start_time": "2023-07-19T07:23:32.753845",
     "status": "completed"
    },
    "tags": []
   },
   "outputs": [
    {
     "data": {
      "text/plain": [
       "0.5840520828216506"
      ]
     },
     "execution_count": 54,
     "metadata": {},
     "output_type": "execute_result"
    }
   ],
   "source": [
    "pred2 = dt2.predict(X_test)\n",
    "score2=metrics.r2_score(y_test,pred2)\n",
    "score2"
   ]
  },
  {
   "cell_type": "code",
   "execution_count": 55,
   "id": "604cd7c2",
   "metadata": {
    "execution": {
     "iopub.execute_input": "2023-07-19T07:23:32.983979Z",
     "iopub.status.busy": "2023-07-19T07:23:32.982937Z",
     "iopub.status.idle": "2023-07-19T07:23:34.137334Z",
     "shell.execute_reply": "2023-07-19T07:23:34.136554Z",
     "shell.execute_reply.started": "2023-07-19T07:22:16.184556Z"
    },
    "papermill": {
     "duration": 1.229237,
     "end_time": "2023-07-19T07:23:34.137500",
     "exception": false,
     "start_time": "2023-07-19T07:23:32.908263",
     "status": "completed"
    },
    "tags": []
   },
   "outputs": [
    {
     "data": {
      "text/plain": [
       "0.6047850465803914"
      ]
     },
     "execution_count": 55,
     "metadata": {},
     "output_type": "execute_result"
    }
   ],
   "source": [
    "from sklearn.ensemble import RandomForestRegressor\n",
    "rf = RandomForestRegressor(n_estimators=200,max_depth=5, min_samples_leaf=100,n_jobs=4)\n",
    "rf.fit(X_train,y_train)\n",
    "\n",
    "pred1 = rf.predict(X_train)\n",
    "score1= metrics.r2_score(y_train,pred1)\n",
    "score1"
   ]
  },
  {
   "cell_type": "code",
   "execution_count": 56,
   "id": "1241d50f",
   "metadata": {
    "execution": {
     "iopub.execute_input": "2023-07-19T07:23:34.286192Z",
     "iopub.status.busy": "2023-07-19T07:23:34.285430Z",
     "iopub.status.idle": "2023-07-19T07:23:34.394771Z",
     "shell.execute_reply": "2023-07-19T07:23:34.394151Z",
     "shell.execute_reply.started": "2023-07-19T07:22:17.586953Z"
    },
    "papermill": {
     "duration": 0.186965,
     "end_time": "2023-07-19T07:23:34.394941",
     "exception": false,
     "start_time": "2023-07-19T07:23:34.207976",
     "status": "completed"
    },
    "tags": []
   },
   "outputs": [
    {
     "data": {
      "text/plain": [
       "0.5893926903557893"
      ]
     },
     "execution_count": 56,
     "metadata": {},
     "output_type": "execute_result"
    }
   ],
   "source": [
    "pred2 = rf.predict(X_test)\n",
    "score2=metrics.r2_score(y_test,pred2)\n",
    "score2"
   ]
  },
  {
   "cell_type": "code",
   "execution_count": 57,
   "id": "fdfdd949",
   "metadata": {
    "execution": {
     "iopub.execute_input": "2023-07-19T07:23:34.543774Z",
     "iopub.status.busy": "2023-07-19T07:23:34.542993Z",
     "iopub.status.idle": "2023-07-19T07:23:37.364243Z",
     "shell.execute_reply": "2023-07-19T07:23:37.364761Z",
     "shell.execute_reply.started": "2023-07-19T07:22:17.705376Z"
    },
    "papermill": {
     "duration": 2.89859,
     "end_time": "2023-07-19T07:23:37.364957",
     "exception": false,
     "start_time": "2023-07-19T07:23:34.466367",
     "status": "completed"
    },
    "tags": []
   },
   "outputs": [
    {
     "data": {
      "text/plain": [
       "0.608983500391715"
      ]
     },
     "execution_count": 57,
     "metadata": {},
     "output_type": "execute_result"
    }
   ],
   "source": [
    "rf2 = RandomForestRegressor(n_estimators=400,max_depth=6, min_samples_leaf=100,n_jobs=4)\n",
    "rf2.fit(X_train,y_train)\n",
    "\n",
    "pred1 = rf2.predict(X_train)\n",
    "score1= metrics.r2_score(y_train,pred1)\n",
    "score1"
   ]
  },
  {
   "cell_type": "code",
   "execution_count": 58,
   "id": "f20ef852",
   "metadata": {
    "execution": {
     "iopub.execute_input": "2023-07-19T07:23:37.513123Z",
     "iopub.status.busy": "2023-07-19T07:23:37.512356Z",
     "iopub.status.idle": "2023-07-19T07:23:37.620437Z",
     "shell.execute_reply": "2023-07-19T07:23:37.619907Z",
     "shell.execute_reply.started": "2023-07-19T07:22:20.601936Z"
    },
    "papermill": {
     "duration": 0.186407,
     "end_time": "2023-07-19T07:23:37.620628",
     "exception": false,
     "start_time": "2023-07-19T07:23:37.434221",
     "status": "completed"
    },
    "tags": []
   },
   "outputs": [
    {
     "data": {
      "text/plain": [
       "0.5913124519927888"
      ]
     },
     "execution_count": 58,
     "metadata": {},
     "output_type": "execute_result"
    }
   ],
   "source": [
    "pred2 = rf2.predict(X_test)\n",
    "score2=metrics.r2_score(y_test,pred2)\n",
    "score2"
   ]
  },
  {
   "cell_type": "code",
   "execution_count": 59,
   "id": "ce0c95c8",
   "metadata": {
    "execution": {
     "iopub.execute_input": "2023-07-19T07:23:37.763609Z",
     "iopub.status.busy": "2023-07-19T07:23:37.762870Z",
     "iopub.status.idle": "2023-07-19T07:23:37.861024Z",
     "shell.execute_reply": "2023-07-19T07:23:37.860408Z",
     "shell.execute_reply.started": "2023-07-19T07:22:20.721216Z"
    },
    "papermill": {
     "duration": 0.171317,
     "end_time": "2023-07-19T07:23:37.861198",
     "exception": false,
     "start_time": "2023-07-19T07:23:37.689881",
     "status": "completed"
    },
    "tags": []
   },
   "outputs": [],
   "source": [
    "from xgboost import XGBRegressor"
   ]
  },
  {
   "cell_type": "code",
   "execution_count": 60,
   "id": "613acf49",
   "metadata": {
    "execution": {
     "iopub.execute_input": "2023-07-19T07:23:38.012849Z",
     "iopub.status.busy": "2023-07-19T07:23:38.012103Z",
     "iopub.status.idle": "2023-07-19T07:23:40.157010Z",
     "shell.execute_reply": "2023-07-19T07:23:40.158078Z",
     "shell.execute_reply.started": "2023-07-19T07:22:20.847731Z"
    },
    "papermill": {
     "duration": 2.22506,
     "end_time": "2023-07-19T07:23:40.158416",
     "exception": false,
     "start_time": "2023-07-19T07:23:37.933356",
     "status": "completed"
    },
    "tags": []
   },
   "outputs": [
    {
     "data": {
      "text/plain": [
       "XGBRegressor(base_score=0.5, booster='gbtree', colsample_bylevel=1,\n",
       "             colsample_bynode=1, colsample_bytree=1, gamma=0, gpu_id=-1,\n",
       "             importance_type='gain', interaction_constraints='',\n",
       "             learning_rate=0.01, max_delta_step=0, max_depth=6,\n",
       "             min_child_weight=1, missing=nan, monotone_constraints='()',\n",
       "             n_estimators=400, n_jobs=4, num_parallel_tree=1, random_state=0,\n",
       "             reg_alpha=0, reg_lambda=1, scale_pos_weight=1, subsample=1,\n",
       "             tree_method='exact', validate_parameters=1, verbosity=None)"
      ]
     },
     "execution_count": 60,
     "metadata": {},
     "output_type": "execute_result"
    }
   ],
   "source": [
    "xgb = XGBRegressor(n_estimators=400,max_depth=6,n_jobs=4,learning_rate=0.01)\n",
    "xgb.fit(X_train,y_train)"
   ]
  },
  {
   "cell_type": "code",
   "execution_count": 61,
   "id": "d2daf9f8",
   "metadata": {
    "execution": {
     "iopub.execute_input": "2023-07-19T07:23:40.312400Z",
     "iopub.status.busy": "2023-07-19T07:23:40.311676Z",
     "iopub.status.idle": "2023-07-19T07:23:40.349147Z",
     "shell.execute_reply": "2023-07-19T07:23:40.348178Z",
     "shell.execute_reply.started": "2023-07-19T07:22:23.150531Z"
    },
    "papermill": {
     "duration": 0.110719,
     "end_time": "2023-07-19T07:23:40.349307",
     "exception": false,
     "start_time": "2023-07-19T07:23:40.238588",
     "status": "completed"
    },
    "tags": []
   },
   "outputs": [
    {
     "data": {
      "text/plain": [
       "0.6723222475920678"
      ]
     },
     "execution_count": 61,
     "metadata": {},
     "output_type": "execute_result"
    }
   ],
   "source": [
    "pred1 = xgb.predict(X_train)\n",
    "score1= metrics.r2_score(y_train,pred1)\n",
    "score1"
   ]
  },
  {
   "cell_type": "code",
   "execution_count": 62,
   "id": "df26198a",
   "metadata": {
    "execution": {
     "iopub.execute_input": "2023-07-19T07:23:40.494327Z",
     "iopub.status.busy": "2023-07-19T07:23:40.493647Z",
     "iopub.status.idle": "2023-07-19T07:23:40.512184Z",
     "shell.execute_reply": "2023-07-19T07:23:40.512712Z",
     "shell.execute_reply.started": "2023-07-19T07:22:23.205039Z"
    },
    "papermill": {
     "duration": 0.092449,
     "end_time": "2023-07-19T07:23:40.512902",
     "exception": false,
     "start_time": "2023-07-19T07:23:40.420453",
     "status": "completed"
    },
    "tags": []
   },
   "outputs": [
    {
     "data": {
      "text/plain": [
       "0.5794229608513246"
      ]
     },
     "execution_count": 62,
     "metadata": {},
     "output_type": "execute_result"
    }
   ],
   "source": [
    "pred2 = xgb.predict(X_test)\n",
    "score2=metrics.r2_score(y_test,pred2)\n",
    "score2"
   ]
  },
  {
   "cell_type": "code",
   "execution_count": 63,
   "id": "d01f4755",
   "metadata": {
    "execution": {
     "iopub.execute_input": "2023-07-19T07:23:40.658377Z",
     "iopub.status.busy": "2023-07-19T07:23:40.657734Z",
     "iopub.status.idle": "2023-07-19T07:23:40.868303Z",
     "shell.execute_reply": "2023-07-19T07:23:40.867578Z",
     "shell.execute_reply.started": "2023-07-19T07:22:41.585479Z"
    },
    "papermill": {
     "duration": 0.285087,
     "end_time": "2023-07-19T07:23:40.868465",
     "exception": false,
     "start_time": "2023-07-19T07:23:40.583378",
     "status": "completed"
    },
    "tags": []
   },
   "outputs": [],
   "source": [
    "prediction= rf2.predict(test)"
   ]
  },
  {
   "cell_type": "code",
   "execution_count": null,
   "id": "fb475f91",
   "metadata": {
    "papermill": {
     "duration": 0.073299,
     "end_time": "2023-07-19T07:23:41.014029",
     "exception": false,
     "start_time": "2023-07-19T07:23:40.940730",
     "status": "completed"
    },
    "tags": []
   },
   "outputs": [],
   "source": []
  }
 ],
 "metadata": {
  "kernelspec": {
   "display_name": "Python 3 (ipykernel)",
   "language": "python",
   "name": "python3"
  },
  "language_info": {
   "codemirror_mode": {
    "name": "ipython",
    "version": 3
   },
   "file_extension": ".py",
   "mimetype": "text/x-python",
   "name": "python",
   "nbconvert_exporter": "python",
   "pygments_lexer": "ipython3",
   "version": "3.11.5"
  },
  "papermill": {
   "default_parameters": {},
   "duration": 29.625567,
   "end_time": "2023-07-19T07:23:41.896014",
   "environment_variables": {},
   "exception": null,
   "input_path": "__notebook__.ipynb",
   "output_path": "__notebook__.ipynb",
   "parameters": {},
   "start_time": "2023-07-19T07:23:12.270447",
   "version": "2.3.3"
  }
 },
 "nbformat": 4,
 "nbformat_minor": 5
}
