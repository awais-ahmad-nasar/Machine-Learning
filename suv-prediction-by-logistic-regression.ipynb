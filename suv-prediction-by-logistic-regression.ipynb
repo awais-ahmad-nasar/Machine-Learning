{
 "cells": [
  {
   "cell_type": "code",
   "execution_count": 1,
   "id": "0699d2c8",
   "metadata": {
    "_cell_guid": "b1076dfc-b9ad-4769-8c92-a6c4dae69d19",
    "_uuid": "8f2839f25d086af736a60e9eeb907d3b93b6e0e5",
    "execution": {
     "iopub.execute_input": "2023-07-19T07:15:43.352232Z",
     "iopub.status.busy": "2023-07-19T07:15:43.351258Z",
     "iopub.status.idle": "2023-07-19T07:15:43.375107Z",
     "shell.execute_reply": "2023-07-19T07:15:43.373621Z"
    },
    "papermill": {
     "duration": 0.037544,
     "end_time": "2023-07-19T07:15:43.378754",
     "exception": false,
     "start_time": "2023-07-19T07:15:43.341210",
     "status": "completed"
    },
    "tags": []
   },
   "outputs": [],
   "source": [
    "import numpy as np\n",
    "import pandas as pd \n",
    "import os"
   ]
  },
  {
   "cell_type": "code",
   "execution_count": 2,
   "id": "798f4461",
   "metadata": {
    "execution": {
     "iopub.execute_input": "2023-07-19T07:15:43.397139Z",
     "iopub.status.busy": "2023-07-19T07:15:43.396485Z",
     "iopub.status.idle": "2023-07-19T07:15:43.429446Z",
     "shell.execute_reply": "2023-07-19T07:15:43.428123Z"
    },
    "papermill": {
     "duration": 0.045192,
     "end_time": "2023-07-19T07:15:43.432126",
     "exception": false,
     "start_time": "2023-07-19T07:15:43.386934",
     "status": "completed"
    },
    "tags": []
   },
   "outputs": [
    {
     "data": {
      "text/html": [
       "<div>\n",
       "<style scoped>\n",
       "    .dataframe tbody tr th:only-of-type {\n",
       "        vertical-align: middle;\n",
       "    }\n",
       "\n",
       "    .dataframe tbody tr th {\n",
       "        vertical-align: top;\n",
       "    }\n",
       "\n",
       "    .dataframe thead th {\n",
       "        text-align: right;\n",
       "    }\n",
       "</style>\n",
       "<table border=\"1\" class=\"dataframe\">\n",
       "  <thead>\n",
       "    <tr style=\"text-align: right;\">\n",
       "      <th></th>\n",
       "      <th>User ID</th>\n",
       "      <th>Gender</th>\n",
       "      <th>Age</th>\n",
       "      <th>EstimatedSalary</th>\n",
       "      <th>Purchased</th>\n",
       "    </tr>\n",
       "  </thead>\n",
       "  <tbody>\n",
       "    <tr>\n",
       "      <th>0</th>\n",
       "      <td>15624510</td>\n",
       "      <td>Male</td>\n",
       "      <td>19</td>\n",
       "      <td>19000</td>\n",
       "      <td>0</td>\n",
       "    </tr>\n",
       "    <tr>\n",
       "      <th>1</th>\n",
       "      <td>15810944</td>\n",
       "      <td>Male</td>\n",
       "      <td>35</td>\n",
       "      <td>20000</td>\n",
       "      <td>0</td>\n",
       "    </tr>\n",
       "    <tr>\n",
       "      <th>2</th>\n",
       "      <td>15668575</td>\n",
       "      <td>Female</td>\n",
       "      <td>26</td>\n",
       "      <td>43000</td>\n",
       "      <td>0</td>\n",
       "    </tr>\n",
       "    <tr>\n",
       "      <th>3</th>\n",
       "      <td>15603246</td>\n",
       "      <td>Female</td>\n",
       "      <td>27</td>\n",
       "      <td>57000</td>\n",
       "      <td>0</td>\n",
       "    </tr>\n",
       "    <tr>\n",
       "      <th>4</th>\n",
       "      <td>15804002</td>\n",
       "      <td>Male</td>\n",
       "      <td>19</td>\n",
       "      <td>76000</td>\n",
       "      <td>0</td>\n",
       "    </tr>\n",
       "  </tbody>\n",
       "</table>\n",
       "</div>"
      ],
      "text/plain": [
       "    User ID  Gender  Age  EstimatedSalary  Purchased\n",
       "0  15624510    Male   19            19000          0\n",
       "1  15810944    Male   35            20000          0\n",
       "2  15668575  Female   26            43000          0\n",
       "3  15603246  Female   27            57000          0\n",
       "4  15804002    Male   19            76000          0"
      ]
     },
     "execution_count": 2,
     "metadata": {},
     "output_type": "execute_result"
    }
   ],
   "source": [
    "data=pd.read_csv('B:\\MY Documents\\suv-data\\suv_data.csv')\n",
    "data.head()"
   ]
  },
  {
   "cell_type": "code",
   "execution_count": 3,
   "id": "fd72e2d7",
   "metadata": {
    "execution": {
     "iopub.execute_input": "2023-07-19T07:15:43.450379Z",
     "iopub.status.busy": "2023-07-19T07:15:43.449689Z",
     "iopub.status.idle": "2023-07-19T07:15:43.476093Z",
     "shell.execute_reply": "2023-07-19T07:15:43.474727Z"
    },
    "papermill": {
     "duration": 0.039464,
     "end_time": "2023-07-19T07:15:43.479508",
     "exception": false,
     "start_time": "2023-07-19T07:15:43.440044",
     "status": "completed"
    },
    "tags": []
   },
   "outputs": [
    {
     "name": "stdout",
     "output_type": "stream",
     "text": [
      "<class 'pandas.core.frame.DataFrame'>\n",
      "RangeIndex: 400 entries, 0 to 399\n",
      "Data columns (total 5 columns):\n",
      " #   Column           Non-Null Count  Dtype \n",
      "---  ------           --------------  ----- \n",
      " 0   User ID          400 non-null    int64 \n",
      " 1   Gender           400 non-null    object\n",
      " 2   Age              400 non-null    int64 \n",
      " 3   EstimatedSalary  400 non-null    int64 \n",
      " 4   Purchased        400 non-null    int64 \n",
      "dtypes: int64(4), object(1)\n",
      "memory usage: 15.8+ KB\n"
     ]
    }
   ],
   "source": [
    "data.info()"
   ]
  },
  {
   "cell_type": "code",
   "execution_count": 4,
   "id": "ad4156c1",
   "metadata": {
    "execution": {
     "iopub.execute_input": "2023-07-19T07:15:43.498025Z",
     "iopub.status.busy": "2023-07-19T07:15:43.497559Z",
     "iopub.status.idle": "2023-07-19T07:15:44.764956Z",
     "shell.execute_reply": "2023-07-19T07:15:44.763534Z"
    },
    "papermill": {
     "duration": 1.280631,
     "end_time": "2023-07-19T07:15:44.768467",
     "exception": false,
     "start_time": "2023-07-19T07:15:43.487836",
     "status": "completed"
    },
    "tags": []
   },
   "outputs": [],
   "source": [
    "import matplotlib.pyplot as plt\n",
    "import seaborn as sns"
   ]
  },
  {
   "cell_type": "code",
   "execution_count": 5,
   "id": "deda5ab1",
   "metadata": {
    "execution": {
     "iopub.execute_input": "2023-07-19T07:15:44.787369Z",
     "iopub.status.busy": "2023-07-19T07:15:44.786873Z",
     "iopub.status.idle": "2023-07-19T07:15:45.041667Z",
     "shell.execute_reply": "2023-07-19T07:15:45.040526Z"
    },
    "papermill": {
     "duration": 0.267474,
     "end_time": "2023-07-19T07:15:45.044505",
     "exception": false,
     "start_time": "2023-07-19T07:15:44.777031",
     "status": "completed"
    },
    "tags": []
   },
   "outputs": [
    {
     "data": {
      "text/plain": [
       "<AxesSubplot:xlabel='Purchased', ylabel='count'>"
      ]
     },
     "execution_count": 5,
     "metadata": {},
     "output_type": "execute_result"
    },
    {
     "data": {
      "image/png": "[encoded data removed]",
      "text/plain": [
       "<Figure size 432x288 with 1 Axes>"
      ]
     },
     "metadata": {
      "needs_background": "light"
     },
     "output_type": "display_data"
    }
   ],
   "source": [
    "sns.countplot(x='Purchased', hue='Gender', data=data)"
   ]
  },
  {
   "cell_type": "code",
   "execution_count": 6,
   "id": "4737b380",
   "metadata": {
    "execution": {
     "iopub.execute_input": "2023-07-19T07:15:45.065102Z",
     "iopub.status.busy": "2023-07-19T07:15:45.064654Z",
     "iopub.status.idle": "2023-07-19T07:15:45.317874Z",
     "shell.execute_reply": "2023-07-19T07:15:45.316527Z"
    },
    "papermill": {
     "duration": 0.267505,
     "end_time": "2023-07-19T07:15:45.320902",
     "exception": false,
     "start_time": "2023-07-19T07:15:45.053397",
     "status": "completed"
    },
    "tags": []
   },
   "outputs": [
    {
     "data": {
      "text/plain": [
       "<AxesSubplot:ylabel='Frequency'>"
      ]
     },
     "execution_count": 6,
     "metadata": {},
     "output_type": "execute_result"
    },
    {
     "data": {
      "image/png": "[encoded data removed]",
      "text/plain": [
       "<Figure size 432x288 with 1 Axes>"
      ]
     },
     "metadata": {
      "needs_background": "light"
     },
     "output_type": "display_data"
    }
   ],
   "source": [
    "data['Age'].plot.hist()"
   ]
  },
  {
   "cell_type": "code",
   "execution_count": 7,
   "id": "fbe6850c",
   "metadata": {
    "execution": {
     "iopub.execute_input": "2023-07-19T07:15:45.341709Z",
     "iopub.status.busy": "2023-07-19T07:15:45.340625Z",
     "iopub.status.idle": "2023-07-19T07:15:45.362138Z",
     "shell.execute_reply": "2023-07-19T07:15:45.360699Z"
    },
    "papermill": {
     "duration": 0.034901,
     "end_time": "2023-07-19T07:15:45.364978",
     "exception": false,
     "start_time": "2023-07-19T07:15:45.330077",
     "status": "completed"
    },
    "tags": []
   },
   "outputs": [
    {
     "data": {
      "text/html": [
       "<div>\n",
       "<style scoped>\n",
       "    .dataframe tbody tr th:only-of-type {\n",
       "        vertical-align: middle;\n",
       "    }\n",
       "\n",
       "    .dataframe tbody tr th {\n",
       "        vertical-align: top;\n",
       "    }\n",
       "\n",
       "    .dataframe thead th {\n",
       "        text-align: right;\n",
       "    }\n",
       "</style>\n",
       "<table border=\"1\" class=\"dataframe\">\n",
       "  <thead>\n",
       "    <tr style=\"text-align: right;\">\n",
       "      <th></th>\n",
       "      <th>User ID</th>\n",
       "      <th>Age</th>\n",
       "      <th>EstimatedSalary</th>\n",
       "    </tr>\n",
       "    <tr>\n",
       "      <th>Purchased</th>\n",
       "      <th></th>\n",
       "      <th></th>\n",
       "      <th></th>\n",
       "    </tr>\n",
       "  </thead>\n",
       "  <tbody>\n",
       "    <tr>\n",
       "      <th>0</th>\n",
       "      <td>15693264.0</td>\n",
       "      <td>34.0</td>\n",
       "      <td>61000.0</td>\n",
       "    </tr>\n",
       "    <tr>\n",
       "      <th>1</th>\n",
       "      <td>15694829.0</td>\n",
       "      <td>47.0</td>\n",
       "      <td>90000.0</td>\n",
       "    </tr>\n",
       "  </tbody>\n",
       "</table>\n",
       "</div>"
      ],
      "text/plain": [
       "              User ID   Age  EstimatedSalary\n",
       "Purchased                                   \n",
       "0          15693264.0  34.0          61000.0\n",
       "1          15694829.0  47.0          90000.0"
      ]
     },
     "execution_count": 7,
     "metadata": {},
     "output_type": "execute_result"
    }
   ],
   "source": [
    "data.groupby(by='Purchased').median()"
   ]
  },
  {
   "cell_type": "code",
   "execution_count": 8,
   "id": "753a4440",
   "metadata": {
    "execution": {
     "iopub.execute_input": "2023-07-19T07:15:45.385555Z",
     "iopub.status.busy": "2023-07-19T07:15:45.385090Z",
     "iopub.status.idle": "2023-07-19T07:15:45.707067Z",
     "shell.execute_reply": "2023-07-19T07:15:45.705425Z"
    },
    "papermill": {
     "duration": 0.335832,
     "end_time": "2023-07-19T07:15:45.710120",
     "exception": false,
     "start_time": "2023-07-19T07:15:45.374288",
     "status": "completed"
    },
    "tags": []
   },
   "outputs": [
    {
     "data": {
      "text/plain": [
       "<AxesSubplot:xlabel='Age', ylabel='EstimatedSalary'>"
      ]
     },
     "execution_count": 8,
     "metadata": {},
     "output_type": "execute_result"
    },
    {
     "data": {
      "image/png": "[encoded data removed]",
      "text/plain": [
       "<Figure size 432x288 with 1 Axes>"
      ]
     },
     "metadata": {
      "needs_background": "light"
     },
     "output_type": "display_data"
    }
   ],
   "source": [
    "sns.scatterplot(x='Age', y='EstimatedSalary', hue='Purchased', data=data)"
   ]
  },
  {
   "cell_type": "code",
   "execution_count": 9,
   "id": "d7acb0f6",
   "metadata": {
    "execution": {
     "iopub.execute_input": "2023-07-19T07:15:45.733688Z",
     "iopub.status.busy": "2023-07-19T07:15:45.733194Z",
     "iopub.status.idle": "2023-07-19T07:15:45.740853Z",
     "shell.execute_reply": "2023-07-19T07:15:45.739176Z"
    },
    "papermill": {
     "duration": 0.022987,
     "end_time": "2023-07-19T07:15:45.743740",
     "exception": false,
     "start_time": "2023-07-19T07:15:45.720753",
     "status": "completed"
    },
    "tags": []
   },
   "outputs": [],
   "source": [
    "X = data.iloc[:,[2,3]].values\n",
    "y = data['Purchased'].values"
   ]
  },
  {
   "cell_type": "code",
   "execution_count": 10,
   "id": "07480a56",
   "metadata": {
    "execution": {
     "iopub.execute_input": "2023-07-19T07:15:45.767551Z",
     "iopub.status.busy": "2023-07-19T07:15:45.766760Z",
     "iopub.status.idle": "2023-07-19T07:15:45.776074Z",
     "shell.execute_reply": "2023-07-19T07:15:45.774713Z"
    },
    "papermill": {
     "duration": 0.024461,
     "end_time": "2023-07-19T07:15:45.778768",
     "exception": false,
     "start_time": "2023-07-19T07:15:45.754307",
     "status": "completed"
    },
    "tags": []
   },
   "outputs": [
    {
     "data": {
      "text/plain": [
       "(array([[    19,  19000],\n",
       "        [    35,  20000],\n",
       "        [    26,  43000],\n",
       "        [    27,  57000],\n",
       "        [    19,  76000],\n",
       "        [    27,  58000],\n",
       "        [    27,  84000],\n",
       "        [    32, 150000],\n",
       "        [    25,  33000],\n",
       "        [    35,  65000]]),\n",
       " array([0, 0, 0, 0, 0, 0, 0, 1, 0, 0]))"
      ]
     },
     "execution_count": 10,
     "metadata": {},
     "output_type": "execute_result"
    }
   ],
   "source": [
    "X[:10],y[:10]"
   ]
  },
  {
   "cell_type": "code",
   "execution_count": 11,
   "id": "90b8e16b",
   "metadata": {
    "execution": {
     "iopub.execute_input": "2023-07-19T07:15:45.803425Z",
     "iopub.status.busy": "2023-07-19T07:15:45.802581Z",
     "iopub.status.idle": "2023-07-19T07:15:46.129523Z",
     "shell.execute_reply": "2023-07-19T07:15:46.127968Z"
    },
    "papermill": {
     "duration": 0.343339,
     "end_time": "2023-07-19T07:15:46.133052",
     "exception": false,
     "start_time": "2023-07-19T07:15:45.789713",
     "status": "completed"
    },
    "tags": []
   },
   "outputs": [],
   "source": [
    "from sklearn.model_selection import train_test_split\n",
    "from sklearn.linear_model import LogisticRegression\n",
    "from sklearn.metrics import confusion_matrix, accuracy_score, classification_report\n",
    "from sklearn.preprocessing import StandardScaler"
   ]
  },
  {
   "cell_type": "code",
   "execution_count": 12,
   "id": "6833d138",
   "metadata": {
    "execution": {
     "iopub.execute_input": "2023-07-19T07:15:46.157646Z",
     "iopub.status.busy": "2023-07-19T07:15:46.157085Z",
     "iopub.status.idle": "2023-07-19T07:15:46.164641Z",
     "shell.execute_reply": "2023-07-19T07:15:46.163481Z"
    },
    "papermill": {
     "duration": 0.023157,
     "end_time": "2023-07-19T07:15:46.167042",
     "exception": false,
     "start_time": "2023-07-19T07:15:46.143885",
     "status": "completed"
    },
    "tags": []
   },
   "outputs": [],
   "source": [
    "X_train, X_test, y_train, y_test = train_test_split(X, y, test_size=0.3, random_state=42)"
   ]
  },
  {
   "cell_type": "code",
   "execution_count": 13,
   "id": "3b613032",
   "metadata": {
    "execution": {
     "iopub.execute_input": "2023-07-19T07:15:46.191530Z",
     "iopub.status.busy": "2023-07-19T07:15:46.190033Z",
     "iopub.status.idle": "2023-07-19T07:15:46.198124Z",
     "shell.execute_reply": "2023-07-19T07:15:46.197227Z"
    },
    "papermill": {
     "duration": 0.023026,
     "end_time": "2023-07-19T07:15:46.200814",
     "exception": false,
     "start_time": "2023-07-19T07:15:46.177788",
     "status": "completed"
    },
    "tags": []
   },
   "outputs": [],
   "source": [
    "sc = StandardScaler()\n",
    "X_train_new = sc.fit_transform(X_train)\n",
    "X_test_new = sc.fit_transform(X_test)"
   ]
  },
  {
   "cell_type": "code",
   "execution_count": 14,
   "id": "f6ec759a",
   "metadata": {
    "execution": {
     "iopub.execute_input": "2023-07-19T07:15:46.224468Z",
     "iopub.status.busy": "2023-07-19T07:15:46.223960Z",
     "iopub.status.idle": "2023-07-19T07:15:46.245102Z",
     "shell.execute_reply": "2023-07-19T07:15:46.243592Z"
    },
    "papermill": {
     "duration": 0.036801,
     "end_time": "2023-07-19T07:15:46.248370",
     "exception": false,
     "start_time": "2023-07-19T07:15:46.211569",
     "status": "completed"
    },
    "tags": []
   },
   "outputs": [
    {
     "data": {
      "text/plain": [
       "LogisticRegression()"
      ]
     },
     "execution_count": 14,
     "metadata": {},
     "output_type": "execute_result"
    }
   ],
   "source": [
    "logreg=LogisticRegression()\n",
    "logreg.fit(X_train_new, y_train)"
   ]
  },
  {
   "cell_type": "code",
   "execution_count": 15,
   "id": "2b08447b",
   "metadata": {
    "execution": {
     "iopub.execute_input": "2023-07-19T07:15:46.272694Z",
     "iopub.status.busy": "2023-07-19T07:15:46.272221Z",
     "iopub.status.idle": "2023-07-19T07:15:46.278325Z",
     "shell.execute_reply": "2023-07-19T07:15:46.277313Z"
    },
    "papermill": {
     "duration": 0.021124,
     "end_time": "2023-07-19T07:15:46.280642",
     "exception": false,
     "start_time": "2023-07-19T07:15:46.259518",
     "status": "completed"
    },
    "tags": []
   },
   "outputs": [],
   "source": [
    "y_pred = logreg.predict(X_test_new)"
   ]
  },
  {
   "cell_type": "code",
   "execution_count": 16,
   "id": "0483c419",
   "metadata": {
    "execution": {
     "iopub.execute_input": "2023-07-19T07:15:46.305626Z",
     "iopub.status.busy": "2023-07-19T07:15:46.304864Z",
     "iopub.status.idle": "2023-07-19T07:15:46.317030Z",
     "shell.execute_reply": "2023-07-19T07:15:46.315098Z"
    },
    "papermill": {
     "duration": 0.028786,
     "end_time": "2023-07-19T07:15:46.320338",
     "exception": false,
     "start_time": "2023-07-19T07:15:46.291552",
     "status": "completed"
    },
    "tags": []
   },
   "outputs": [
    {
     "name": "stdout",
     "output_type": "stream",
     "text": [
      "              precision    recall  f1-score   support\n",
      "\n",
      "           0       0.81      0.99      0.89        73\n",
      "           1       0.97      0.64      0.77        47\n",
      "\n",
      "    accuracy                           0.85       120\n",
      "   macro avg       0.89      0.81      0.83       120\n",
      "weighted avg       0.87      0.85      0.84       120\n",
      "\n"
     ]
    }
   ],
   "source": [
    "print(classification_report(y_test, y_pred))"
   ]
  },
  {
   "cell_type": "markdown",
   "id": "383fedae",
   "metadata": {
    "papermill": {
     "duration": 0.011112,
     "end_time": "2023-07-19T07:15:46.342744",
     "exception": false,
     "start_time": "2023-07-19T07:15:46.331632",
     "status": "completed"
    },
    "tags": []
   },
   "source": [
    "# Confusion matrix\n"
   ]
  },
  {
   "cell_type": "code",
   "execution_count": 17,
   "id": "8f45004f",
   "metadata": {
    "execution": {
     "iopub.execute_input": "2023-07-19T07:15:46.367779Z",
     "iopub.status.busy": "2023-07-19T07:15:46.367303Z",
     "iopub.status.idle": "2023-07-19T07:15:46.739417Z",
     "shell.execute_reply": "2023-07-19T07:15:46.737626Z"
    },
    "papermill": {
     "duration": 0.388027,
     "end_time": "2023-07-19T07:15:46.742423",
     "exception": false,
     "start_time": "2023-07-19T07:15:46.354396",
     "status": "completed"
    },
    "tags": []
   },
   "outputs": [
    {
     "data": {
      "image/png": "[encoded data removed]",
      "text/plain": [
       "<Figure size 432x432 with 2 Axes>"
      ]
     },
     "metadata": {
      "needs_background": "light"
     },
     "output_type": "display_data"
    }
   ],
   "source": [
    "from sklearn.tree import DecisionTreeClassifier\n",
    "classifier = DecisionTreeClassifier()\n",
    "classifier.fit(X_train, y_train)\n",
    "y_pred = classifier.predict(X_test)\n",
    "confusion_mtx = confusion_matrix(y_test, y_pred)\n",
    "\n",
    "# Plotting Confusion Matrix\n",
    "plt.figure(figsize=(6, 6))\n",
    "sns.heatmap(confusion_mtx, annot=True, fmt=\"d\", cmap=\"Oranges\")\n",
    "plt.title(\"Confusion Matrix\")\n",
    "plt.xlabel(\"Predicted Label\")\n",
    "plt.ylabel(\"True Label\")\n",
    "plt.show()"
   ]
  },
  {
   "cell_type": "code",
   "execution_count": 18,
   "id": "cc8a4dd3",
   "metadata": {
    "execution": {
     "iopub.execute_input": "2023-07-19T07:15:46.766785Z",
     "iopub.status.busy": "2023-07-19T07:15:46.766362Z",
     "iopub.status.idle": "2023-07-19T07:15:46.774673Z",
     "shell.execute_reply": "2023-07-19T07:15:46.773182Z"
    },
    "papermill": {
     "duration": 0.023656,
     "end_time": "2023-07-19T07:15:46.777531",
     "exception": false,
     "start_time": "2023-07-19T07:15:46.753875",
     "status": "completed"
    },
    "tags": []
   },
   "outputs": [
    {
     "name": "stdout",
     "output_type": "stream",
     "text": [
      "ACCURACY DECISION TREE =  85.83333333333333\n"
     ]
    }
   ],
   "source": [
    "accuracy = accuracy_score(y_test, y_pred)\n",
    "print(\"ACCURACY DECISION TREE = \", accuracy*100)"
   ]
  },
  {
   "cell_type": "code",
   "execution_count": 19,
   "id": "a3805f2f",
   "metadata": {
    "execution": {
     "iopub.execute_input": "2023-07-19T07:15:46.801117Z",
     "iopub.status.busy": "2023-07-19T07:15:46.800690Z",
     "iopub.status.idle": "2023-07-19T07:15:47.086856Z",
     "shell.execute_reply": "2023-07-19T07:15:47.085491Z"
    },
    "papermill": {
     "duration": 0.301783,
     "end_time": "2023-07-19T07:15:47.090141",
     "exception": false,
     "start_time": "2023-07-19T07:15:46.788358",
     "status": "completed"
    },
    "tags": []
   },
   "outputs": [
    {
     "data": {
      "image/png": "[encoded data removed]",
      "text/plain": [
       "<Figure size 432x432 with 2 Axes>"
      ]
     },
     "metadata": {
      "needs_background": "light"
     },
     "output_type": "display_data"
    },
    {
     "name": "stdout",
     "output_type": "stream",
     "text": [
      "Accuracy by Multinomial : 60.83333333333333\n"
     ]
    }
   ],
   "source": [
    "from sklearn.naive_bayes import MultinomialNB \n",
    "c = MultinomialNB()\n",
    "c.fit(X_train, y_train)\n",
    "y_pred = c.predict(X_test)\n",
    "con_mt = confusion_matrix(y_test, y_pred)\n",
    "\n",
    "# Plotting Confusion Matrix\n",
    "\n",
    "plt.figure(figsize=(6, 6))\n",
    "sns.heatmap(con_mt, annot=True, fmt=\"d\", cmap=\"Blues\")\n",
    "plt.title(\"Confusion Matrix\")\n",
    "plt.xlabel(\"Predicted Label\")\n",
    "plt.ylabel(\"True Labels\")\n",
    "plt.show()\n",
    "\n",
    "#ACCURACY:\n",
    "AC = accuracy_score(y_test, y_pred)\n",
    "print(\"Accuracy by Multinomial :\", AC*100)"
   ]
  }
 ],
 "metadata": {
  "kernelspec": {
   "display_name": "Python 3 (ipykernel)",
   "language": "python",
   "name": "python3"
  },
  "language_info": {
   "codemirror_mode": {
    "name": "ipython",
    "version": 3
   },
   "file_extension": ".py",
   "mimetype": "text/x-python",
   "name": "python",
   "nbconvert_exporter": "python",
   "pygments_lexer": "ipython3",
   "version": "3.11.5"
  },
  "papermill": {
   "default_parameters": {},
   "duration": 17.260329,
   "end_time": "2023-07-19T07:15:48.127926",
   "environment_variables": {},
   "exception": null,
   "input_path": "__notebook__.ipynb",
   "output_path": "__notebook__.ipynb",
   "parameters": {},
   "start_time": "2023-07-19T07:15:30.867597",
   "version": "2.3.4"
  }
 },
 "nbformat": 4,
 "nbformat_minor": 5
}
