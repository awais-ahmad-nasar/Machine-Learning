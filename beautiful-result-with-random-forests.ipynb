{
 "cells": [
  {
   "cell_type": "code",
   "execution_count": 1,
   "id": "a9359484",
   "metadata": {
    "_cell_guid": "b1076dfc-b9ad-4769-8c92-a6c4dae69d19",
    "_uuid": "8f2839f25d086af736a60e9eeb907d3b93b6e0e5",
    "execution": {
     "iopub.execute_input": "2023-07-17T11:32:27.996939Z",
     "iopub.status.busy": "2023-07-17T11:32:27.996555Z",
     "iopub.status.idle": "2023-07-17T11:32:28.011007Z",
     "shell.execute_reply": "2023-07-17T11:32:28.010186Z"
    },
    "papermill": {
     "duration": 0.030616,
     "end_time": "2023-07-17T11:32:28.013927",
     "exception": false,
     "start_time": "2023-07-17T11:32:27.983311",
     "status": "completed"
    },
    "tags": []
   },
   "outputs": [
    {
     "name": "stdout",
     "output_type": "stream",
     "text": [
      "/kaggle/input/spaceship-titanic/sample_submission.csv\n",
      "/kaggle/input/spaceship-titanic/train.csv\n",
      "/kaggle/input/spaceship-titanic/test.csv\n"
     ]
    }
   ],
   "source": [
    "\n",
    "import numpy as np\n",
    "import pandas as pd \n",
    "import os"
   ]
  },
  {
   "cell_type": "markdown",
   "id": "ae26876b",
   "metadata": {
    "papermill": {
     "duration": 0.009692,
     "end_time": "2023-07-17T11:32:28.034045",
     "exception": false,
     "start_time": "2023-07-17T11:32:28.024353",
     "status": "completed"
    },
    "tags": []
   },
   "source": [
    "# Data Analysis"
   ]
  },
  {
   "cell_type": "code",
   "execution_count": 2,
   "id": "c0583f91",
   "metadata": {
    "execution": {
     "iopub.execute_input": "2023-07-17T11:32:28.055729Z",
     "iopub.status.busy": "2023-07-17T11:32:28.055347Z",
     "iopub.status.idle": "2023-07-17T11:32:29.485640Z",
     "shell.execute_reply": "2023-07-17T11:32:29.484482Z"
    },
    "papermill": {
     "duration": 1.44415,
     "end_time": "2023-07-17T11:32:29.488226",
     "exception": false,
     "start_time": "2023-07-17T11:32:28.044076",
     "status": "completed"
    },
    "tags": []
   },
   "outputs": [],
   "source": [
    "import numpy as np\n",
    "import pandas as pd\n",
    "import matplotlib.pyplot as plt\n",
    "import seaborn as sns"
   ]
  },
  {
   "cell_type": "code",
   "execution_count": 3,
   "id": "d45839a6",
   "metadata": {
    "execution": {
     "iopub.execute_input": "2023-07-17T11:32:29.509171Z",
     "iopub.status.busy": "2023-07-17T11:32:29.508545Z",
     "iopub.status.idle": "2023-07-17T11:32:29.611390Z",
     "shell.execute_reply": "2023-07-17T11:32:29.610432Z"
    },
    "papermill": {
     "duration": 0.116187,
     "end_time": "2023-07-17T11:32:29.613849",
     "exception": false,
     "start_time": "2023-07-17T11:32:29.497662",
     "status": "completed"
    },
    "tags": []
   },
   "outputs": [],
   "source": [
    "train_data = pd.read_csv('B:\\MY Documents\\input\\spaceship-titanic\\train.csv')\n",
    "test_data  = pd.read_csv('B:\\MY Documents\\spaceship-titanic\\test.csv')"
   ]
  },
  {
   "cell_type": "code",
   "execution_count": 4,
   "id": "bbf1daf9",
   "metadata": {
    "execution": {
     "iopub.execute_input": "2023-07-17T11:32:29.634890Z",
     "iopub.status.busy": "2023-07-17T11:32:29.634291Z",
     "iopub.status.idle": "2023-07-17T11:32:29.670073Z",
     "shell.execute_reply": "2023-07-17T11:32:29.668850Z"
    },
    "papermill": {
     "duration": 0.049344,
     "end_time": "2023-07-17T11:32:29.672765",
     "exception": false,
     "start_time": "2023-07-17T11:32:29.623421",
     "status": "completed"
    },
    "tags": []
   },
   "outputs": [
    {
     "data": {
      "text/plain": [
       "PassengerId       0\n",
       "HomePlanet      201\n",
       "CryoSleep       217\n",
       "Cabin           199\n",
       "Destination     182\n",
       "Age             179\n",
       "VIP             203\n",
       "RoomService     181\n",
       "FoodCourt       183\n",
       "ShoppingMall    208\n",
       "Spa             183\n",
       "VRDeck          188\n",
       "Name            200\n",
       "Transported       0\n",
       "dtype: int64"
      ]
     },
     "execution_count": 4,
     "metadata": {},
     "output_type": "execute_result"
    }
   ],
   "source": [
    "train_data.isnull().sum()"
   ]
  },
  {
   "cell_type": "code",
   "execution_count": 5,
   "id": "84a716e1",
   "metadata": {
    "execution": {
     "iopub.execute_input": "2023-07-17T11:32:29.694273Z",
     "iopub.status.busy": "2023-07-17T11:32:29.693609Z",
     "iopub.status.idle": "2023-07-17T11:32:29.711043Z",
     "shell.execute_reply": "2023-07-17T11:32:29.709821Z"
    },
    "papermill": {
     "duration": 0.031297,
     "end_time": "2023-07-17T11:32:29.713892",
     "exception": false,
     "start_time": "2023-07-17T11:32:29.682595",
     "status": "completed"
    },
    "tags": []
   },
   "outputs": [],
   "source": [
    "train_data['HomePlanet'] = train_data['HomePlanet'].fillna(train_data['HomePlanet'].value_counts().sort_values().index[-1])\n",
    "test_data['HomePlanet'] = test_data['HomePlanet'].fillna(test_data['HomePlanet'].value_counts().sort_values().index[-1])"
   ]
  },
  {
   "cell_type": "code",
   "execution_count": 6,
   "id": "cea73fc1",
   "metadata": {
    "execution": {
     "iopub.execute_input": "2023-07-17T11:32:29.735966Z",
     "iopub.status.busy": "2023-07-17T11:32:29.735205Z",
     "iopub.status.idle": "2023-07-17T11:32:29.749708Z",
     "shell.execute_reply": "2023-07-17T11:32:29.748598Z"
    },
    "papermill": {
     "duration": 0.028017,
     "end_time": "2023-07-17T11:32:29.752014",
     "exception": false,
     "start_time": "2023-07-17T11:32:29.723997",
     "status": "completed"
    },
    "tags": []
   },
   "outputs": [],
   "source": [
    "train_data['CryoSleep'] = train_data['CryoSleep'].fillna(train_data['CryoSleep'].value_counts().sort_values().index[-1])\n",
    "test_data['CryoSleep'] = test_data['CryoSleep'].fillna(test_data['CryoSleep'].value_counts().sort_values().index[-1])"
   ]
  },
  {
   "cell_type": "code",
   "execution_count": 7,
   "id": "49cfc889",
   "metadata": {
    "execution": {
     "iopub.execute_input": "2023-07-17T11:32:29.773511Z",
     "iopub.status.busy": "2023-07-17T11:32:29.772391Z",
     "iopub.status.idle": "2023-07-17T11:32:29.788223Z",
     "shell.execute_reply": "2023-07-17T11:32:29.787271Z"
    },
    "papermill": {
     "duration": 0.029351,
     "end_time": "2023-07-17T11:32:29.790986",
     "exception": false,
     "start_time": "2023-07-17T11:32:29.761635",
     "status": "completed"
    },
    "tags": []
   },
   "outputs": [],
   "source": [
    "train_data['Cabin'] = train_data['Cabin'].fillna(train_data['Cabin'].mode()[0])\n",
    "test_data['Cabin'] = test_data['Cabin'].fillna(test_data['Cabin'].mode()[0])"
   ]
  },
  {
   "cell_type": "code",
   "execution_count": 8,
   "id": "7c92e9f9",
   "metadata": {
    "execution": {
     "iopub.execute_input": "2023-07-17T11:32:29.812439Z",
     "iopub.status.busy": "2023-07-17T11:32:29.812027Z",
     "iopub.status.idle": "2023-07-17T11:32:29.823525Z",
     "shell.execute_reply": "2023-07-17T11:32:29.822725Z"
    },
    "papermill": {
     "duration": 0.024627,
     "end_time": "2023-07-17T11:32:29.825728",
     "exception": false,
     "start_time": "2023-07-17T11:32:29.801101",
     "status": "completed"
    },
    "tags": []
   },
   "outputs": [],
   "source": [
    "train_data['Destination'] = train_data['Destination'].fillna(train_data['Destination'].mode()[0])\n",
    "test_data['Destination'] = test_data['Destination'].fillna(test_data['Destination'].mode()[0])"
   ]
  },
  {
   "cell_type": "code",
   "execution_count": 9,
   "id": "a66c09fa",
   "metadata": {
    "execution": {
     "iopub.execute_input": "2023-07-17T11:32:29.847761Z",
     "iopub.status.busy": "2023-07-17T11:32:29.847104Z",
     "iopub.status.idle": "2023-07-17T11:32:29.853974Z",
     "shell.execute_reply": "2023-07-17T11:32:29.853219Z"
    },
    "papermill": {
     "duration": 0.020645,
     "end_time": "2023-07-17T11:32:29.856125",
     "exception": false,
     "start_time": "2023-07-17T11:32:29.835480",
     "status": "completed"
    },
    "tags": []
   },
   "outputs": [],
   "source": [
    "train_data['Age'] = train_data['Age'].fillna(np.round(train_data['Age'].mean(), 0))\n",
    "test_data['Age'] = test_data['Age'].fillna(np.round(test_data['Age'].mean(), 0))"
   ]
  },
  {
   "cell_type": "code",
   "execution_count": 10,
   "id": "a87d025f",
   "metadata": {
    "execution": {
     "iopub.execute_input": "2023-07-17T11:32:29.877174Z",
     "iopub.status.busy": "2023-07-17T11:32:29.876564Z",
     "iopub.status.idle": "2023-07-17T11:32:29.888291Z",
     "shell.execute_reply": "2023-07-17T11:32:29.887347Z"
    },
    "papermill": {
     "duration": 0.024956,
     "end_time": "2023-07-17T11:32:29.890701",
     "exception": false,
     "start_time": "2023-07-17T11:32:29.865745",
     "status": "completed"
    },
    "tags": []
   },
   "outputs": [],
   "source": [
    "\n",
    "train_data['VIP'] = train_data['VIP'].fillna(train_data['VIP'].mode()[0])\n",
    "test_data['VIP'] = test_data['VIP'].fillna(test_data['VIP'].mode()[0])"
   ]
  },
  {
   "cell_type": "code",
   "execution_count": 11,
   "id": "a27f2b56",
   "metadata": {
    "execution": {
     "iopub.execute_input": "2023-07-17T11:32:29.911698Z",
     "iopub.status.busy": "2023-07-17T11:32:29.911274Z",
     "iopub.status.idle": "2023-07-17T11:32:29.918996Z",
     "shell.execute_reply": "2023-07-17T11:32:29.918177Z"
    },
    "papermill": {
     "duration": 0.020821,
     "end_time": "2023-07-17T11:32:29.921194",
     "exception": false,
     "start_time": "2023-07-17T11:32:29.900373",
     "status": "completed"
    },
    "tags": []
   },
   "outputs": [],
   "source": [
    "train_data['RoomService'] = train_data['RoomService'].fillna(train_data['RoomService'].mean())\n",
    "test_data['RoomService'] = test_data['RoomService'].fillna(test_data['RoomService'].mean())"
   ]
  },
  {
   "cell_type": "code",
   "execution_count": 12,
   "id": "2fa0bdfe",
   "metadata": {
    "execution": {
     "iopub.execute_input": "2023-07-17T11:32:29.942268Z",
     "iopub.status.busy": "2023-07-17T11:32:29.941666Z",
     "iopub.status.idle": "2023-07-17T11:32:29.947955Z",
     "shell.execute_reply": "2023-07-17T11:32:29.947224Z"
    },
    "papermill": {
     "duration": 0.019244,
     "end_time": "2023-07-17T11:32:29.950124",
     "exception": false,
     "start_time": "2023-07-17T11:32:29.930880",
     "status": "completed"
    },
    "tags": []
   },
   "outputs": [],
   "source": [
    "train_data['VRDeck'] = train_data['VRDeck'].fillna(train_data['VRDeck'].mean())\n",
    "test_data['VRDeck'] = test_data['VRDeck'].fillna(test_data['VRDeck'].mean())"
   ]
  },
  {
   "cell_type": "code",
   "execution_count": 13,
   "id": "d3876cb5",
   "metadata": {
    "execution": {
     "iopub.execute_input": "2023-07-17T11:32:29.970730Z",
     "iopub.status.busy": "2023-07-17T11:32:29.970023Z",
     "iopub.status.idle": "2023-07-17T11:32:29.976456Z",
     "shell.execute_reply": "2023-07-17T11:32:29.975578Z"
    },
    "papermill": {
     "duration": 0.019049,
     "end_time": "2023-07-17T11:32:29.978530",
     "exception": false,
     "start_time": "2023-07-17T11:32:29.959481",
     "status": "completed"
    },
    "tags": []
   },
   "outputs": [],
   "source": [
    "train_data['Spa'] = train_data['Spa'].fillna(train_data['Spa'].mean())\n",
    "test_data['Spa'] = test_data['Spa'].fillna(test_data['Spa'].mean())"
   ]
  },
  {
   "cell_type": "code",
   "execution_count": 14,
   "id": "00725ae4",
   "metadata": {
    "execution": {
     "iopub.execute_input": "2023-07-17T11:32:29.999345Z",
     "iopub.status.busy": "2023-07-17T11:32:29.998900Z",
     "iopub.status.idle": "2023-07-17T11:32:30.005533Z",
     "shell.execute_reply": "2023-07-17T11:32:30.004686Z"
    },
    "papermill": {
     "duration": 0.019714,
     "end_time": "2023-07-17T11:32:30.007684",
     "exception": false,
     "start_time": "2023-07-17T11:32:29.987970",
     "status": "completed"
    },
    "tags": []
   },
   "outputs": [],
   "source": [
    "train_data['ShoppingMall'] = train_data['ShoppingMall'].fillna(train_data['ShoppingMall'].mean())\n",
    "test_data['ShoppingMall'] = test_data['ShoppingMall'].fillna(test_data['ShoppingMall'].mean())"
   ]
  },
  {
   "cell_type": "code",
   "execution_count": 15,
   "id": "13cac182",
   "metadata": {
    "execution": {
     "iopub.execute_input": "2023-07-17T11:32:30.028907Z",
     "iopub.status.busy": "2023-07-17T11:32:30.028127Z",
     "iopub.status.idle": "2023-07-17T11:32:30.036371Z",
     "shell.execute_reply": "2023-07-17T11:32:30.034935Z"
    },
    "papermill": {
     "duration": 0.021687,
     "end_time": "2023-07-17T11:32:30.038889",
     "exception": false,
     "start_time": "2023-07-17T11:32:30.017202",
     "status": "completed"
    },
    "tags": []
   },
   "outputs": [],
   "source": [
    "train_data['FoodCourt'] = train_data['FoodCourt'].fillna(train_data['FoodCourt'].mean())\n",
    "test_data['FoodCourt'] = test_data['FoodCourt'].fillna(test_data['FoodCourt'].mean())"
   ]
  },
  {
   "cell_type": "code",
   "execution_count": 16,
   "id": "2cd60d9a",
   "metadata": {
    "execution": {
     "iopub.execute_input": "2023-07-17T11:32:30.060563Z",
     "iopub.status.busy": "2023-07-17T11:32:30.060174Z",
     "iopub.status.idle": "2023-07-17T11:32:30.075117Z",
     "shell.execute_reply": "2023-07-17T11:32:30.074101Z"
    },
    "papermill": {
     "duration": 0.028477,
     "end_time": "2023-07-17T11:32:30.077431",
     "exception": false,
     "start_time": "2023-07-17T11:32:30.048954",
     "status": "completed"
    },
    "tags": []
   },
   "outputs": [],
   "source": [
    "train_data = train_data.drop(['PassengerId', 'Name','Cabin'], axis=1)\n",
    "test_data = test_data.drop(['PassengerId', 'Name','Cabin'], axis=1)"
   ]
  },
  {
   "cell_type": "code",
   "execution_count": 17,
   "id": "75e6c804",
   "metadata": {
    "execution": {
     "iopub.execute_input": "2023-07-17T11:32:30.097754Z",
     "iopub.status.busy": "2023-07-17T11:32:30.097341Z",
     "iopub.status.idle": "2023-07-17T11:32:30.112140Z",
     "shell.execute_reply": "2023-07-17T11:32:30.111105Z"
    },
    "papermill": {
     "duration": 0.027656,
     "end_time": "2023-07-17T11:32:30.114519",
     "exception": false,
     "start_time": "2023-07-17T11:32:30.086863",
     "status": "completed"
    },
    "tags": []
   },
   "outputs": [
    {
     "data": {
      "text/plain": [
       "0"
      ]
     },
     "execution_count": 17,
     "metadata": {},
     "output_type": "execute_result"
    }
   ],
   "source": [
    "train_data.isnull().sum().sum()"
   ]
  },
  {
   "cell_type": "code",
   "execution_count": 18,
   "id": "d6434f83",
   "metadata": {
    "execution": {
     "iopub.execute_input": "2023-07-17T11:32:30.135842Z",
     "iopub.status.busy": "2023-07-17T11:32:30.135447Z",
     "iopub.status.idle": "2023-07-17T11:32:30.147107Z",
     "shell.execute_reply": "2023-07-17T11:32:30.146314Z"
    },
    "papermill": {
     "duration": 0.024789,
     "end_time": "2023-07-17T11:32:30.149137",
     "exception": false,
     "start_time": "2023-07-17T11:32:30.124348",
     "status": "completed"
    },
    "tags": []
   },
   "outputs": [
    {
     "data": {
      "text/plain": [
       "0"
      ]
     },
     "execution_count": 18,
     "metadata": {},
     "output_type": "execute_result"
    }
   ],
   "source": [
    "test_data.isnull().sum().sum()"
   ]
  },
  {
   "cell_type": "code",
   "execution_count": 19,
   "id": "f7db495f",
   "metadata": {
    "execution": {
     "iopub.execute_input": "2023-07-17T11:32:30.170902Z",
     "iopub.status.busy": "2023-07-17T11:32:30.170286Z",
     "iopub.status.idle": "2023-07-17T11:32:30.189610Z",
     "shell.execute_reply": "2023-07-17T11:32:30.188503Z"
    },
    "papermill": {
     "duration": 0.033233,
     "end_time": "2023-07-17T11:32:30.192264",
     "exception": false,
     "start_time": "2023-07-17T11:32:30.159031",
     "status": "completed"
    },
    "tags": []
   },
   "outputs": [],
   "source": [
    "def res(x):\n",
    "    if x=='Europa':\n",
    "        return 0\n",
    "    elif x=='Earth':\n",
    "        return 1\n",
    "    return 2\n",
    "\n",
    "def res2(x):\n",
    "    if x=='True':\n",
    "        return 1\n",
    "    return 0\n",
    "\n",
    "def res3(x):\n",
    "    if x=='TRAPPIST-1e':\n",
    "        return 0\n",
    "    elif x=='PSO J318.5-22':\n",
    "        return 1\n",
    "    return 2\n",
    "\n",
    "\n",
    "train_data['HomePlanet'] = train_data['HomePlanet'].apply(res)\n",
    "test_data['HomePlanet'] = test_data['HomePlanet'].apply(res)"
   ]
  },
  {
   "cell_type": "code",
   "execution_count": 20,
   "id": "79bb0111",
   "metadata": {
    "execution": {
     "iopub.execute_input": "2023-07-17T11:32:30.213675Z",
     "iopub.status.busy": "2023-07-17T11:32:30.212786Z",
     "iopub.status.idle": "2023-07-17T11:32:30.229520Z",
     "shell.execute_reply": "2023-07-17T11:32:30.228370Z"
    },
    "papermill": {
     "duration": 0.02986,
     "end_time": "2023-07-17T11:32:30.231809",
     "exception": false,
     "start_time": "2023-07-17T11:32:30.201949",
     "status": "completed"
    },
    "tags": []
   },
   "outputs": [],
   "source": [
    "train_data['VIP'] = train_data['VIP'].apply(res2)\n",
    "test_data['VIP'] = test_data['VIP'].apply(res2)"
   ]
  },
  {
   "cell_type": "code",
   "execution_count": 21,
   "id": "318c288b",
   "metadata": {
    "execution": {
     "iopub.execute_input": "2023-07-17T11:32:30.253571Z",
     "iopub.status.busy": "2023-07-17T11:32:30.252480Z",
     "iopub.status.idle": "2023-07-17T11:32:30.269872Z",
     "shell.execute_reply": "2023-07-17T11:32:30.268899Z"
    },
    "papermill": {
     "duration": 0.030862,
     "end_time": "2023-07-17T11:32:30.272410",
     "exception": false,
     "start_time": "2023-07-17T11:32:30.241548",
     "status": "completed"
    },
    "tags": []
   },
   "outputs": [],
   "source": [
    "train_data['Destination'] = train_data['Destination'].apply(res3)\n",
    "test_data['Destination'] = test_data['Destination'].apply(res3)"
   ]
  },
  {
   "cell_type": "code",
   "execution_count": 22,
   "id": "d7cd069d",
   "metadata": {
    "execution": {
     "iopub.execute_input": "2023-07-17T11:32:30.293770Z",
     "iopub.status.busy": "2023-07-17T11:32:30.293395Z",
     "iopub.status.idle": "2023-07-17T11:32:30.309690Z",
     "shell.execute_reply": "2023-07-17T11:32:30.308661Z"
    },
    "papermill": {
     "duration": 0.030048,
     "end_time": "2023-07-17T11:32:30.312182",
     "exception": false,
     "start_time": "2023-07-17T11:32:30.282134",
     "status": "completed"
    },
    "tags": []
   },
   "outputs": [],
   "source": [
    "train_data['CryoSleep'] = train_data['CryoSleep'].apply(res2)\n",
    "test_data['CryoSleep'] = test_data['CryoSleep'].apply(res2)"
   ]
  },
  {
   "cell_type": "code",
   "execution_count": 23,
   "id": "a5c3b876",
   "metadata": {
    "execution": {
     "iopub.execute_input": "2023-07-17T11:32:30.333719Z",
     "iopub.status.busy": "2023-07-17T11:32:30.333340Z",
     "iopub.status.idle": "2023-07-17T11:32:30.363312Z",
     "shell.execute_reply": "2023-07-17T11:32:30.362407Z"
    },
    "papermill": {
     "duration": 0.043364,
     "end_time": "2023-07-17T11:32:30.365476",
     "exception": false,
     "start_time": "2023-07-17T11:32:30.322112",
     "status": "completed"
    },
    "tags": []
   },
   "outputs": [
    {
     "data": {
      "text/html": [
       "<div>\n",
       "<style scoped>\n",
       "    .dataframe tbody tr th:only-of-type {\n",
       "        vertical-align: middle;\n",
       "    }\n",
       "\n",
       "    .dataframe tbody tr th {\n",
       "        vertical-align: top;\n",
       "    }\n",
       "\n",
       "    .dataframe thead th {\n",
       "        text-align: right;\n",
       "    }\n",
       "</style>\n",
       "<table border=\"1\" class=\"dataframe\">\n",
       "  <thead>\n",
       "    <tr style=\"text-align: right;\">\n",
       "      <th></th>\n",
       "      <th>HomePlanet</th>\n",
       "      <th>CryoSleep</th>\n",
       "      <th>Destination</th>\n",
       "      <th>Age</th>\n",
       "      <th>VIP</th>\n",
       "      <th>RoomService</th>\n",
       "      <th>FoodCourt</th>\n",
       "      <th>ShoppingMall</th>\n",
       "      <th>Spa</th>\n",
       "      <th>VRDeck</th>\n",
       "      <th>Transported</th>\n",
       "    </tr>\n",
       "  </thead>\n",
       "  <tbody>\n",
       "    <tr>\n",
       "      <th>0</th>\n",
       "      <td>0</td>\n",
       "      <td>0</td>\n",
       "      <td>0</td>\n",
       "      <td>39.0</td>\n",
       "      <td>0</td>\n",
       "      <td>0.0</td>\n",
       "      <td>0.0</td>\n",
       "      <td>0.0</td>\n",
       "      <td>0.0</td>\n",
       "      <td>0.0</td>\n",
       "      <td>False</td>\n",
       "    </tr>\n",
       "    <tr>\n",
       "      <th>1</th>\n",
       "      <td>1</td>\n",
       "      <td>0</td>\n",
       "      <td>0</td>\n",
       "      <td>24.0</td>\n",
       "      <td>0</td>\n",
       "      <td>109.0</td>\n",
       "      <td>9.0</td>\n",
       "      <td>25.0</td>\n",
       "      <td>549.0</td>\n",
       "      <td>44.0</td>\n",
       "      <td>True</td>\n",
       "    </tr>\n",
       "    <tr>\n",
       "      <th>2</th>\n",
       "      <td>0</td>\n",
       "      <td>0</td>\n",
       "      <td>0</td>\n",
       "      <td>58.0</td>\n",
       "      <td>0</td>\n",
       "      <td>43.0</td>\n",
       "      <td>3576.0</td>\n",
       "      <td>0.0</td>\n",
       "      <td>6715.0</td>\n",
       "      <td>49.0</td>\n",
       "      <td>False</td>\n",
       "    </tr>\n",
       "  </tbody>\n",
       "</table>\n",
       "</div>"
      ],
      "text/plain": [
       "   HomePlanet  CryoSleep  Destination   Age  VIP  RoomService  FoodCourt  \\\n",
       "0           0          0            0  39.0    0          0.0        0.0   \n",
       "1           1          0            0  24.0    0        109.0        9.0   \n",
       "2           0          0            0  58.0    0         43.0     3576.0   \n",
       "\n",
       "   ShoppingMall     Spa  VRDeck  Transported  \n",
       "0           0.0     0.0     0.0        False  \n",
       "1          25.0   549.0    44.0         True  \n",
       "2           0.0  6715.0    49.0        False  "
      ]
     },
     "execution_count": 23,
     "metadata": {},
     "output_type": "execute_result"
    }
   ],
   "source": [
    "train_data.head(3)"
   ]
  },
  {
   "cell_type": "markdown",
   "id": "0661f79f",
   "metadata": {
    "papermill": {
     "duration": 0.009769,
     "end_time": "2023-07-17T11:32:30.385206",
     "exception": false,
     "start_time": "2023-07-17T11:32:30.375437",
     "status": "completed"
    },
    "tags": []
   },
   "source": [
    "# Training on a model with Random Forests"
   ]
  },
  {
   "cell_type": "code",
   "execution_count": 24,
   "id": "5725ac2f",
   "metadata": {
    "execution": {
     "iopub.execute_input": "2023-07-17T11:32:30.407196Z",
     "iopub.status.busy": "2023-07-17T11:32:30.406462Z",
     "iopub.status.idle": "2023-07-17T11:32:30.412321Z",
     "shell.execute_reply": "2023-07-17T11:32:30.411592Z"
    },
    "papermill": {
     "duration": 0.019177,
     "end_time": "2023-07-17T11:32:30.414346",
     "exception": false,
     "start_time": "2023-07-17T11:32:30.395169",
     "status": "completed"
    },
    "tags": []
   },
   "outputs": [],
   "source": [
    "X = train_data.drop('Transported', axis=1)\n",
    "y = train_data['Transported']"
   ]
  },
  {
   "cell_type": "markdown",
   "id": "7a792f6b",
   "metadata": {
    "papermill": {
     "duration": 0.009625,
     "end_time": "2023-07-17T11:32:30.434113",
     "exception": false,
     "start_time": "2023-07-17T11:32:30.424488",
     "status": "completed"
    },
    "tags": []
   },
   "source": [
    "**These hyperparameters were obtained by cross-checking**"
   ]
  },
  {
   "cell_type": "code",
   "execution_count": 25,
   "id": "df331cd0",
   "metadata": {
    "execution": {
     "iopub.execute_input": "2023-07-17T11:32:30.456292Z",
     "iopub.status.busy": "2023-07-17T11:32:30.455619Z",
     "iopub.status.idle": "2023-07-17T11:32:33.127136Z",
     "shell.execute_reply": "2023-07-17T11:32:33.125900Z"
    },
    "papermill": {
     "duration": 2.685774,
     "end_time": "2023-07-17T11:32:33.129888",
     "exception": false,
     "start_time": "2023-07-17T11:32:30.444114",
     "status": "completed"
    },
    "tags": []
   },
   "outputs": [],
   "source": [
    "from sklearn.ensemble import RandomForestClassifier\n",
    "from sklearn.model_selection import train_test_split\n",
    "\n",
    "X_train, X_test, y_train, y_test = train_test_split(X, y, test_size=0.25, random_state=101)\n",
    "rfc = RandomForestClassifier(max_features='sqrt', n_estimators=200).fit(X_train, y_train)"
   ]
  },
  {
   "cell_type": "markdown",
   "id": "847f22a9",
   "metadata": {
    "papermill": {
     "duration": 0.010572,
     "end_time": "2023-07-17T11:32:33.150851",
     "exception": false,
     "start_time": "2023-07-17T11:32:33.140279",
     "status": "completed"
    },
    "tags": []
   },
   "source": [
    "**the results are certainly not perfect, but beautiful**"
   ]
  },
  {
   "cell_type": "code",
   "execution_count": 26,
   "id": "141bc85e",
   "metadata": {
    "execution": {
     "iopub.execute_input": "2023-07-17T11:32:33.172996Z",
     "iopub.status.busy": "2023-07-17T11:32:33.172595Z",
     "iopub.status.idle": "2023-07-17T11:32:33.309758Z",
     "shell.execute_reply": "2023-07-17T11:32:33.308051Z"
    },
    "papermill": {
     "duration": 0.151212,
     "end_time": "2023-07-17T11:32:33.312430",
     "exception": false,
     "start_time": "2023-07-17T11:32:33.161218",
     "status": "completed"
    },
    "tags": []
   },
   "outputs": [
    {
     "name": "stdout",
     "output_type": "stream",
     "text": [
      "              precision    recall  f1-score   support\n",
      "\n",
      "       False       0.77      0.77      0.77      1088\n",
      "        True       0.77      0.77      0.77      1086\n",
      "\n",
      "    accuracy                           0.77      2174\n",
      "   macro avg       0.77      0.77      0.77      2174\n",
      "weighted avg       0.77      0.77      0.77      2174\n",
      "\n"
     ]
    }
   ],
   "source": [
    "from sklearn.metrics import classification_report\n",
    "\n",
    "pred_ = rfc.predict(X_test)\n",
    "print(classification_report(y_test, pred_))"
   ]
  }
 ],
 "metadata": {
  "kernelspec": {
   "display_name": "Python 3 (ipykernel)",
   "language": "python",
   "name": "python3"
  },
  "language_info": {
   "codemirror_mode": {
    "name": "ipython",
    "version": 3
   },
   "file_extension": ".py",
   "mimetype": "text/x-python",
   "name": "python",
   "nbconvert_exporter": "python",
   "pygments_lexer": "ipython3",
   "version": "3.11.5"
  },
  "papermill": {
   "default_parameters": {},
   "duration": 19.277429,
   "end_time": "2023-07-17T11:32:34.345306",
   "environment_variables": {},
   "exception": null,
   "input_path": "__notebook__.ipynb",
   "output_path": "__notebook__.ipynb",
   "parameters": {},
   "start_time": "2023-07-17T11:32:15.067877",
   "version": "2.4.0"
  }
 },
 "nbformat": 4,
 "nbformat_minor": 5
}
